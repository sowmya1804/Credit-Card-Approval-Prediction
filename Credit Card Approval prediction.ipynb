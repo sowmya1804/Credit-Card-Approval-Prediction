{
 "cells": [
  {
   "cell_type": "markdown",
   "id": "294007e6",
   "metadata": {},
   "source": [
    "Dataset link: https://www.kaggle.com/rikdifos/credit-card-approval-prediction\n",
    " ## Credit Card Approval Prediction\n",
    "Problem Statment - A Company wants to automate the Credit Card eligibility process based on customer detail provided while filling online application form & Credit history of customer.\n",
    "\n",
    "They have given a problem to identify the customers segments which are eligible for Credit Card approval, so that they can specifically target these customers."
   ]
  },
  {
   "cell_type": "markdown",
   "id": "ee979209",
   "metadata": {},
   "source": [
    "## Content \n",
    "\n",
    "File - Application Record.csv\n",
    "\n",
    "Feature name\t\n",
    "ID\t\n",
    "CODE_GENDER\n",
    "FLAG_OWN_CAR\t\n",
    "FLAG_OWN_REALTY\t\n",
    "CNT_CHILDREN\t\n",
    "AMT_INCOME_TOTAL\t\n",
    "NAME_INCOME_TYPE\t\n",
    "NAME_EDUCATION_TYPE\t\n",
    "NAME_FAMILY_STATUS\n",
    "NAME_HOUSING_TYPE\n",
    "DAYS_BIRTH\n",
    "DAYS_EMPLOYED\t\n",
    "FLAG_MOBIL\t\n",
    "FLAG_WORK_PHONE\t\n",
    "FLAG_PHONE\t\n",
    "FLAG_EMAIL\t\n",
    "OCCUPATION_TYPE\n",
    "CNT_FAM_MEMBERS\n",
    "\n",
    "Note -\n",
    "DAYS_BIRTH ---> Count backwards from current day (0), -1 means yesterday\n",
    "DAYS_EMPLOYED ---> Count backwards from current day(0). If positive, it means the person currently unemployed.\n",
    "\n",
    "File - Credit Record.csv\n",
    "\n",
    "Feature name\n",
    "ID\t\n",
    "MONTHS_BALANCE\t\n",
    "STATUS\n",
    "\n",
    "Note -\n",
    "MONTHS_BALANCE ---> The month of the extracted data is the starting point, backwards, 0 is the current month, -1 is the previous month, and so on.\n",
    "STATUS ---> 0: 1-29 days past due 1: 30-59 days past due 2: 60-89 days overdue 3: 90-119 days overdue 4: 120-149 days overdue 5: Overdue or bad debts, write-offs for more than 150 days C: paid off that month X: No loan for the month"
   ]
  },
  {
   "cell_type": "markdown",
   "id": "4e78608b",
   "metadata": {},
   "source": [
    "## Importing libraries"
   ]
  },
  {
   "cell_type": "code",
   "execution_count": 1,
   "id": "f1db5ac5",
   "metadata": {},
   "outputs": [],
   "source": [
    "import numpy as np\n",
    "import pandas as pd\n",
    "import matplotlib.pyplot as plt\n",
    "import seaborn as sns"
   ]
  },
  {
   "cell_type": "markdown",
   "id": "e4703964",
   "metadata": {},
   "source": [
    "## Loading dataset"
   ]
  },
  {
   "cell_type": "code",
   "execution_count": 2,
   "id": "127973ef",
   "metadata": {},
   "outputs": [],
   "source": [
    "app_df=pd.read_csv('Application Record.csv')"
   ]
  },
  {
   "cell_type": "code",
   "execution_count": 3,
   "id": "083b54f2",
   "metadata": {},
   "outputs": [],
   "source": [
    "credit_df=pd.read_csv('Credit Record.csv')"
   ]
  },
  {
   "cell_type": "markdown",
   "id": "f6d31392",
   "metadata": {},
   "source": [
    "## Exploratory Data Analysis"
   ]
  },
  {
   "cell_type": "code",
   "execution_count": 4,
   "id": "d80d9c9e",
   "metadata": {},
   "outputs": [
    {
     "data": {
      "text/plain": [
       "(438557, 18)"
      ]
     },
     "execution_count": 4,
     "metadata": {},
     "output_type": "execute_result"
    }
   ],
   "source": [
    "app_df.shape"
   ]
  },
  {
   "cell_type": "code",
   "execution_count": 5,
   "id": "1286e440",
   "metadata": {},
   "outputs": [
    {
     "data": {
      "text/html": [
       "<div>\n",
       "<style scoped>\n",
       "    .dataframe tbody tr th:only-of-type {\n",
       "        vertical-align: middle;\n",
       "    }\n",
       "\n",
       "    .dataframe tbody tr th {\n",
       "        vertical-align: top;\n",
       "    }\n",
       "\n",
       "    .dataframe thead th {\n",
       "        text-align: right;\n",
       "    }\n",
       "</style>\n",
       "<table border=\"1\" class=\"dataframe\">\n",
       "  <thead>\n",
       "    <tr style=\"text-align: right;\">\n",
       "      <th></th>\n",
       "      <th>ID</th>\n",
       "      <th>CODE_GENDER</th>\n",
       "      <th>FLAG_OWN_CAR</th>\n",
       "      <th>FLAG_OWN_REALTY</th>\n",
       "      <th>CNT_CHILDREN</th>\n",
       "      <th>AMT_INCOME_TOTAL</th>\n",
       "      <th>NAME_INCOME_TYPE</th>\n",
       "      <th>NAME_EDUCATION_TYPE</th>\n",
       "      <th>NAME_FAMILY_STATUS</th>\n",
       "      <th>NAME_HOUSING_TYPE</th>\n",
       "      <th>DAYS_BIRTH</th>\n",
       "      <th>DAYS_EMPLOYED</th>\n",
       "      <th>FLAG_MOBIL</th>\n",
       "      <th>FLAG_WORK_PHONE</th>\n",
       "      <th>FLAG_PHONE</th>\n",
       "      <th>FLAG_EMAIL</th>\n",
       "      <th>OCCUPATION_TYPE</th>\n",
       "      <th>CNT_FAM_MEMBERS</th>\n",
       "    </tr>\n",
       "  </thead>\n",
       "  <tbody>\n",
       "    <tr>\n",
       "      <th>0</th>\n",
       "      <td>5008804</td>\n",
       "      <td>M</td>\n",
       "      <td>Y</td>\n",
       "      <td>Y</td>\n",
       "      <td>0</td>\n",
       "      <td>427500.0</td>\n",
       "      <td>Working</td>\n",
       "      <td>Higher education</td>\n",
       "      <td>Civil marriage</td>\n",
       "      <td>Rented apartment</td>\n",
       "      <td>-12005</td>\n",
       "      <td>-4542</td>\n",
       "      <td>1</td>\n",
       "      <td>1</td>\n",
       "      <td>0</td>\n",
       "      <td>0</td>\n",
       "      <td>NaN</td>\n",
       "      <td>2</td>\n",
       "    </tr>\n",
       "    <tr>\n",
       "      <th>1</th>\n",
       "      <td>5008805</td>\n",
       "      <td>M</td>\n",
       "      <td>Y</td>\n",
       "      <td>Y</td>\n",
       "      <td>0</td>\n",
       "      <td>427500.0</td>\n",
       "      <td>Working</td>\n",
       "      <td>Higher education</td>\n",
       "      <td>Civil marriage</td>\n",
       "      <td>Rented apartment</td>\n",
       "      <td>-12005</td>\n",
       "      <td>-4542</td>\n",
       "      <td>1</td>\n",
       "      <td>1</td>\n",
       "      <td>0</td>\n",
       "      <td>0</td>\n",
       "      <td>NaN</td>\n",
       "      <td>2</td>\n",
       "    </tr>\n",
       "    <tr>\n",
       "      <th>2</th>\n",
       "      <td>5008806</td>\n",
       "      <td>M</td>\n",
       "      <td>Y</td>\n",
       "      <td>Y</td>\n",
       "      <td>0</td>\n",
       "      <td>112500.0</td>\n",
       "      <td>Working</td>\n",
       "      <td>Secondary / secondary special</td>\n",
       "      <td>Married</td>\n",
       "      <td>House / apartment</td>\n",
       "      <td>-21474</td>\n",
       "      <td>-1134</td>\n",
       "      <td>1</td>\n",
       "      <td>0</td>\n",
       "      <td>0</td>\n",
       "      <td>0</td>\n",
       "      <td>Security staff</td>\n",
       "      <td>2</td>\n",
       "    </tr>\n",
       "    <tr>\n",
       "      <th>3</th>\n",
       "      <td>5008808</td>\n",
       "      <td>F</td>\n",
       "      <td>N</td>\n",
       "      <td>Y</td>\n",
       "      <td>0</td>\n",
       "      <td>270000.0</td>\n",
       "      <td>Commercial associate</td>\n",
       "      <td>Secondary / secondary special</td>\n",
       "      <td>Single / not married</td>\n",
       "      <td>House / apartment</td>\n",
       "      <td>-19110</td>\n",
       "      <td>-3051</td>\n",
       "      <td>1</td>\n",
       "      <td>0</td>\n",
       "      <td>1</td>\n",
       "      <td>1</td>\n",
       "      <td>Sales staff</td>\n",
       "      <td>1</td>\n",
       "    </tr>\n",
       "    <tr>\n",
       "      <th>4</th>\n",
       "      <td>5008809</td>\n",
       "      <td>F</td>\n",
       "      <td>N</td>\n",
       "      <td>Y</td>\n",
       "      <td>0</td>\n",
       "      <td>270000.0</td>\n",
       "      <td>Commercial associate</td>\n",
       "      <td>Secondary / secondary special</td>\n",
       "      <td>Single / not married</td>\n",
       "      <td>House / apartment</td>\n",
       "      <td>-19110</td>\n",
       "      <td>-3051</td>\n",
       "      <td>1</td>\n",
       "      <td>0</td>\n",
       "      <td>1</td>\n",
       "      <td>1</td>\n",
       "      <td>Sales staff</td>\n",
       "      <td>1</td>\n",
       "    </tr>\n",
       "  </tbody>\n",
       "</table>\n",
       "</div>"
      ],
      "text/plain": [
       "        ID CODE_GENDER FLAG_OWN_CAR FLAG_OWN_REALTY  CNT_CHILDREN  \\\n",
       "0  5008804           M            Y               Y             0   \n",
       "1  5008805           M            Y               Y             0   \n",
       "2  5008806           M            Y               Y             0   \n",
       "3  5008808           F            N               Y             0   \n",
       "4  5008809           F            N               Y             0   \n",
       "\n",
       "   AMT_INCOME_TOTAL      NAME_INCOME_TYPE            NAME_EDUCATION_TYPE  \\\n",
       "0          427500.0               Working               Higher education   \n",
       "1          427500.0               Working               Higher education   \n",
       "2          112500.0               Working  Secondary / secondary special   \n",
       "3          270000.0  Commercial associate  Secondary / secondary special   \n",
       "4          270000.0  Commercial associate  Secondary / secondary special   \n",
       "\n",
       "     NAME_FAMILY_STATUS  NAME_HOUSING_TYPE  DAYS_BIRTH  DAYS_EMPLOYED  \\\n",
       "0        Civil marriage   Rented apartment      -12005          -4542   \n",
       "1        Civil marriage   Rented apartment      -12005          -4542   \n",
       "2               Married  House / apartment      -21474          -1134   \n",
       "3  Single / not married  House / apartment      -19110          -3051   \n",
       "4  Single / not married  House / apartment      -19110          -3051   \n",
       "\n",
       "   FLAG_MOBIL  FLAG_WORK_PHONE  FLAG_PHONE  FLAG_EMAIL OCCUPATION_TYPE  \\\n",
       "0           1                1           0           0             NaN   \n",
       "1           1                1           0           0             NaN   \n",
       "2           1                0           0           0  Security staff   \n",
       "3           1                0           1           1     Sales staff   \n",
       "4           1                0           1           1     Sales staff   \n",
       "\n",
       "   CNT_FAM_MEMBERS  \n",
       "0                2  \n",
       "1                2  \n",
       "2                2  \n",
       "3                1  \n",
       "4                1  "
      ]
     },
     "execution_count": 5,
     "metadata": {},
     "output_type": "execute_result"
    }
   ],
   "source": [
    "app_df.head()"
   ]
  },
  {
   "cell_type": "code",
   "execution_count": 6,
   "id": "f4b1ddab",
   "metadata": {},
   "outputs": [
    {
     "name": "stdout",
     "output_type": "stream",
     "text": [
      "<class 'pandas.core.frame.DataFrame'>\n",
      "RangeIndex: 438557 entries, 0 to 438556\n",
      "Data columns (total 18 columns):\n",
      " #   Column               Non-Null Count   Dtype  \n",
      "---  ------               --------------   -----  \n",
      " 0   ID                   438557 non-null  int64  \n",
      " 1   CODE_GENDER          438557 non-null  object \n",
      " 2   FLAG_OWN_CAR         438557 non-null  object \n",
      " 3   FLAG_OWN_REALTY      438557 non-null  object \n",
      " 4   CNT_CHILDREN         438557 non-null  int64  \n",
      " 5   AMT_INCOME_TOTAL     438557 non-null  float64\n",
      " 6   NAME_INCOME_TYPE     438557 non-null  object \n",
      " 7   NAME_EDUCATION_TYPE  438557 non-null  object \n",
      " 8   NAME_FAMILY_STATUS   438557 non-null  object \n",
      " 9   NAME_HOUSING_TYPE    438557 non-null  object \n",
      " 10  DAYS_BIRTH           438557 non-null  int64  \n",
      " 11  DAYS_EMPLOYED        438557 non-null  int64  \n",
      " 12  FLAG_MOBIL           438557 non-null  int64  \n",
      " 13  FLAG_WORK_PHONE      438557 non-null  int64  \n",
      " 14  FLAG_PHONE           438557 non-null  int64  \n",
      " 15  FLAG_EMAIL           438557 non-null  int64  \n",
      " 16  OCCUPATION_TYPE      304354 non-null  object \n",
      " 17  CNT_FAM_MEMBERS      438557 non-null  int64  \n",
      "dtypes: float64(1), int64(9), object(8)\n",
      "memory usage: 60.2+ MB\n"
     ]
    }
   ],
   "source": [
    "app_df.info()"
   ]
  },
  {
   "cell_type": "code",
   "execution_count": 7,
   "id": "822a56fd",
   "metadata": {},
   "outputs": [
    {
     "data": {
      "text/plain": [
       "(1048575, 3)"
      ]
     },
     "execution_count": 7,
     "metadata": {},
     "output_type": "execute_result"
    }
   ],
   "source": [
    "credit_df.shape"
   ]
  },
  {
   "cell_type": "code",
   "execution_count": 8,
   "id": "8fecf67c",
   "metadata": {},
   "outputs": [
    {
     "name": "stdout",
     "output_type": "stream",
     "text": [
      "<class 'pandas.core.frame.DataFrame'>\n",
      "RangeIndex: 1048575 entries, 0 to 1048574\n",
      "Data columns (total 3 columns):\n",
      " #   Column          Non-Null Count    Dtype \n",
      "---  ------          --------------    ----- \n",
      " 0   ID              1048575 non-null  int64 \n",
      " 1   MONTHS_BALANCE  1048575 non-null  int64 \n",
      " 2   STATUS          1048575 non-null  object\n",
      "dtypes: int64(2), object(1)\n",
      "memory usage: 24.0+ MB\n"
     ]
    }
   ],
   "source": [
    "credit_df.info()"
   ]
  },
  {
   "cell_type": "markdown",
   "id": "f2e5c027",
   "metadata": {},
   "source": [
    "## on file: Application Record.csv "
   ]
  },
  {
   "cell_type": "code",
   "execution_count": 9,
   "id": "b1504407",
   "metadata": {},
   "outputs": [
    {
     "data": {
      "text/html": [
       "<div>\n",
       "<style scoped>\n",
       "    .dataframe tbody tr th:only-of-type {\n",
       "        vertical-align: middle;\n",
       "    }\n",
       "\n",
       "    .dataframe tbody tr th {\n",
       "        vertical-align: top;\n",
       "    }\n",
       "\n",
       "    .dataframe thead th {\n",
       "        text-align: right;\n",
       "    }\n",
       "</style>\n",
       "<table border=\"1\" class=\"dataframe\">\n",
       "  <thead>\n",
       "    <tr style=\"text-align: right;\">\n",
       "      <th></th>\n",
       "      <th>ID</th>\n",
       "      <th>CNT_CHILDREN</th>\n",
       "      <th>AMT_INCOME_TOTAL</th>\n",
       "      <th>DAYS_BIRTH</th>\n",
       "      <th>DAYS_EMPLOYED</th>\n",
       "      <th>FLAG_MOBIL</th>\n",
       "      <th>FLAG_WORK_PHONE</th>\n",
       "      <th>FLAG_PHONE</th>\n",
       "      <th>FLAG_EMAIL</th>\n",
       "      <th>CNT_FAM_MEMBERS</th>\n",
       "    </tr>\n",
       "  </thead>\n",
       "  <tbody>\n",
       "    <tr>\n",
       "      <th>count</th>\n",
       "      <td>4.385570e+05</td>\n",
       "      <td>438557.000000</td>\n",
       "      <td>4.385570e+05</td>\n",
       "      <td>438557.000000</td>\n",
       "      <td>438557.000000</td>\n",
       "      <td>438557.0</td>\n",
       "      <td>438557.000000</td>\n",
       "      <td>438557.000000</td>\n",
       "      <td>438557.000000</td>\n",
       "      <td>438557.000000</td>\n",
       "    </tr>\n",
       "    <tr>\n",
       "      <th>mean</th>\n",
       "      <td>6.022176e+06</td>\n",
       "      <td>0.427390</td>\n",
       "      <td>1.875243e+05</td>\n",
       "      <td>-15997.904649</td>\n",
       "      <td>60563.675328</td>\n",
       "      <td>1.0</td>\n",
       "      <td>0.206133</td>\n",
       "      <td>0.287771</td>\n",
       "      <td>0.108207</td>\n",
       "      <td>2.194465</td>\n",
       "    </tr>\n",
       "    <tr>\n",
       "      <th>std</th>\n",
       "      <td>5.716370e+05</td>\n",
       "      <td>0.724882</td>\n",
       "      <td>1.100869e+05</td>\n",
       "      <td>4185.030007</td>\n",
       "      <td>138767.799647</td>\n",
       "      <td>0.0</td>\n",
       "      <td>0.404527</td>\n",
       "      <td>0.452724</td>\n",
       "      <td>0.310642</td>\n",
       "      <td>0.897207</td>\n",
       "    </tr>\n",
       "    <tr>\n",
       "      <th>min</th>\n",
       "      <td>5.008804e+06</td>\n",
       "      <td>0.000000</td>\n",
       "      <td>2.610000e+04</td>\n",
       "      <td>-25201.000000</td>\n",
       "      <td>-17531.000000</td>\n",
       "      <td>1.0</td>\n",
       "      <td>0.000000</td>\n",
       "      <td>0.000000</td>\n",
       "      <td>0.000000</td>\n",
       "      <td>1.000000</td>\n",
       "    </tr>\n",
       "    <tr>\n",
       "      <th>25%</th>\n",
       "      <td>5.609375e+06</td>\n",
       "      <td>0.000000</td>\n",
       "      <td>1.215000e+05</td>\n",
       "      <td>-19483.000000</td>\n",
       "      <td>-3103.000000</td>\n",
       "      <td>1.0</td>\n",
       "      <td>0.000000</td>\n",
       "      <td>0.000000</td>\n",
       "      <td>0.000000</td>\n",
       "      <td>2.000000</td>\n",
       "    </tr>\n",
       "    <tr>\n",
       "      <th>50%</th>\n",
       "      <td>6.047745e+06</td>\n",
       "      <td>0.000000</td>\n",
       "      <td>1.607805e+05</td>\n",
       "      <td>-15630.000000</td>\n",
       "      <td>-1467.000000</td>\n",
       "      <td>1.0</td>\n",
       "      <td>0.000000</td>\n",
       "      <td>0.000000</td>\n",
       "      <td>0.000000</td>\n",
       "      <td>2.000000</td>\n",
       "    </tr>\n",
       "    <tr>\n",
       "      <th>75%</th>\n",
       "      <td>6.456971e+06</td>\n",
       "      <td>1.000000</td>\n",
       "      <td>2.250000e+05</td>\n",
       "      <td>-12514.000000</td>\n",
       "      <td>-371.000000</td>\n",
       "      <td>1.0</td>\n",
       "      <td>0.000000</td>\n",
       "      <td>1.000000</td>\n",
       "      <td>0.000000</td>\n",
       "      <td>3.000000</td>\n",
       "    </tr>\n",
       "    <tr>\n",
       "      <th>max</th>\n",
       "      <td>7.999952e+06</td>\n",
       "      <td>19.000000</td>\n",
       "      <td>6.750000e+06</td>\n",
       "      <td>-7489.000000</td>\n",
       "      <td>365243.000000</td>\n",
       "      <td>1.0</td>\n",
       "      <td>1.000000</td>\n",
       "      <td>1.000000</td>\n",
       "      <td>1.000000</td>\n",
       "      <td>20.000000</td>\n",
       "    </tr>\n",
       "  </tbody>\n",
       "</table>\n",
       "</div>"
      ],
      "text/plain": [
       "                 ID   CNT_CHILDREN  AMT_INCOME_TOTAL     DAYS_BIRTH  \\\n",
       "count  4.385570e+05  438557.000000      4.385570e+05  438557.000000   \n",
       "mean   6.022176e+06       0.427390      1.875243e+05  -15997.904649   \n",
       "std    5.716370e+05       0.724882      1.100869e+05    4185.030007   \n",
       "min    5.008804e+06       0.000000      2.610000e+04  -25201.000000   \n",
       "25%    5.609375e+06       0.000000      1.215000e+05  -19483.000000   \n",
       "50%    6.047745e+06       0.000000      1.607805e+05  -15630.000000   \n",
       "75%    6.456971e+06       1.000000      2.250000e+05  -12514.000000   \n",
       "max    7.999952e+06      19.000000      6.750000e+06   -7489.000000   \n",
       "\n",
       "       DAYS_EMPLOYED  FLAG_MOBIL  FLAG_WORK_PHONE     FLAG_PHONE  \\\n",
       "count  438557.000000    438557.0    438557.000000  438557.000000   \n",
       "mean    60563.675328         1.0         0.206133       0.287771   \n",
       "std    138767.799647         0.0         0.404527       0.452724   \n",
       "min    -17531.000000         1.0         0.000000       0.000000   \n",
       "25%     -3103.000000         1.0         0.000000       0.000000   \n",
       "50%     -1467.000000         1.0         0.000000       0.000000   \n",
       "75%      -371.000000         1.0         0.000000       1.000000   \n",
       "max    365243.000000         1.0         1.000000       1.000000   \n",
       "\n",
       "          FLAG_EMAIL  CNT_FAM_MEMBERS  \n",
       "count  438557.000000    438557.000000  \n",
       "mean        0.108207         2.194465  \n",
       "std         0.310642         0.897207  \n",
       "min         0.000000         1.000000  \n",
       "25%         0.000000         2.000000  \n",
       "50%         0.000000         2.000000  \n",
       "75%         0.000000         3.000000  \n",
       "max         1.000000        20.000000  "
      ]
     },
     "execution_count": 9,
     "metadata": {},
     "output_type": "execute_result"
    }
   ],
   "source": [
    "app_df.describe()"
   ]
  },
  {
   "cell_type": "code",
   "execution_count": 10,
   "id": "9c8e9736",
   "metadata": {},
   "outputs": [
    {
     "data": {
      "text/plain": [
       "ID                          0\n",
       "CODE_GENDER                 0\n",
       "FLAG_OWN_CAR                0\n",
       "FLAG_OWN_REALTY             0\n",
       "CNT_CHILDREN                0\n",
       "AMT_INCOME_TOTAL            0\n",
       "NAME_INCOME_TYPE            0\n",
       "NAME_EDUCATION_TYPE         0\n",
       "NAME_FAMILY_STATUS          0\n",
       "NAME_HOUSING_TYPE           0\n",
       "DAYS_BIRTH                  0\n",
       "DAYS_EMPLOYED               0\n",
       "FLAG_MOBIL                  0\n",
       "FLAG_WORK_PHONE             0\n",
       "FLAG_PHONE                  0\n",
       "FLAG_EMAIL                  0\n",
       "OCCUPATION_TYPE        134203\n",
       "CNT_FAM_MEMBERS             0\n",
       "dtype: int64"
      ]
     },
     "execution_count": 10,
     "metadata": {},
     "output_type": "execute_result"
    }
   ],
   "source": [
    "app_df.isnull().sum()"
   ]
  },
  {
   "cell_type": "code",
   "execution_count": 11,
   "id": "a68de474",
   "metadata": {},
   "outputs": [],
   "source": [
    "# dropping occupation type which has many null values\n",
    "app_df.drop('OCCUPATION_TYPE', axis=1, inplace=True)"
   ]
  },
  {
   "cell_type": "code",
   "execution_count": 12,
   "id": "683e1b2c",
   "metadata": {},
   "outputs": [
    {
     "data": {
      "text/plain": [
       "438510"
      ]
     },
     "execution_count": 12,
     "metadata": {},
     "output_type": "execute_result"
    }
   ],
   "source": [
    "app_df['ID'].nunique()"
   ]
  },
  {
   "cell_type": "code",
   "execution_count": 13,
   "id": "7755dcfa",
   "metadata": {},
   "outputs": [
    {
     "data": {
      "text/plain": [
       "47"
      ]
     },
     "execution_count": 13,
     "metadata": {},
     "output_type": "execute_result"
    }
   ],
   "source": [
    "# Checking duplicates in 'ID' column\n",
    "len(app_df['ID']) - len(app_df['ID'].unique())"
   ]
  },
  {
   "cell_type": "code",
   "execution_count": 14,
   "id": "6e0fec20",
   "metadata": {},
   "outputs": [],
   "source": [
    "# Dropping duplicate entries from ID column\n",
    "app_df = app_df.drop_duplicates('ID') "
   ]
  },
  {
   "cell_type": "code",
   "execution_count": 15,
   "id": "c803eb41",
   "metadata": {},
   "outputs": [
    {
     "data": {
      "text/plain": [
       "0"
      ]
     },
     "execution_count": 15,
     "metadata": {},
     "output_type": "execute_result"
    }
   ],
   "source": [
    "len(app_df['ID']) - len(app_df['ID'].unique())"
   ]
  },
  {
   "cell_type": "code",
   "execution_count": 16,
   "id": "086ce656",
   "metadata": {},
   "outputs": [
    {
     "data": {
      "text/plain": [
       "['CODE_GENDER',\n",
       " 'FLAG_OWN_CAR',\n",
       " 'FLAG_OWN_REALTY',\n",
       " 'NAME_INCOME_TYPE',\n",
       " 'NAME_EDUCATION_TYPE',\n",
       " 'NAME_FAMILY_STATUS',\n",
       " 'NAME_HOUSING_TYPE']"
      ]
     },
     "execution_count": 16,
     "metadata": {},
     "output_type": "execute_result"
    }
   ],
   "source": [
    "# Checking Non-Numerical Columns\n",
    "cat_columns = app_df.columns[(app_df.dtypes =='object').values].tolist()\n",
    "cat_columns"
   ]
  },
  {
   "cell_type": "code",
   "execution_count": 17,
   "id": "e83d0e29",
   "metadata": {},
   "outputs": [
    {
     "data": {
      "text/plain": [
       "['ID',\n",
       " 'CNT_CHILDREN',\n",
       " 'AMT_INCOME_TOTAL',\n",
       " 'DAYS_BIRTH',\n",
       " 'DAYS_EMPLOYED',\n",
       " 'FLAG_MOBIL',\n",
       " 'FLAG_WORK_PHONE',\n",
       " 'FLAG_PHONE',\n",
       " 'FLAG_EMAIL',\n",
       " 'CNT_FAM_MEMBERS']"
      ]
     },
     "execution_count": 17,
     "metadata": {},
     "output_type": "execute_result"
    }
   ],
   "source": [
    "# Checking Numerical Columns\n",
    "app_df.columns[(app_df.dtypes !='object').values].tolist()"
   ]
  },
  {
   "cell_type": "code",
   "execution_count": 18,
   "id": "056f01c8",
   "metadata": {},
   "outputs": [
    {
     "name": "stdout",
     "output_type": "stream",
     "text": [
      "CODE_GENDER \n",
      "\n",
      "F    294406\n",
      "M    144104\n",
      "Name: CODE_GENDER, dtype: int64\n",
      "FLAG_OWN_CAR \n",
      "\n",
      "N    275427\n",
      "Y    163083\n",
      "Name: FLAG_OWN_CAR, dtype: int64\n",
      "FLAG_OWN_REALTY \n",
      "\n",
      "Y    304040\n",
      "N    134470\n",
      "Name: FLAG_OWN_REALTY, dtype: int64\n",
      "NAME_INCOME_TYPE \n",
      "\n",
      "Working                 226076\n",
      "Commercial associate    100744\n",
      "Pensioner                75488\n",
      "State servant            36185\n",
      "Student                     17\n",
      "Name: NAME_INCOME_TYPE, dtype: int64\n",
      "NAME_EDUCATION_TYPE \n",
      "\n",
      "Secondary / secondary special    301788\n",
      "Higher education                 117512\n",
      "Incomplete higher                 14847\n",
      "Lower secondary                    4051\n",
      "Academic degree                     312\n",
      "Name: NAME_EDUCATION_TYPE, dtype: int64\n",
      "NAME_FAMILY_STATUS \n",
      "\n",
      "Married                 299798\n",
      "Single / not married     55258\n",
      "Civil marriage           36529\n",
      "Separated                27251\n",
      "Widow                    19674\n",
      "Name: NAME_FAMILY_STATUS, dtype: int64\n",
      "NAME_HOUSING_TYPE \n",
      "\n",
      "House / apartment      393791\n",
      "With parents            19075\n",
      "Municipal apartment     14212\n",
      "Rented apartment         5973\n",
      "Office apartment         3920\n",
      "Co-op apartment          1539\n",
      "Name: NAME_HOUSING_TYPE, dtype: int64\n"
     ]
    }
   ],
   "source": [
    "# Checking unique values from Categorical Columns\n",
    "\n",
    "for i in app_df.columns[(app_df.dtypes =='object').values].tolist():\n",
    "    print(i,'\\n')\n",
    "    print(app_df[i].value_counts())"
   ]
  },
  {
   "cell_type": "code",
   "execution_count": 19,
   "id": "99511d1b",
   "metadata": {},
   "outputs": [],
   "source": [
    "# Checking unique values from Numerical Columns"
   ]
  },
  {
   "cell_type": "code",
   "execution_count": 20,
   "id": "c6f35fe5",
   "metadata": {},
   "outputs": [
    {
     "data": {
      "text/plain": [
       "0     304040\n",
       "1      88518\n",
       "2      39878\n",
       "3       5429\n",
       "4        486\n",
       "5        133\n",
       "7          9\n",
       "9          5\n",
       "6          4\n",
       "12         4\n",
       "14         3\n",
       "19         1\n",
       "Name: CNT_CHILDREN, dtype: int64"
      ]
     },
     "execution_count": 20,
     "metadata": {},
     "output_type": "execute_result"
    }
   ],
   "source": [
    "app_df['CNT_CHILDREN'].value_counts()"
   ]
  },
  {
   "cell_type": "code",
   "execution_count": 21,
   "id": "9876c263",
   "metadata": {},
   "outputs": [
    {
     "name": "stdout",
     "output_type": "stream",
     "text": [
      "Min DAYS_BIRTH : -25201 \n",
      "Max DAYS_BIRTH : -7489\n"
     ]
    }
   ],
   "source": [
    "# Checking Min , Max values from 'DAYS_BIRTH' column\n",
    "print('Min DAYS_BIRTH :', app_df['DAYS_BIRTH'].min(),'\\nMax DAYS_BIRTH :', app_df['DAYS_BIRTH'].max())"
   ]
  },
  {
   "cell_type": "code",
   "execution_count": 22,
   "id": "5d8a64e3",
   "metadata": {},
   "outputs": [],
   "source": [
    "# Converting 'DAYS_BIRTH' values from Day to Years and renaming days birth column name to age years\n",
    "app_df['DAYS_BIRTH'] = round(app_df['DAYS_BIRTH']/-365,0)\n",
    "app_df.rename(columns={'DAYS_BIRTH':'AGE_YEARS'}, inplace=True)"
   ]
  },
  {
   "cell_type": "code",
   "execution_count": 23,
   "id": "cab6afa6",
   "metadata": {},
   "outputs": [
    {
     "data": {
      "text/plain": [
       "array([365243], dtype=int64)"
      ]
     },
     "execution_count": 23,
     "metadata": {},
     "output_type": "execute_result"
    }
   ],
   "source": [
    "# Checking unique values greater than 0\n",
    "app_df[app_df['DAYS_EMPLOYED']>0]['DAYS_EMPLOYED'].unique()"
   ]
  },
  {
   "cell_type": "code",
   "execution_count": 24,
   "id": "299842f7",
   "metadata": {},
   "outputs": [],
   "source": [
    "# As mentioned in document, if 'DAYS_EMPLOYED' is positive no, it means person currently unemployed, hence replacing it with 0\n",
    "app_df['DAYS_EMPLOYED'].replace(365243, 0, inplace=True)"
   ]
  },
  {
   "cell_type": "code",
   "execution_count": 25,
   "id": "f6f71e2a",
   "metadata": {},
   "outputs": [],
   "source": [
    "# Converting 'DAYS_EMPLOYED' values from Day to Years\n",
    "app_df['DAYS_EMPLOYED'] = abs(round(app_df['DAYS_EMPLOYED']/-365,0))\n",
    "app_df.rename(columns={'DAYS_EMPLOYED':'YEARS_EMPLOYED'}, inplace=True)   "
   ]
  },
  {
   "cell_type": "code",
   "execution_count": 26,
   "id": "9e7b1a81",
   "metadata": {},
   "outputs": [
    {
     "data": {
      "text/plain": [
       "1    438510\n",
       "Name: FLAG_MOBIL, dtype: int64"
      ]
     },
     "execution_count": 26,
     "metadata": {},
     "output_type": "execute_result"
    }
   ],
   "source": [
    "app_df['FLAG_MOBIL'].value_counts()"
   ]
  },
  {
   "cell_type": "code",
   "execution_count": 27,
   "id": "63724852",
   "metadata": {},
   "outputs": [],
   "source": [
    "# As all the values in column are 1, hence dropping column\n",
    "app_df.drop('FLAG_MOBIL', axis=1, inplace=True)"
   ]
  },
  {
   "cell_type": "code",
   "execution_count": 28,
   "id": "77f43186",
   "metadata": {},
   "outputs": [
    {
     "data": {
      "text/plain": [
       "0    348121\n",
       "1     90389\n",
       "Name: FLAG_WORK_PHONE, dtype: int64"
      ]
     },
     "execution_count": 28,
     "metadata": {},
     "output_type": "execute_result"
    }
   ],
   "source": [
    "app_df['FLAG_WORK_PHONE'].value_counts()"
   ]
  },
  {
   "cell_type": "code",
   "execution_count": 29,
   "id": "ca941d9b",
   "metadata": {},
   "outputs": [],
   "source": [
    "# This column only contains 0 & 1 values for Mobile no submitted, hence dropping column\n",
    "app_df.drop('FLAG_WORK_PHONE', axis=1, inplace=True)"
   ]
  },
  {
   "cell_type": "code",
   "execution_count": 30,
   "id": "3c56f789",
   "metadata": {},
   "outputs": [
    {
     "data": {
      "text/plain": [
       "0    312320\n",
       "1    126190\n",
       "Name: FLAG_PHONE, dtype: int64"
      ]
     },
     "execution_count": 30,
     "metadata": {},
     "output_type": "execute_result"
    }
   ],
   "source": [
    "app_df['FLAG_PHONE'].value_counts()"
   ]
  },
  {
   "cell_type": "code",
   "execution_count": 31,
   "id": "984ce037",
   "metadata": {},
   "outputs": [],
   "source": [
    "# This column only contains 0 & 1 values for Phone no submitted, hence dropping column\n",
    "app_df.drop('FLAG_PHONE', axis=1, inplace=True)"
   ]
  },
  {
   "cell_type": "code",
   "execution_count": 32,
   "id": "041c1f77",
   "metadata": {},
   "outputs": [
    {
     "data": {
      "text/plain": [
       "0    391063\n",
       "1     47447\n",
       "Name: FLAG_EMAIL, dtype: int64"
      ]
     },
     "execution_count": 32,
     "metadata": {},
     "output_type": "execute_result"
    }
   ],
   "source": [
    "app_df['FLAG_EMAIL'].value_counts()"
   ]
  },
  {
   "cell_type": "code",
   "execution_count": 33,
   "id": "c66c3446",
   "metadata": {},
   "outputs": [],
   "source": [
    "# This column only contains 0 & 1 values for Email submitted, hence dropping column\n",
    "app_df.drop('FLAG_EMAIL', axis=1, inplace=True)"
   ]
  },
  {
   "cell_type": "code",
   "execution_count": 34,
   "id": "5a2d06dc",
   "metadata": {},
   "outputs": [
    {
     "data": {
      "text/plain": [
       "2     233870\n",
       "1      84480\n",
       "3      77121\n",
       "4      37350\n",
       "5       5080\n",
       "6        459\n",
       "7        124\n",
       "9          9\n",
       "11         5\n",
       "8          4\n",
       "14         4\n",
       "15         3\n",
       "20         1\n",
       "Name: CNT_FAM_MEMBERS, dtype: int64"
      ]
     },
     "execution_count": 34,
     "metadata": {},
     "output_type": "execute_result"
    }
   ],
   "source": [
    "app_df['CNT_FAM_MEMBERS'].value_counts()"
   ]
  },
  {
   "cell_type": "code",
   "execution_count": 35,
   "id": "ab8469d5",
   "metadata": {},
   "outputs": [
    {
     "data": {
      "text/html": [
       "<div>\n",
       "<style scoped>\n",
       "    .dataframe tbody tr th:only-of-type {\n",
       "        vertical-align: middle;\n",
       "    }\n",
       "\n",
       "    .dataframe tbody tr th {\n",
       "        vertical-align: top;\n",
       "    }\n",
       "\n",
       "    .dataframe thead th {\n",
       "        text-align: right;\n",
       "    }\n",
       "</style>\n",
       "<table border=\"1\" class=\"dataframe\">\n",
       "  <thead>\n",
       "    <tr style=\"text-align: right;\">\n",
       "      <th></th>\n",
       "      <th>ID</th>\n",
       "      <th>CODE_GENDER</th>\n",
       "      <th>FLAG_OWN_CAR</th>\n",
       "      <th>FLAG_OWN_REALTY</th>\n",
       "      <th>CNT_CHILDREN</th>\n",
       "      <th>AMT_INCOME_TOTAL</th>\n",
       "      <th>NAME_INCOME_TYPE</th>\n",
       "      <th>NAME_EDUCATION_TYPE</th>\n",
       "      <th>NAME_FAMILY_STATUS</th>\n",
       "      <th>NAME_HOUSING_TYPE</th>\n",
       "      <th>AGE_YEARS</th>\n",
       "      <th>YEARS_EMPLOYED</th>\n",
       "      <th>CNT_FAM_MEMBERS</th>\n",
       "    </tr>\n",
       "  </thead>\n",
       "  <tbody>\n",
       "    <tr>\n",
       "      <th>0</th>\n",
       "      <td>5008804</td>\n",
       "      <td>M</td>\n",
       "      <td>Y</td>\n",
       "      <td>Y</td>\n",
       "      <td>0</td>\n",
       "      <td>427500.0</td>\n",
       "      <td>Working</td>\n",
       "      <td>Higher education</td>\n",
       "      <td>Civil marriage</td>\n",
       "      <td>Rented apartment</td>\n",
       "      <td>33.0</td>\n",
       "      <td>12.0</td>\n",
       "      <td>2</td>\n",
       "    </tr>\n",
       "    <tr>\n",
       "      <th>1</th>\n",
       "      <td>5008805</td>\n",
       "      <td>M</td>\n",
       "      <td>Y</td>\n",
       "      <td>Y</td>\n",
       "      <td>0</td>\n",
       "      <td>427500.0</td>\n",
       "      <td>Working</td>\n",
       "      <td>Higher education</td>\n",
       "      <td>Civil marriage</td>\n",
       "      <td>Rented apartment</td>\n",
       "      <td>33.0</td>\n",
       "      <td>12.0</td>\n",
       "      <td>2</td>\n",
       "    </tr>\n",
       "    <tr>\n",
       "      <th>2</th>\n",
       "      <td>5008806</td>\n",
       "      <td>M</td>\n",
       "      <td>Y</td>\n",
       "      <td>Y</td>\n",
       "      <td>0</td>\n",
       "      <td>112500.0</td>\n",
       "      <td>Working</td>\n",
       "      <td>Secondary / secondary special</td>\n",
       "      <td>Married</td>\n",
       "      <td>House / apartment</td>\n",
       "      <td>59.0</td>\n",
       "      <td>3.0</td>\n",
       "      <td>2</td>\n",
       "    </tr>\n",
       "    <tr>\n",
       "      <th>3</th>\n",
       "      <td>5008808</td>\n",
       "      <td>F</td>\n",
       "      <td>N</td>\n",
       "      <td>Y</td>\n",
       "      <td>0</td>\n",
       "      <td>270000.0</td>\n",
       "      <td>Commercial associate</td>\n",
       "      <td>Secondary / secondary special</td>\n",
       "      <td>Single / not married</td>\n",
       "      <td>House / apartment</td>\n",
       "      <td>52.0</td>\n",
       "      <td>8.0</td>\n",
       "      <td>1</td>\n",
       "    </tr>\n",
       "    <tr>\n",
       "      <th>4</th>\n",
       "      <td>5008809</td>\n",
       "      <td>F</td>\n",
       "      <td>N</td>\n",
       "      <td>Y</td>\n",
       "      <td>0</td>\n",
       "      <td>270000.0</td>\n",
       "      <td>Commercial associate</td>\n",
       "      <td>Secondary / secondary special</td>\n",
       "      <td>Single / not married</td>\n",
       "      <td>House / apartment</td>\n",
       "      <td>52.0</td>\n",
       "      <td>8.0</td>\n",
       "      <td>1</td>\n",
       "    </tr>\n",
       "  </tbody>\n",
       "</table>\n",
       "</div>"
      ],
      "text/plain": [
       "        ID CODE_GENDER FLAG_OWN_CAR FLAG_OWN_REALTY  CNT_CHILDREN  \\\n",
       "0  5008804           M            Y               Y             0   \n",
       "1  5008805           M            Y               Y             0   \n",
       "2  5008806           M            Y               Y             0   \n",
       "3  5008808           F            N               Y             0   \n",
       "4  5008809           F            N               Y             0   \n",
       "\n",
       "   AMT_INCOME_TOTAL      NAME_INCOME_TYPE            NAME_EDUCATION_TYPE  \\\n",
       "0          427500.0               Working               Higher education   \n",
       "1          427500.0               Working               Higher education   \n",
       "2          112500.0               Working  Secondary / secondary special   \n",
       "3          270000.0  Commercial associate  Secondary / secondary special   \n",
       "4          270000.0  Commercial associate  Secondary / secondary special   \n",
       "\n",
       "     NAME_FAMILY_STATUS  NAME_HOUSING_TYPE  AGE_YEARS  YEARS_EMPLOYED  \\\n",
       "0        Civil marriage   Rented apartment       33.0            12.0   \n",
       "1        Civil marriage   Rented apartment       33.0            12.0   \n",
       "2               Married  House / apartment       59.0             3.0   \n",
       "3  Single / not married  House / apartment       52.0             8.0   \n",
       "4  Single / not married  House / apartment       52.0             8.0   \n",
       "\n",
       "   CNT_FAM_MEMBERS  \n",
       "0                2  \n",
       "1                2  \n",
       "2                2  \n",
       "3                1  \n",
       "4                1  "
      ]
     },
     "execution_count": 35,
     "metadata": {},
     "output_type": "execute_result"
    }
   ],
   "source": [
    "app_df.head()"
   ]
  },
  {
   "cell_type": "markdown",
   "id": "31bd6b12",
   "metadata": {},
   "source": [
    "# Detecting Outliers"
   ]
  },
  {
   "cell_type": "code",
   "execution_count": 36,
   "id": "70e72faa",
   "metadata": {},
   "outputs": [
    {
     "name": "stderr",
     "output_type": "stream",
     "text": [
      "C:\\Users\\SAI SOWMYA\\Anaconda3\\lib\\site-packages\\seaborn\\_decorators.py:36: FutureWarning: Pass the following variable as a keyword arg: x. From version 0.12, the only valid positional argument will be `data`, and passing other arguments without an explicit keyword will result in an error or misinterpretation.\n",
      "  warnings.warn(\n"
     ]
    },
    {
     "data": {
      "text/plain": [
       "<AxesSubplot:xlabel='CNT_CHILDREN'>"
      ]
     },
     "execution_count": 36,
     "metadata": {},
     "output_type": "execute_result"
    },
    {
     "data": {
      "image/png": "[encoded data removed]",
      "text/plain": [
       "<Figure size 432x288 with 1 Axes>"
      ]
     },
     "metadata": {
      "needs_background": "light"
     },
     "output_type": "display_data"
    }
   ],
   "source": [
    "#create plot to detect outliers\n",
    "sns.boxplot(app_df['CNT_CHILDREN'])"
   ]
  },
  {
   "cell_type": "code",
   "execution_count": 37,
   "id": "063ca2c8",
   "metadata": {},
   "outputs": [
    {
     "name": "stderr",
     "output_type": "stream",
     "text": [
      "C:\\Users\\SAI SOWMYA\\Anaconda3\\lib\\site-packages\\seaborn\\_decorators.py:36: FutureWarning: Pass the following variable as a keyword arg: x. From version 0.12, the only valid positional argument will be `data`, and passing other arguments without an explicit keyword will result in an error or misinterpretation.\n",
      "  warnings.warn(\n"
     ]
    },
    {
     "data": {
      "text/plain": [
       "<AxesSubplot:xlabel='AMT_INCOME_TOTAL'>"
      ]
     },
     "execution_count": 37,
     "metadata": {},
     "output_type": "execute_result"
    },
    {
     "data": {
      "image/png": "[encoded data removed]",
      "text/plain": [
       "<Figure size 432x288 with 1 Axes>"
      ]
     },
     "metadata": {
      "needs_background": "light"
     },
     "output_type": "display_data"
    }
   ],
   "source": [
    "sns.boxplot(app_df['AMT_INCOME_TOTAL'])"
   ]
  },
  {
   "cell_type": "code",
   "execution_count": 38,
   "id": "cad801c3",
   "metadata": {},
   "outputs": [
    {
     "name": "stderr",
     "output_type": "stream",
     "text": [
      "C:\\Users\\SAI SOWMYA\\Anaconda3\\lib\\site-packages\\seaborn\\_decorators.py:36: FutureWarning: Pass the following variable as a keyword arg: x. From version 0.12, the only valid positional argument will be `data`, and passing other arguments without an explicit keyword will result in an error or misinterpretation.\n",
      "  warnings.warn(\n"
     ]
    },
    {
     "data": {
      "text/plain": [
       "<AxesSubplot:xlabel='AGE_YEARS'>"
      ]
     },
     "execution_count": 38,
     "metadata": {},
     "output_type": "execute_result"
    },
    {
     "data": {
      "image/png": "[encoded data removed]",
      "text/plain": [
       "<Figure size 432x288 with 1 Axes>"
      ]
     },
     "metadata": {
      "needs_background": "light"
     },
     "output_type": "display_data"
    }
   ],
   "source": [
    "sns.boxplot(app_df['AGE_YEARS'])"
   ]
  },
  {
   "cell_type": "code",
   "execution_count": 39,
   "id": "2b27ec71",
   "metadata": {},
   "outputs": [
    {
     "name": "stderr",
     "output_type": "stream",
     "text": [
      "C:\\Users\\SAI SOWMYA\\Anaconda3\\lib\\site-packages\\seaborn\\_decorators.py:36: FutureWarning: Pass the following variable as a keyword arg: x. From version 0.12, the only valid positional argument will be `data`, and passing other arguments without an explicit keyword will result in an error or misinterpretation.\n",
      "  warnings.warn(\n"
     ]
    },
    {
     "data": {
      "text/plain": [
       "<AxesSubplot:xlabel='YEARS_EMPLOYED'>"
      ]
     },
     "execution_count": 39,
     "metadata": {},
     "output_type": "execute_result"
    },
    {
     "data": {
      "image/png": "[encoded data removed]",
      "text/plain": [
       "<Figure size 432x288 with 1 Axes>"
      ]
     },
     "metadata": {
      "needs_background": "light"
     },
     "output_type": "display_data"
    }
   ],
   "source": [
    "sns.boxplot(app_df['YEARS_EMPLOYED'])"
   ]
  },
  {
   "cell_type": "code",
   "execution_count": 40,
   "id": "d8caac9a",
   "metadata": {},
   "outputs": [
    {
     "name": "stderr",
     "output_type": "stream",
     "text": [
      "C:\\Users\\SAI SOWMYA\\Anaconda3\\lib\\site-packages\\seaborn\\_decorators.py:36: FutureWarning: Pass the following variable as a keyword arg: x. From version 0.12, the only valid positional argument will be `data`, and passing other arguments without an explicit keyword will result in an error or misinterpretation.\n",
      "  warnings.warn(\n"
     ]
    },
    {
     "data": {
      "text/plain": [
       "<AxesSubplot:xlabel='CNT_FAM_MEMBERS'>"
      ]
     },
     "execution_count": 40,
     "metadata": {},
     "output_type": "execute_result"
    },
    {
     "data": {
      "image/png": "[encoded data removed]",
      "text/plain": [
       "<Figure size 432x288 with 1 Axes>"
      ]
     },
     "metadata": {
      "needs_background": "light"
     },
     "output_type": "display_data"
    }
   ],
   "source": [
    "sns.boxplot(app_df['CNT_FAM_MEMBERS'])"
   ]
  },
  {
   "cell_type": "markdown",
   "id": "15df27a2",
   "metadata": {},
   "source": [
    "## Removing Outliers"
   ]
  },
  {
   "cell_type": "code",
   "execution_count": 41,
   "id": "124701ff",
   "metadata": {},
   "outputs": [
    {
     "name": "stdout",
     "output_type": "stream",
     "text": [
      "high_bound : 4.0\n",
      "low_bound : 0.0\n"
     ]
    }
   ],
   "source": [
    "high_bound = app_df['CNT_CHILDREN'].quantile(0.999)\n",
    "print('high_bound :', high_bound)\n",
    "low_bound = app_df['CNT_CHILDREN'].quantile(0.001)\n",
    "print('low_bound :', low_bound)"
   ]
  },
  {
   "cell_type": "code",
   "execution_count": 42,
   "id": "4b8efcae",
   "metadata": {},
   "outputs": [],
   "source": [
    "app_df = app_df[(app_df['CNT_CHILDREN']>=low_bound) & (app_df['CNT_CHILDREN']<=high_bound)]"
   ]
  },
  {
   "cell_type": "code",
   "execution_count": 43,
   "id": "66f0c312",
   "metadata": {},
   "outputs": [
    {
     "name": "stdout",
     "output_type": "stream",
     "text": [
      "high_bound : 990000.0\n",
      "low_bound : 36000.0\n"
     ]
    }
   ],
   "source": [
    "high_bound = app_df['AMT_INCOME_TOTAL'].quantile(0.999)\n",
    "print('high_bound :', high_bound)\n",
    "low_bound = app_df['AMT_INCOME_TOTAL'].quantile(0.001)\n",
    "print('low_bound :', low_bound)"
   ]
  },
  {
   "cell_type": "code",
   "execution_count": 44,
   "id": "ed6ab1e4",
   "metadata": {},
   "outputs": [],
   "source": [
    "app_df = app_df[(app_df['AMT_INCOME_TOTAL']>=low_bound) & (app_df['AMT_INCOME_TOTAL']<=high_bound)]"
   ]
  },
  {
   "cell_type": "code",
   "execution_count": 45,
   "id": "371c6978",
   "metadata": {},
   "outputs": [
    {
     "name": "stdout",
     "output_type": "stream",
     "text": [
      "high_bound : 40.0\n",
      "low_bound : 0.0\n"
     ]
    }
   ],
   "source": [
    "high_bound = app_df['YEARS_EMPLOYED'].quantile(0.999)\n",
    "print('high_bound :', high_bound)\n",
    "low_bound = app_df['YEARS_EMPLOYED'].quantile(0.001)\n",
    "print('low_bound :', low_bound)"
   ]
  },
  {
   "cell_type": "code",
   "execution_count": 46,
   "id": "31385efe",
   "metadata": {},
   "outputs": [],
   "source": [
    "app_df = app_df[(app_df['YEARS_EMPLOYED']>=low_bound) & (app_df['YEARS_EMPLOYED']<=high_bound)]"
   ]
  },
  {
   "cell_type": "code",
   "execution_count": 47,
   "id": "7f3b4166",
   "metadata": {},
   "outputs": [
    {
     "name": "stdout",
     "output_type": "stream",
     "text": [
      "high_bound : 6.0\n",
      "low_bound : 1.0\n"
     ]
    }
   ],
   "source": [
    "high_bound = app_df['CNT_FAM_MEMBERS'].quantile(0.999)\n",
    "print('high_bound :', high_bound)\n",
    "low_bound = app_df['CNT_FAM_MEMBERS'].quantile(0.001)\n",
    "print('low_bound :', low_bound)"
   ]
  },
  {
   "cell_type": "code",
   "execution_count": 48,
   "id": "45017293",
   "metadata": {},
   "outputs": [],
   "source": [
    "app_df = app_df[(app_df['CNT_FAM_MEMBERS']>=low_bound) & (app_df['CNT_FAM_MEMBERS']<=high_bound)]"
   ]
  },
  {
   "cell_type": "code",
   "execution_count": 49,
   "id": "0888908a",
   "metadata": {},
   "outputs": [
    {
     "data": {
      "text/html": [
       "<div>\n",
       "<style scoped>\n",
       "    .dataframe tbody tr th:only-of-type {\n",
       "        vertical-align: middle;\n",
       "    }\n",
       "\n",
       "    .dataframe tbody tr th {\n",
       "        vertical-align: top;\n",
       "    }\n",
       "\n",
       "    .dataframe thead th {\n",
       "        text-align: right;\n",
       "    }\n",
       "</style>\n",
       "<table border=\"1\" class=\"dataframe\">\n",
       "  <thead>\n",
       "    <tr style=\"text-align: right;\">\n",
       "      <th></th>\n",
       "      <th>ID</th>\n",
       "      <th>CODE_GENDER</th>\n",
       "      <th>FLAG_OWN_CAR</th>\n",
       "      <th>FLAG_OWN_REALTY</th>\n",
       "      <th>CNT_CHILDREN</th>\n",
       "      <th>AMT_INCOME_TOTAL</th>\n",
       "      <th>NAME_INCOME_TYPE</th>\n",
       "      <th>NAME_EDUCATION_TYPE</th>\n",
       "      <th>NAME_FAMILY_STATUS</th>\n",
       "      <th>NAME_HOUSING_TYPE</th>\n",
       "      <th>AGE_YEARS</th>\n",
       "      <th>YEARS_EMPLOYED</th>\n",
       "      <th>CNT_FAM_MEMBERS</th>\n",
       "    </tr>\n",
       "  </thead>\n",
       "  <tbody>\n",
       "    <tr>\n",
       "      <th>0</th>\n",
       "      <td>5008804</td>\n",
       "      <td>M</td>\n",
       "      <td>Y</td>\n",
       "      <td>Y</td>\n",
       "      <td>0</td>\n",
       "      <td>427500.0</td>\n",
       "      <td>Working</td>\n",
       "      <td>Higher education</td>\n",
       "      <td>Civil marriage</td>\n",
       "      <td>Rented apartment</td>\n",
       "      <td>33.0</td>\n",
       "      <td>12.0</td>\n",
       "      <td>2</td>\n",
       "    </tr>\n",
       "    <tr>\n",
       "      <th>1</th>\n",
       "      <td>5008805</td>\n",
       "      <td>M</td>\n",
       "      <td>Y</td>\n",
       "      <td>Y</td>\n",
       "      <td>0</td>\n",
       "      <td>427500.0</td>\n",
       "      <td>Working</td>\n",
       "      <td>Higher education</td>\n",
       "      <td>Civil marriage</td>\n",
       "      <td>Rented apartment</td>\n",
       "      <td>33.0</td>\n",
       "      <td>12.0</td>\n",
       "      <td>2</td>\n",
       "    </tr>\n",
       "    <tr>\n",
       "      <th>2</th>\n",
       "      <td>5008806</td>\n",
       "      <td>M</td>\n",
       "      <td>Y</td>\n",
       "      <td>Y</td>\n",
       "      <td>0</td>\n",
       "      <td>112500.0</td>\n",
       "      <td>Working</td>\n",
       "      <td>Secondary / secondary special</td>\n",
       "      <td>Married</td>\n",
       "      <td>House / apartment</td>\n",
       "      <td>59.0</td>\n",
       "      <td>3.0</td>\n",
       "      <td>2</td>\n",
       "    </tr>\n",
       "    <tr>\n",
       "      <th>3</th>\n",
       "      <td>5008808</td>\n",
       "      <td>F</td>\n",
       "      <td>N</td>\n",
       "      <td>Y</td>\n",
       "      <td>0</td>\n",
       "      <td>270000.0</td>\n",
       "      <td>Commercial associate</td>\n",
       "      <td>Secondary / secondary special</td>\n",
       "      <td>Single / not married</td>\n",
       "      <td>House / apartment</td>\n",
       "      <td>52.0</td>\n",
       "      <td>8.0</td>\n",
       "      <td>1</td>\n",
       "    </tr>\n",
       "    <tr>\n",
       "      <th>4</th>\n",
       "      <td>5008809</td>\n",
       "      <td>F</td>\n",
       "      <td>N</td>\n",
       "      <td>Y</td>\n",
       "      <td>0</td>\n",
       "      <td>270000.0</td>\n",
       "      <td>Commercial associate</td>\n",
       "      <td>Secondary / secondary special</td>\n",
       "      <td>Single / not married</td>\n",
       "      <td>House / apartment</td>\n",
       "      <td>52.0</td>\n",
       "      <td>8.0</td>\n",
       "      <td>1</td>\n",
       "    </tr>\n",
       "  </tbody>\n",
       "</table>\n",
       "</div>"
      ],
      "text/plain": [
       "        ID CODE_GENDER FLAG_OWN_CAR FLAG_OWN_REALTY  CNT_CHILDREN  \\\n",
       "0  5008804           M            Y               Y             0   \n",
       "1  5008805           M            Y               Y             0   \n",
       "2  5008806           M            Y               Y             0   \n",
       "3  5008808           F            N               Y             0   \n",
       "4  5008809           F            N               Y             0   \n",
       "\n",
       "   AMT_INCOME_TOTAL      NAME_INCOME_TYPE            NAME_EDUCATION_TYPE  \\\n",
       "0          427500.0               Working               Higher education   \n",
       "1          427500.0               Working               Higher education   \n",
       "2          112500.0               Working  Secondary / secondary special   \n",
       "3          270000.0  Commercial associate  Secondary / secondary special   \n",
       "4          270000.0  Commercial associate  Secondary / secondary special   \n",
       "\n",
       "     NAME_FAMILY_STATUS  NAME_HOUSING_TYPE  AGE_YEARS  YEARS_EMPLOYED  \\\n",
       "0        Civil marriage   Rented apartment       33.0            12.0   \n",
       "1        Civil marriage   Rented apartment       33.0            12.0   \n",
       "2               Married  House / apartment       59.0             3.0   \n",
       "3  Single / not married  House / apartment       52.0             8.0   \n",
       "4  Single / not married  House / apartment       52.0             8.0   \n",
       "\n",
       "   CNT_FAM_MEMBERS  \n",
       "0                2  \n",
       "1                2  \n",
       "2                2  \n",
       "3                1  \n",
       "4                1  "
      ]
     },
     "execution_count": 49,
     "metadata": {},
     "output_type": "execute_result"
    }
   ],
   "source": [
    "app_df.head()"
   ]
  },
  {
   "cell_type": "markdown",
   "id": "f8ea3ad0",
   "metadata": {},
   "source": [
    "## On file: Credit Record.csv"
   ]
  },
  {
   "cell_type": "code",
   "execution_count": 50,
   "id": "664b18e6",
   "metadata": {},
   "outputs": [
    {
     "data": {
      "text/html": [
       "<div>\n",
       "<style scoped>\n",
       "    .dataframe tbody tr th:only-of-type {\n",
       "        vertical-align: middle;\n",
       "    }\n",
       "\n",
       "    .dataframe tbody tr th {\n",
       "        vertical-align: top;\n",
       "    }\n",
       "\n",
       "    .dataframe thead th {\n",
       "        text-align: right;\n",
       "    }\n",
       "</style>\n",
       "<table border=\"1\" class=\"dataframe\">\n",
       "  <thead>\n",
       "    <tr style=\"text-align: right;\">\n",
       "      <th></th>\n",
       "      <th>ID</th>\n",
       "      <th>MONTHS_BALANCE</th>\n",
       "      <th>STATUS</th>\n",
       "    </tr>\n",
       "  </thead>\n",
       "  <tbody>\n",
       "    <tr>\n",
       "      <th>0</th>\n",
       "      <td>5001711</td>\n",
       "      <td>0</td>\n",
       "      <td>X</td>\n",
       "    </tr>\n",
       "    <tr>\n",
       "      <th>1</th>\n",
       "      <td>5001711</td>\n",
       "      <td>-1</td>\n",
       "      <td>0</td>\n",
       "    </tr>\n",
       "    <tr>\n",
       "      <th>2</th>\n",
       "      <td>5001711</td>\n",
       "      <td>-2</td>\n",
       "      <td>0</td>\n",
       "    </tr>\n",
       "    <tr>\n",
       "      <th>3</th>\n",
       "      <td>5001711</td>\n",
       "      <td>-3</td>\n",
       "      <td>0</td>\n",
       "    </tr>\n",
       "    <tr>\n",
       "      <th>4</th>\n",
       "      <td>5001712</td>\n",
       "      <td>0</td>\n",
       "      <td>C</td>\n",
       "    </tr>\n",
       "  </tbody>\n",
       "</table>\n",
       "</div>"
      ],
      "text/plain": [
       "        ID  MONTHS_BALANCE STATUS\n",
       "0  5001711               0      X\n",
       "1  5001711              -1      0\n",
       "2  5001711              -2      0\n",
       "3  5001711              -3      0\n",
       "4  5001712               0      C"
      ]
     },
     "execution_count": 50,
     "metadata": {},
     "output_type": "execute_result"
    }
   ],
   "source": [
    "credit_df.head()"
   ]
  },
  {
   "cell_type": "code",
   "execution_count": 51,
   "id": "1c357c16",
   "metadata": {},
   "outputs": [
    {
     "data": {
      "text/plain": [
       "ID                0\n",
       "MONTHS_BALANCE    0\n",
       "STATUS            0\n",
       "dtype: int64"
      ]
     },
     "execution_count": 51,
     "metadata": {},
     "output_type": "execute_result"
    }
   ],
   "source": [
    "credit_df.isnull().sum()"
   ]
  },
  {
   "cell_type": "code",
   "execution_count": 52,
   "id": "7d7fd9c4",
   "metadata": {},
   "outputs": [
    {
     "data": {
      "text/plain": [
       "C    442031\n",
       "0    383120\n",
       "X    209230\n",
       "1     11090\n",
       "5      1693\n",
       "2       868\n",
       "3       320\n",
       "4       223\n",
       "Name: STATUS, dtype: int64"
      ]
     },
     "execution_count": 52,
     "metadata": {},
     "output_type": "execute_result"
    }
   ],
   "source": [
    "credit_df['STATUS'].value_counts()"
   ]
  },
  {
   "cell_type": "code",
   "execution_count": 53,
   "id": "537617fc",
   "metadata": {},
   "outputs": [],
   "source": [
    "# categorizing 'STATUS' column to binary classification   0 : Good Client and 1 : bad client\n",
    "credit_df['STATUS'].replace(['C', 'X'],0, inplace=True)"
   ]
  },
  {
   "cell_type": "code",
   "execution_count": 54,
   "id": "44cc1a57",
   "metadata": {},
   "outputs": [],
   "source": [
    "credit_df['STATUS'].replace(['2','3','4','5'],1, inplace=True)"
   ]
  },
  {
   "cell_type": "code",
   "execution_count": 55,
   "id": "3de9fa1a",
   "metadata": {},
   "outputs": [],
   "source": [
    "credit_df['STATUS'] = credit_df['STATUS'].astype('int')"
   ]
  },
  {
   "cell_type": "code",
   "execution_count": 56,
   "id": "7990f011",
   "metadata": {},
   "outputs": [
    {
     "name": "stdout",
     "output_type": "stream",
     "text": [
      "<class 'pandas.core.frame.DataFrame'>\n",
      "RangeIndex: 1048575 entries, 0 to 1048574\n",
      "Data columns (total 3 columns):\n",
      " #   Column          Non-Null Count    Dtype\n",
      "---  ------          --------------    -----\n",
      " 0   ID              1048575 non-null  int64\n",
      " 1   MONTHS_BALANCE  1048575 non-null  int64\n",
      " 2   STATUS          1048575 non-null  int32\n",
      "dtypes: int32(1), int64(2)\n",
      "memory usage: 20.0 MB\n"
     ]
    }
   ],
   "source": [
    "credit_df.info()"
   ]
  },
  {
   "cell_type": "code",
   "execution_count": 57,
   "id": "99599e2d",
   "metadata": {},
   "outputs": [
    {
     "data": {
      "text/plain": [
       "0    98.646353\n",
       "1     1.353647\n",
       "Name: STATUS, dtype: float64"
      ]
     },
     "execution_count": 57,
     "metadata": {},
     "output_type": "execute_result"
    }
   ],
   "source": [
    "credit_df['STATUS'].value_counts(normalize=True)*100"
   ]
  },
  {
   "cell_type": "code",
   "execution_count": 58,
   "id": "920ba89c",
   "metadata": {},
   "outputs": [],
   "source": [
    "credit_df_trans = credit_df.groupby('ID').agg(max).reset_index()"
   ]
  },
  {
   "cell_type": "code",
   "execution_count": 59,
   "id": "6249aa35",
   "metadata": {},
   "outputs": [
    {
     "data": {
      "text/html": [
       "<div>\n",
       "<style scoped>\n",
       "    .dataframe tbody tr th:only-of-type {\n",
       "        vertical-align: middle;\n",
       "    }\n",
       "\n",
       "    .dataframe tbody tr th {\n",
       "        vertical-align: top;\n",
       "    }\n",
       "\n",
       "    .dataframe thead th {\n",
       "        text-align: right;\n",
       "    }\n",
       "</style>\n",
       "<table border=\"1\" class=\"dataframe\">\n",
       "  <thead>\n",
       "    <tr style=\"text-align: right;\">\n",
       "      <th></th>\n",
       "      <th>ID</th>\n",
       "      <th>STATUS</th>\n",
       "    </tr>\n",
       "  </thead>\n",
       "  <tbody>\n",
       "    <tr>\n",
       "      <th>0</th>\n",
       "      <td>5001711</td>\n",
       "      <td>0</td>\n",
       "    </tr>\n",
       "    <tr>\n",
       "      <th>1</th>\n",
       "      <td>5001712</td>\n",
       "      <td>0</td>\n",
       "    </tr>\n",
       "    <tr>\n",
       "      <th>2</th>\n",
       "      <td>5001713</td>\n",
       "      <td>0</td>\n",
       "    </tr>\n",
       "    <tr>\n",
       "      <th>3</th>\n",
       "      <td>5001714</td>\n",
       "      <td>0</td>\n",
       "    </tr>\n",
       "    <tr>\n",
       "      <th>4</th>\n",
       "      <td>5001715</td>\n",
       "      <td>0</td>\n",
       "    </tr>\n",
       "  </tbody>\n",
       "</table>\n",
       "</div>"
      ],
      "text/plain": [
       "        ID  STATUS\n",
       "0  5001711       0\n",
       "1  5001712       0\n",
       "2  5001713       0\n",
       "3  5001714       0\n",
       "4  5001715       0"
      ]
     },
     "execution_count": 59,
     "metadata": {},
     "output_type": "execute_result"
    }
   ],
   "source": [
    "credit_df_trans.drop('MONTHS_BALANCE', axis=1, inplace=True)\n",
    "credit_df_trans.head()"
   ]
  },
  {
   "cell_type": "code",
   "execution_count": 60,
   "id": "4a89fae9",
   "metadata": {},
   "outputs": [
    {
     "data": {
      "text/plain": [
       "0    88.365771\n",
       "1    11.634229\n",
       "Name: STATUS, dtype: float64"
      ]
     },
     "execution_count": 60,
     "metadata": {},
     "output_type": "execute_result"
    }
   ],
   "source": [
    "credit_df_trans['STATUS'].value_counts(normalize=True)*100"
   ]
  },
  {
   "cell_type": "markdown",
   "id": "c245f318",
   "metadata": {},
   "source": [
    "## Merging dataframes"
   ]
  },
  {
   "cell_type": "code",
   "execution_count": 61,
   "id": "9256d0b5",
   "metadata": {},
   "outputs": [
    {
     "data": {
      "text/html": [
       "<div>\n",
       "<style scoped>\n",
       "    .dataframe tbody tr th:only-of-type {\n",
       "        vertical-align: middle;\n",
       "    }\n",
       "\n",
       "    .dataframe tbody tr th {\n",
       "        vertical-align: top;\n",
       "    }\n",
       "\n",
       "    .dataframe thead th {\n",
       "        text-align: right;\n",
       "    }\n",
       "</style>\n",
       "<table border=\"1\" class=\"dataframe\">\n",
       "  <thead>\n",
       "    <tr style=\"text-align: right;\">\n",
       "      <th></th>\n",
       "      <th>ID</th>\n",
       "      <th>CODE_GENDER</th>\n",
       "      <th>FLAG_OWN_CAR</th>\n",
       "      <th>FLAG_OWN_REALTY</th>\n",
       "      <th>CNT_CHILDREN</th>\n",
       "      <th>AMT_INCOME_TOTAL</th>\n",
       "      <th>NAME_INCOME_TYPE</th>\n",
       "      <th>NAME_EDUCATION_TYPE</th>\n",
       "      <th>NAME_FAMILY_STATUS</th>\n",
       "      <th>NAME_HOUSING_TYPE</th>\n",
       "      <th>AGE_YEARS</th>\n",
       "      <th>YEARS_EMPLOYED</th>\n",
       "      <th>CNT_FAM_MEMBERS</th>\n",
       "      <th>STATUS</th>\n",
       "    </tr>\n",
       "  </thead>\n",
       "  <tbody>\n",
       "    <tr>\n",
       "      <th>0</th>\n",
       "      <td>5008804</td>\n",
       "      <td>M</td>\n",
       "      <td>Y</td>\n",
       "      <td>Y</td>\n",
       "      <td>0</td>\n",
       "      <td>427500.0</td>\n",
       "      <td>Working</td>\n",
       "      <td>Higher education</td>\n",
       "      <td>Civil marriage</td>\n",
       "      <td>Rented apartment</td>\n",
       "      <td>33.0</td>\n",
       "      <td>12.0</td>\n",
       "      <td>2</td>\n",
       "      <td>1</td>\n",
       "    </tr>\n",
       "    <tr>\n",
       "      <th>1</th>\n",
       "      <td>5008805</td>\n",
       "      <td>M</td>\n",
       "      <td>Y</td>\n",
       "      <td>Y</td>\n",
       "      <td>0</td>\n",
       "      <td>427500.0</td>\n",
       "      <td>Working</td>\n",
       "      <td>Higher education</td>\n",
       "      <td>Civil marriage</td>\n",
       "      <td>Rented apartment</td>\n",
       "      <td>33.0</td>\n",
       "      <td>12.0</td>\n",
       "      <td>2</td>\n",
       "      <td>1</td>\n",
       "    </tr>\n",
       "    <tr>\n",
       "      <th>2</th>\n",
       "      <td>5008806</td>\n",
       "      <td>M</td>\n",
       "      <td>Y</td>\n",
       "      <td>Y</td>\n",
       "      <td>0</td>\n",
       "      <td>112500.0</td>\n",
       "      <td>Working</td>\n",
       "      <td>Secondary / secondary special</td>\n",
       "      <td>Married</td>\n",
       "      <td>House / apartment</td>\n",
       "      <td>59.0</td>\n",
       "      <td>3.0</td>\n",
       "      <td>2</td>\n",
       "      <td>0</td>\n",
       "    </tr>\n",
       "    <tr>\n",
       "      <th>3</th>\n",
       "      <td>5008808</td>\n",
       "      <td>F</td>\n",
       "      <td>N</td>\n",
       "      <td>Y</td>\n",
       "      <td>0</td>\n",
       "      <td>270000.0</td>\n",
       "      <td>Commercial associate</td>\n",
       "      <td>Secondary / secondary special</td>\n",
       "      <td>Single / not married</td>\n",
       "      <td>House / apartment</td>\n",
       "      <td>52.0</td>\n",
       "      <td>8.0</td>\n",
       "      <td>1</td>\n",
       "      <td>0</td>\n",
       "    </tr>\n",
       "    <tr>\n",
       "      <th>4</th>\n",
       "      <td>5008809</td>\n",
       "      <td>F</td>\n",
       "      <td>N</td>\n",
       "      <td>Y</td>\n",
       "      <td>0</td>\n",
       "      <td>270000.0</td>\n",
       "      <td>Commercial associate</td>\n",
       "      <td>Secondary / secondary special</td>\n",
       "      <td>Single / not married</td>\n",
       "      <td>House / apartment</td>\n",
       "      <td>52.0</td>\n",
       "      <td>8.0</td>\n",
       "      <td>1</td>\n",
       "      <td>0</td>\n",
       "    </tr>\n",
       "  </tbody>\n",
       "</table>\n",
       "</div>"
      ],
      "text/plain": [
       "        ID CODE_GENDER FLAG_OWN_CAR FLAG_OWN_REALTY  CNT_CHILDREN  \\\n",
       "0  5008804           M            Y               Y             0   \n",
       "1  5008805           M            Y               Y             0   \n",
       "2  5008806           M            Y               Y             0   \n",
       "3  5008808           F            N               Y             0   \n",
       "4  5008809           F            N               Y             0   \n",
       "\n",
       "   AMT_INCOME_TOTAL      NAME_INCOME_TYPE            NAME_EDUCATION_TYPE  \\\n",
       "0          427500.0               Working               Higher education   \n",
       "1          427500.0               Working               Higher education   \n",
       "2          112500.0               Working  Secondary / secondary special   \n",
       "3          270000.0  Commercial associate  Secondary / secondary special   \n",
       "4          270000.0  Commercial associate  Secondary / secondary special   \n",
       "\n",
       "     NAME_FAMILY_STATUS  NAME_HOUSING_TYPE  AGE_YEARS  YEARS_EMPLOYED  \\\n",
       "0        Civil marriage   Rented apartment       33.0            12.0   \n",
       "1        Civil marriage   Rented apartment       33.0            12.0   \n",
       "2               Married  House / apartment       59.0             3.0   \n",
       "3  Single / not married  House / apartment       52.0             8.0   \n",
       "4  Single / not married  House / apartment       52.0             8.0   \n",
       "\n",
       "   CNT_FAM_MEMBERS  STATUS  \n",
       "0                2       1  \n",
       "1                2       1  \n",
       "2                2       0  \n",
       "3                1       0  \n",
       "4                1       0  "
      ]
     },
     "execution_count": 61,
     "metadata": {},
     "output_type": "execute_result"
    }
   ],
   "source": [
    "# merging the two datasets based on 'ID'\n",
    "final_df = pd.merge(app_df, credit_df_trans, on='ID', how='inner')\n",
    "final_df.head()"
   ]
  },
  {
   "cell_type": "code",
   "execution_count": 62,
   "id": "2be38ab1",
   "metadata": {},
   "outputs": [
    {
     "data": {
      "text/plain": [
       "(36326, 14)"
      ]
     },
     "execution_count": 62,
     "metadata": {},
     "output_type": "execute_result"
    }
   ],
   "source": [
    "final_df.shape  "
   ]
  },
  {
   "cell_type": "code",
   "execution_count": 63,
   "id": "35f26c1c",
   "metadata": {},
   "outputs": [],
   "source": [
    "# dropping 'ID' column as it is having only unique values (not required for ML Model)\n",
    "final_df.drop('ID', axis=1, inplace=True)"
   ]
  },
  {
   "cell_type": "code",
   "execution_count": 64,
   "id": "f00266c6",
   "metadata": {},
   "outputs": [
    {
     "data": {
      "text/plain": [
       "25268"
      ]
     },
     "execution_count": 64,
     "metadata": {},
     "output_type": "execute_result"
    }
   ],
   "source": [
    "# checking if there are still duplicate rows in Final Dataframe\n",
    "len(final_df) - len(final_df.drop_duplicates())"
   ]
  },
  {
   "cell_type": "code",
   "execution_count": 65,
   "id": "3ac5d5ab",
   "metadata": {},
   "outputs": [],
   "source": [
    "# Dropping duplicate records\n",
    "final_df = final_df.drop_duplicates()\n",
    "final_df.reset_index(drop=True ,inplace=True)"
   ]
  },
  {
   "cell_type": "code",
   "execution_count": 66,
   "id": "b8f88744",
   "metadata": {},
   "outputs": [
    {
     "data": {
      "text/plain": [
       "(11058, 13)"
      ]
     },
     "execution_count": 66,
     "metadata": {},
     "output_type": "execute_result"
    }
   ],
   "source": [
    "final_df.shape"
   ]
  },
  {
   "cell_type": "code",
   "execution_count": 67,
   "id": "29aa49a9",
   "metadata": {},
   "outputs": [
    {
     "data": {
      "text/plain": [
       "CODE_GENDER            0\n",
       "FLAG_OWN_CAR           0\n",
       "FLAG_OWN_REALTY        0\n",
       "CNT_CHILDREN           0\n",
       "AMT_INCOME_TOTAL       0\n",
       "NAME_INCOME_TYPE       0\n",
       "NAME_EDUCATION_TYPE    0\n",
       "NAME_FAMILY_STATUS     0\n",
       "NAME_HOUSING_TYPE      0\n",
       "AGE_YEARS              0\n",
       "YEARS_EMPLOYED         0\n",
       "CNT_FAM_MEMBERS        0\n",
       "STATUS                 0\n",
       "dtype: int64"
      ]
     },
     "execution_count": 67,
     "metadata": {},
     "output_type": "execute_result"
    }
   ],
   "source": [
    "final_df.isnull().sum()"
   ]
  },
  {
   "cell_type": "code",
   "execution_count": 68,
   "id": "255498c5",
   "metadata": {},
   "outputs": [
    {
     "data": {
      "text/plain": [
       "0    78.513294\n",
       "1    21.486706\n",
       "Name: STATUS, dtype: float64"
      ]
     },
     "execution_count": 68,
     "metadata": {},
     "output_type": "execute_result"
    }
   ],
   "source": [
    "final_df['STATUS'].value_counts(normalize=True)*100"
   ]
  },
  {
   "cell_type": "code",
   "execution_count": 69,
   "id": "120ec28a",
   "metadata": {},
   "outputs": [
    {
     "data": {
      "text/html": [
       "<div>\n",
       "<style scoped>\n",
       "    .dataframe tbody tr th:only-of-type {\n",
       "        vertical-align: middle;\n",
       "    }\n",
       "\n",
       "    .dataframe tbody tr th {\n",
       "        vertical-align: top;\n",
       "    }\n",
       "\n",
       "    .dataframe thead th {\n",
       "        text-align: right;\n",
       "    }\n",
       "</style>\n",
       "<table border=\"1\" class=\"dataframe\">\n",
       "  <thead>\n",
       "    <tr style=\"text-align: right;\">\n",
       "      <th></th>\n",
       "      <th>CODE_GENDER</th>\n",
       "      <th>FLAG_OWN_CAR</th>\n",
       "      <th>FLAG_OWN_REALTY</th>\n",
       "      <th>CNT_CHILDREN</th>\n",
       "      <th>AMT_INCOME_TOTAL</th>\n",
       "      <th>NAME_INCOME_TYPE</th>\n",
       "      <th>NAME_EDUCATION_TYPE</th>\n",
       "      <th>NAME_FAMILY_STATUS</th>\n",
       "      <th>NAME_HOUSING_TYPE</th>\n",
       "      <th>AGE_YEARS</th>\n",
       "      <th>YEARS_EMPLOYED</th>\n",
       "      <th>CNT_FAM_MEMBERS</th>\n",
       "      <th>STATUS</th>\n",
       "    </tr>\n",
       "  </thead>\n",
       "  <tbody>\n",
       "    <tr>\n",
       "      <th>0</th>\n",
       "      <td>M</td>\n",
       "      <td>Y</td>\n",
       "      <td>Y</td>\n",
       "      <td>0</td>\n",
       "      <td>427500.0</td>\n",
       "      <td>Working</td>\n",
       "      <td>Higher education</td>\n",
       "      <td>Civil marriage</td>\n",
       "      <td>Rented apartment</td>\n",
       "      <td>33.0</td>\n",
       "      <td>12.0</td>\n",
       "      <td>2</td>\n",
       "      <td>1</td>\n",
       "    </tr>\n",
       "    <tr>\n",
       "      <th>1</th>\n",
       "      <td>M</td>\n",
       "      <td>Y</td>\n",
       "      <td>Y</td>\n",
       "      <td>0</td>\n",
       "      <td>112500.0</td>\n",
       "      <td>Working</td>\n",
       "      <td>Secondary / secondary special</td>\n",
       "      <td>Married</td>\n",
       "      <td>House / apartment</td>\n",
       "      <td>59.0</td>\n",
       "      <td>3.0</td>\n",
       "      <td>2</td>\n",
       "      <td>0</td>\n",
       "    </tr>\n",
       "    <tr>\n",
       "      <th>2</th>\n",
       "      <td>F</td>\n",
       "      <td>N</td>\n",
       "      <td>Y</td>\n",
       "      <td>0</td>\n",
       "      <td>270000.0</td>\n",
       "      <td>Commercial associate</td>\n",
       "      <td>Secondary / secondary special</td>\n",
       "      <td>Single / not married</td>\n",
       "      <td>House / apartment</td>\n",
       "      <td>52.0</td>\n",
       "      <td>8.0</td>\n",
       "      <td>1</td>\n",
       "      <td>0</td>\n",
       "    </tr>\n",
       "    <tr>\n",
       "      <th>3</th>\n",
       "      <td>F</td>\n",
       "      <td>N</td>\n",
       "      <td>Y</td>\n",
       "      <td>0</td>\n",
       "      <td>283500.0</td>\n",
       "      <td>Pensioner</td>\n",
       "      <td>Higher education</td>\n",
       "      <td>Separated</td>\n",
       "      <td>House / apartment</td>\n",
       "      <td>62.0</td>\n",
       "      <td>0.0</td>\n",
       "      <td>1</td>\n",
       "      <td>0</td>\n",
       "    </tr>\n",
       "    <tr>\n",
       "      <th>4</th>\n",
       "      <td>M</td>\n",
       "      <td>Y</td>\n",
       "      <td>Y</td>\n",
       "      <td>0</td>\n",
       "      <td>270000.0</td>\n",
       "      <td>Working</td>\n",
       "      <td>Higher education</td>\n",
       "      <td>Married</td>\n",
       "      <td>House / apartment</td>\n",
       "      <td>46.0</td>\n",
       "      <td>2.0</td>\n",
       "      <td>2</td>\n",
       "      <td>0</td>\n",
       "    </tr>\n",
       "  </tbody>\n",
       "</table>\n",
       "</div>"
      ],
      "text/plain": [
       "  CODE_GENDER FLAG_OWN_CAR FLAG_OWN_REALTY  CNT_CHILDREN  AMT_INCOME_TOTAL  \\\n",
       "0           M            Y               Y             0          427500.0   \n",
       "1           M            Y               Y             0          112500.0   \n",
       "2           F            N               Y             0          270000.0   \n",
       "3           F            N               Y             0          283500.0   \n",
       "4           M            Y               Y             0          270000.0   \n",
       "\n",
       "       NAME_INCOME_TYPE            NAME_EDUCATION_TYPE    NAME_FAMILY_STATUS  \\\n",
       "0               Working               Higher education        Civil marriage   \n",
       "1               Working  Secondary / secondary special               Married   \n",
       "2  Commercial associate  Secondary / secondary special  Single / not married   \n",
       "3             Pensioner               Higher education             Separated   \n",
       "4               Working               Higher education               Married   \n",
       "\n",
       "   NAME_HOUSING_TYPE  AGE_YEARS  YEARS_EMPLOYED  CNT_FAM_MEMBERS  STATUS  \n",
       "0   Rented apartment       33.0            12.0                2       1  \n",
       "1  House / apartment       59.0             3.0                2       0  \n",
       "2  House / apartment       52.0             8.0                1       0  \n",
       "3  House / apartment       62.0             0.0                1       0  \n",
       "4  House / apartment       46.0             2.0                2       0  "
      ]
     },
     "execution_count": 69,
     "metadata": {},
     "output_type": "execute_result"
    }
   ],
   "source": [
    "final_df.head()"
   ]
  },
  {
   "cell_type": "markdown",
   "id": "eeead0c6",
   "metadata": {},
   "source": [
    "# Data Visualization"
   ]
  },
  {
   "cell_type": "code",
   "execution_count": 70,
   "id": "68222e24",
   "metadata": {},
   "outputs": [
    {
     "data": {
      "image/png": "[encoded data removed]",
      "text/plain": [
       "<Figure size 576x576 with 2 Axes>"
      ]
     },
     "metadata": {
      "needs_background": "light"
     },
     "output_type": "display_data"
    }
   ],
   "source": [
    "# This graph shows that, there is no column (Feature) which is highly co-related with 'Status'\n",
    "plt.figure(figsize = (8,8))\n",
    "sns.heatmap(final_df.corr(), annot=True)\n",
    "plt.show()"
   ]
  },
  {
   "cell_type": "code",
   "execution_count": 71,
   "id": "01750375",
   "metadata": {},
   "outputs": [
    {
     "data": {
      "image/png": "[encoded data removed]",
      "text/plain": [
       "<Figure size 432x288 with 1 Axes>"
      ]
     },
     "metadata": {},
     "output_type": "display_data"
    }
   ],
   "source": [
    "# This graph shows that, majority of application are submitted by Female's\n",
    "plt.pie(final_df['CODE_GENDER'].value_counts(), labels=['Female', 'Male'], autopct='%1.2f%%')\n",
    "plt.title('% of Applications submitted based on Gender')\n",
    "plt.show()"
   ]
  },
  {
   "cell_type": "code",
   "execution_count": 72,
   "id": "0c49e988",
   "metadata": {},
   "outputs": [
    {
     "data": {
      "image/png": "[encoded data removed]",
      "text/plain": [
       "<Figure size 432x288 with 1 Axes>"
      ]
     },
     "metadata": {},
     "output_type": "display_data"
    }
   ],
   "source": [
    "# This graph shows that, majority of application are approved for Female's\n",
    "plt.pie(final_df[final_df['STATUS']==0]['CODE_GENDER'].value_counts(), labels=['Female', 'Male'], autopct='%1.2f%%')\n",
    "plt.title('% of Applications Approved based on Gender')\n",
    "plt.show()"
   ]
  },
  {
   "cell_type": "code",
   "execution_count": 73,
   "id": "7b3a0f3a",
   "metadata": {},
   "outputs": [
    {
     "data": {
      "image/png": "[encoded data removed]",
      "text/plain": [
       "<Figure size 432x288 with 1 Axes>"
      ]
     },
     "metadata": {},
     "output_type": "display_data"
    }
   ],
   "source": [
    "# This graph shows that, majority of applicatant's dont own a car\n",
    "plt.pie(final_df['FLAG_OWN_CAR'].value_counts(), labels=['No', 'Yes'], autopct='%1.2f%%')\n",
    "plt.title('% of Applications submitted based on owning a Car')\n",
    "plt.show()"
   ]
  },
  {
   "cell_type": "code",
   "execution_count": 74,
   "id": "adbd1592",
   "metadata": {},
   "outputs": [
    {
     "data": {
      "image/png": "[encoded data removed]",
      "text/plain": [
       "<Figure size 432x288 with 1 Axes>"
      ]
     },
     "metadata": {},
     "output_type": "display_data"
    }
   ],
   "source": [
    "# This graph shows that, majority of applicatant's own a Real Estate property / House\n",
    "plt.pie(final_df['FLAG_OWN_REALTY'].value_counts(), labels=['Yes','No'], autopct='%1.2f%%')\n",
    "plt.title('% of Applications submitted based on owning a Real estate property')\n",
    "plt.show()"
   ]
  },
  {
   "cell_type": "code",
   "execution_count": 75,
   "id": "5758e0fb",
   "metadata": {},
   "outputs": [
    {
     "data": {
      "image/png": "[encoded data removed]",
      "text/plain": [
       "<Figure size 576x576 with 1 Axes>"
      ]
     },
     "metadata": {},
     "output_type": "display_data"
    }
   ],
   "source": [
    "# This graph shows that, majority of applicatant's don't have any children\n",
    "plt.figure(figsize = (8,8))\n",
    "plt.pie(final_df['CNT_CHILDREN'].value_counts(), labels=final_df['CNT_CHILDREN'].value_counts().index, autopct='%1.2f%%')\n",
    "plt.title('% of Applications submitted based on Children count')\n",
    "plt.legend()\n",
    "plt.show()"
   ]
  },
  {
   "cell_type": "code",
   "execution_count": 76,
   "id": "20e5c3d4",
   "metadata": {},
   "outputs": [
    {
     "data": {
      "image/png": "[encoded data removed]",
      "text/plain": [
       "<Figure size 432x288 with 1 Axes>"
      ]
     },
     "metadata": {
      "needs_background": "light"
     },
     "output_type": "display_data"
    }
   ],
   "source": [
    "# This graph shows that, majority of applicatant's income lies between 1 to 3 lakh\n",
    "plt.hist(final_df['AMT_INCOME_TOTAL'], bins=20)\n",
    "plt.xlabel('Total Annual Income')\n",
    "plt.title('Histogram')\n",
    "plt.show()"
   ]
  },
  {
   "cell_type": "code",
   "execution_count": 77,
   "id": "e7f914c5",
   "metadata": {},
   "outputs": [
    {
     "data": {
      "image/png": "[encoded data removed]",
      "text/plain": [
       "<Figure size 576x576 with 1 Axes>"
      ]
     },
     "metadata": {},
     "output_type": "display_data"
    }
   ],
   "source": [
    "# This graph shows that, majority of applicatant's are working professional\n",
    "plt.figure(figsize = (8,8))\n",
    "plt.pie(final_df['NAME_INCOME_TYPE'].value_counts(), labels=final_df['NAME_INCOME_TYPE'].value_counts().index, autopct='%1.2f%%')\n",
    "plt.title('% of Applications submitted based on Income Type')\n",
    "plt.legend()\n",
    "plt.show()"
   ]
  },
  {
   "cell_type": "code",
   "execution_count": 78,
   "id": "7d39bbb6",
   "metadata": {},
   "outputs": [
    {
     "data": {
      "image/png": "[encoded data removed]",
      "text/plain": [
       "<Figure size 576x576 with 1 Axes>"
      ]
     },
     "metadata": {},
     "output_type": "display_data"
    }
   ],
   "source": [
    "# This graph shows that, majority of applicatant's completed the Secondary Education\n",
    "plt.figure(figsize=(8,8))\n",
    "plt.pie(final_df['NAME_EDUCATION_TYPE'].value_counts(), labels=final_df['NAME_EDUCATION_TYPE'].value_counts().index, autopct='%1.2f%%')\n",
    "plt.title('% of Applications submitted based on Education')\n",
    "plt.legend()\n",
    "plt.show()"
   ]
  },
  {
   "cell_type": "code",
   "execution_count": 79,
   "id": "d71e1583",
   "metadata": {},
   "outputs": [
    {
     "name": "stderr",
     "output_type": "stream",
     "text": [
      "C:\\Users\\SAI SOWMYA\\Anaconda3\\lib\\site-packages\\seaborn\\_decorators.py:36: FutureWarning: Pass the following variables as keyword args: x, y. From version 0.12, the only valid positional argument will be `data`, and passing other arguments without an explicit keyword will result in an error or misinterpretation.\n",
      "  warnings.warn(\n"
     ]
    },
    {
     "data": {
      "image/png": "[encoded data removed]",
      "text/plain": [
       "<Figure size 576x576 with 1 Axes>"
      ]
     },
     "metadata": {
      "needs_background": "light"
     },
     "output_type": "display_data"
    }
   ],
   "source": [
    "# This graph shows that, majority of applicatant's are married\n",
    "plt.figure(figsize=(8,8))\n",
    "sns.barplot(final_df['NAME_FAMILY_STATUS'].value_counts().index, final_df['NAME_FAMILY_STATUS'].value_counts().values)\n",
    "plt.title('% of Applications submitted based on Family Status')\n",
    "plt.show()"
   ]
  },
  {
   "cell_type": "code",
   "execution_count": 80,
   "id": "d00d5895",
   "metadata": {},
   "outputs": [
    {
     "name": "stderr",
     "output_type": "stream",
     "text": [
      "C:\\Users\\SAI SOWMYA\\Anaconda3\\lib\\site-packages\\seaborn\\_decorators.py:36: FutureWarning: Pass the following variables as keyword args: x, y. From version 0.12, the only valid positional argument will be `data`, and passing other arguments without an explicit keyword will result in an error or misinterpretation.\n",
      "  warnings.warn(\n"
     ]
    },
    {
     "data": {
      "image/png": "[encoded data removed]",
      "text/plain": [
       "<Figure size 864x360 with 1 Axes>"
      ]
     },
     "metadata": {
      "needs_background": "light"
     },
     "output_type": "display_data"
    }
   ],
   "source": [
    "# This graph shows that, majority of applicatant's lives in House / Apartment\n",
    "plt.figure(figsize=(12,5))\n",
    "sns.barplot(final_df['NAME_HOUSING_TYPE'].value_counts().index, final_df['NAME_HOUSING_TYPE'].value_counts().values)\n",
    "plt.title('% of Applications submitted based on Housing Type')\n",
    "plt.show()"
   ]
  },
  {
   "cell_type": "code",
   "execution_count": 81,
   "id": "f4f09c23",
   "metadata": {},
   "outputs": [
    {
     "data": {
      "image/png": "[encoded data removed]",
      "text/plain": [
       "<Figure size 432x288 with 1 Axes>"
      ]
     },
     "metadata": {
      "needs_background": "light"
     },
     "output_type": "display_data"
    }
   ],
   "source": [
    "# This graph shows that, majority of applicatant's are 25 to 65 years old\n",
    "plt.hist(final_df['AGE_YEARS'], bins=20)\n",
    "plt.xlabel('Age')\n",
    "plt.title('Histogram')\n",
    "plt.show()"
   ]
  },
  {
   "cell_type": "code",
   "execution_count": 82,
   "id": "1ac2a0b9",
   "metadata": {},
   "outputs": [
    {
     "data": {
      "image/png": "[encoded data removed]",
      "text/plain": [
       "<Figure size 432x288 with 1 Axes>"
      ]
     },
     "metadata": {
      "needs_background": "light"
     },
     "output_type": "display_data"
    }
   ],
   "source": [
    "# This graph shows that, majority of applicatant's are Employed for 0 to 7 years\n",
    "plt.hist(final_df['YEARS_EMPLOYED'], bins=20)\n",
    "plt.xlabel('No of Years Employed')\n",
    "plt.title('Histogram')\n",
    "plt.show()"
   ]
  },
  {
   "cell_type": "code",
   "execution_count": 83,
   "id": "d40cb163",
   "metadata": {},
   "outputs": [
    {
     "name": "stderr",
     "output_type": "stream",
     "text": [
      "C:\\Users\\SAI SOWMYA\\Anaconda3\\lib\\site-packages\\seaborn\\_decorators.py:36: FutureWarning: Pass the following variables as keyword args: x, y. From version 0.12, the only valid positional argument will be `data`, and passing other arguments without an explicit keyword will result in an error or misinterpretation.\n",
      "  warnings.warn(\n"
     ]
    },
    {
     "data": {
      "image/png": "[encoded data removed]",
      "text/plain": [
       "<Figure size 432x288 with 1 Axes>"
      ]
     },
     "metadata": {
      "needs_background": "light"
     },
     "output_type": "display_data"
    }
   ],
   "source": [
    "# This graph shows that, majority of applications are rejected if Total income & years of Employment is less\n",
    "sns.scatterplot(final_df['YEARS_EMPLOYED'], final_df['AMT_INCOME_TOTAL'], hue=final_df['STATUS'])\n",
    "plt.title('Scatter Plot')\n",
    "plt.show()"
   ]
  },
  {
   "cell_type": "markdown",
   "id": "bce05809",
   "metadata": {},
   "source": [
    "# Feature Selection"
   ]
  },
  {
   "cell_type": "code",
   "execution_count": 84,
   "id": "6f71b31b",
   "metadata": {},
   "outputs": [
    {
     "data": {
      "text/html": [
       "<div>\n",
       "<style scoped>\n",
       "    .dataframe tbody tr th:only-of-type {\n",
       "        vertical-align: middle;\n",
       "    }\n",
       "\n",
       "    .dataframe tbody tr th {\n",
       "        vertical-align: top;\n",
       "    }\n",
       "\n",
       "    .dataframe thead th {\n",
       "        text-align: right;\n",
       "    }\n",
       "</style>\n",
       "<table border=\"1\" class=\"dataframe\">\n",
       "  <thead>\n",
       "    <tr style=\"text-align: right;\">\n",
       "      <th></th>\n",
       "      <th>CODE_GENDER</th>\n",
       "      <th>FLAG_OWN_CAR</th>\n",
       "      <th>FLAG_OWN_REALTY</th>\n",
       "      <th>CNT_CHILDREN</th>\n",
       "      <th>AMT_INCOME_TOTAL</th>\n",
       "      <th>NAME_INCOME_TYPE</th>\n",
       "      <th>NAME_EDUCATION_TYPE</th>\n",
       "      <th>NAME_FAMILY_STATUS</th>\n",
       "      <th>NAME_HOUSING_TYPE</th>\n",
       "      <th>AGE_YEARS</th>\n",
       "      <th>YEARS_EMPLOYED</th>\n",
       "      <th>CNT_FAM_MEMBERS</th>\n",
       "      <th>STATUS</th>\n",
       "    </tr>\n",
       "  </thead>\n",
       "  <tbody>\n",
       "    <tr>\n",
       "      <th>0</th>\n",
       "      <td>M</td>\n",
       "      <td>Y</td>\n",
       "      <td>Y</td>\n",
       "      <td>0</td>\n",
       "      <td>427500.0</td>\n",
       "      <td>Working</td>\n",
       "      <td>Higher education</td>\n",
       "      <td>Civil marriage</td>\n",
       "      <td>Rented apartment</td>\n",
       "      <td>33.0</td>\n",
       "      <td>12.0</td>\n",
       "      <td>2</td>\n",
       "      <td>1</td>\n",
       "    </tr>\n",
       "    <tr>\n",
       "      <th>1</th>\n",
       "      <td>M</td>\n",
       "      <td>Y</td>\n",
       "      <td>Y</td>\n",
       "      <td>0</td>\n",
       "      <td>112500.0</td>\n",
       "      <td>Working</td>\n",
       "      <td>Secondary / secondary special</td>\n",
       "      <td>Married</td>\n",
       "      <td>House / apartment</td>\n",
       "      <td>59.0</td>\n",
       "      <td>3.0</td>\n",
       "      <td>2</td>\n",
       "      <td>0</td>\n",
       "    </tr>\n",
       "    <tr>\n",
       "      <th>2</th>\n",
       "      <td>F</td>\n",
       "      <td>N</td>\n",
       "      <td>Y</td>\n",
       "      <td>0</td>\n",
       "      <td>270000.0</td>\n",
       "      <td>Commercial associate</td>\n",
       "      <td>Secondary / secondary special</td>\n",
       "      <td>Single / not married</td>\n",
       "      <td>House / apartment</td>\n",
       "      <td>52.0</td>\n",
       "      <td>8.0</td>\n",
       "      <td>1</td>\n",
       "      <td>0</td>\n",
       "    </tr>\n",
       "    <tr>\n",
       "      <th>3</th>\n",
       "      <td>F</td>\n",
       "      <td>N</td>\n",
       "      <td>Y</td>\n",
       "      <td>0</td>\n",
       "      <td>283500.0</td>\n",
       "      <td>Pensioner</td>\n",
       "      <td>Higher education</td>\n",
       "      <td>Separated</td>\n",
       "      <td>House / apartment</td>\n",
       "      <td>62.0</td>\n",
       "      <td>0.0</td>\n",
       "      <td>1</td>\n",
       "      <td>0</td>\n",
       "    </tr>\n",
       "    <tr>\n",
       "      <th>4</th>\n",
       "      <td>M</td>\n",
       "      <td>Y</td>\n",
       "      <td>Y</td>\n",
       "      <td>0</td>\n",
       "      <td>270000.0</td>\n",
       "      <td>Working</td>\n",
       "      <td>Higher education</td>\n",
       "      <td>Married</td>\n",
       "      <td>House / apartment</td>\n",
       "      <td>46.0</td>\n",
       "      <td>2.0</td>\n",
       "      <td>2</td>\n",
       "      <td>0</td>\n",
       "    </tr>\n",
       "  </tbody>\n",
       "</table>\n",
       "</div>"
      ],
      "text/plain": [
       "  CODE_GENDER FLAG_OWN_CAR FLAG_OWN_REALTY  CNT_CHILDREN  AMT_INCOME_TOTAL  \\\n",
       "0           M            Y               Y             0          427500.0   \n",
       "1           M            Y               Y             0          112500.0   \n",
       "2           F            N               Y             0          270000.0   \n",
       "3           F            N               Y             0          283500.0   \n",
       "4           M            Y               Y             0          270000.0   \n",
       "\n",
       "       NAME_INCOME_TYPE            NAME_EDUCATION_TYPE    NAME_FAMILY_STATUS  \\\n",
       "0               Working               Higher education        Civil marriage   \n",
       "1               Working  Secondary / secondary special               Married   \n",
       "2  Commercial associate  Secondary / secondary special  Single / not married   \n",
       "3             Pensioner               Higher education             Separated   \n",
       "4               Working               Higher education               Married   \n",
       "\n",
       "   NAME_HOUSING_TYPE  AGE_YEARS  YEARS_EMPLOYED  CNT_FAM_MEMBERS  STATUS  \n",
       "0   Rented apartment       33.0            12.0                2       1  \n",
       "1  House / apartment       59.0             3.0                2       0  \n",
       "2  House / apartment       52.0             8.0                1       0  \n",
       "3  House / apartment       62.0             0.0                1       0  \n",
       "4  House / apartment       46.0             2.0                2       0  "
      ]
     },
     "execution_count": 84,
     "metadata": {},
     "output_type": "execute_result"
    }
   ],
   "source": [
    "final_df.head()"
   ]
  },
  {
   "cell_type": "code",
   "execution_count": 85,
   "id": "38cec210",
   "metadata": {
    "scrolled": true
   },
   "outputs": [
    {
     "data": {
      "text/plain": [
       "['CODE_GENDER',\n",
       " 'FLAG_OWN_CAR',\n",
       " 'FLAG_OWN_REALTY',\n",
       " 'NAME_INCOME_TYPE',\n",
       " 'NAME_EDUCATION_TYPE',\n",
       " 'NAME_FAMILY_STATUS',\n",
       " 'NAME_HOUSING_TYPE']"
      ]
     },
     "execution_count": 85,
     "metadata": {},
     "output_type": "execute_result"
    }
   ],
   "source": [
    "cat_columns = final_df.columns[(final_df.dtypes =='object').values].tolist()\n",
    "cat_columns"
   ]
  },
  {
   "cell_type": "code",
   "execution_count": 86,
   "id": "101003cf",
   "metadata": {},
   "outputs": [
    {
     "data": {
      "text/html": [
       "<div>\n",
       "<style scoped>\n",
       "    .dataframe tbody tr th:only-of-type {\n",
       "        vertical-align: middle;\n",
       "    }\n",
       "\n",
       "    .dataframe tbody tr th {\n",
       "        vertical-align: top;\n",
       "    }\n",
       "\n",
       "    .dataframe thead th {\n",
       "        text-align: right;\n",
       "    }\n",
       "</style>\n",
       "<table border=\"1\" class=\"dataframe\">\n",
       "  <thead>\n",
       "    <tr style=\"text-align: right;\">\n",
       "      <th></th>\n",
       "      <th>CNT_CHILDREN</th>\n",
       "      <th>AMT_INCOME_TOTAL</th>\n",
       "      <th>AGE_YEARS</th>\n",
       "      <th>YEARS_EMPLOYED</th>\n",
       "      <th>CNT_FAM_MEMBERS</th>\n",
       "      <th>STATUS</th>\n",
       "      <th>CODE_GENDER_F</th>\n",
       "      <th>CODE_GENDER_M</th>\n",
       "      <th>FLAG_OWN_CAR_N</th>\n",
       "      <th>FLAG_OWN_CAR_Y</th>\n",
       "      <th>...</th>\n",
       "      <th>NAME_FAMILY_STATUS_Married</th>\n",
       "      <th>NAME_FAMILY_STATUS_Separated</th>\n",
       "      <th>NAME_FAMILY_STATUS_Single / not married</th>\n",
       "      <th>NAME_FAMILY_STATUS_Widow</th>\n",
       "      <th>NAME_HOUSING_TYPE_Co-op apartment</th>\n",
       "      <th>NAME_HOUSING_TYPE_House / apartment</th>\n",
       "      <th>NAME_HOUSING_TYPE_Municipal apartment</th>\n",
       "      <th>NAME_HOUSING_TYPE_Office apartment</th>\n",
       "      <th>NAME_HOUSING_TYPE_Rented apartment</th>\n",
       "      <th>NAME_HOUSING_TYPE_With parents</th>\n",
       "    </tr>\n",
       "  </thead>\n",
       "  <tbody>\n",
       "    <tr>\n",
       "      <th>0</th>\n",
       "      <td>0</td>\n",
       "      <td>427500.0</td>\n",
       "      <td>33.0</td>\n",
       "      <td>12.0</td>\n",
       "      <td>2</td>\n",
       "      <td>1</td>\n",
       "      <td>0</td>\n",
       "      <td>1</td>\n",
       "      <td>0</td>\n",
       "      <td>1</td>\n",
       "      <td>...</td>\n",
       "      <td>0</td>\n",
       "      <td>0</td>\n",
       "      <td>0</td>\n",
       "      <td>0</td>\n",
       "      <td>0</td>\n",
       "      <td>0</td>\n",
       "      <td>0</td>\n",
       "      <td>0</td>\n",
       "      <td>1</td>\n",
       "      <td>0</td>\n",
       "    </tr>\n",
       "    <tr>\n",
       "      <th>1</th>\n",
       "      <td>0</td>\n",
       "      <td>112500.0</td>\n",
       "      <td>59.0</td>\n",
       "      <td>3.0</td>\n",
       "      <td>2</td>\n",
       "      <td>0</td>\n",
       "      <td>0</td>\n",
       "      <td>1</td>\n",
       "      <td>0</td>\n",
       "      <td>1</td>\n",
       "      <td>...</td>\n",
       "      <td>1</td>\n",
       "      <td>0</td>\n",
       "      <td>0</td>\n",
       "      <td>0</td>\n",
       "      <td>0</td>\n",
       "      <td>1</td>\n",
       "      <td>0</td>\n",
       "      <td>0</td>\n",
       "      <td>0</td>\n",
       "      <td>0</td>\n",
       "    </tr>\n",
       "    <tr>\n",
       "      <th>2</th>\n",
       "      <td>0</td>\n",
       "      <td>270000.0</td>\n",
       "      <td>52.0</td>\n",
       "      <td>8.0</td>\n",
       "      <td>1</td>\n",
       "      <td>0</td>\n",
       "      <td>1</td>\n",
       "      <td>0</td>\n",
       "      <td>1</td>\n",
       "      <td>0</td>\n",
       "      <td>...</td>\n",
       "      <td>0</td>\n",
       "      <td>0</td>\n",
       "      <td>1</td>\n",
       "      <td>0</td>\n",
       "      <td>0</td>\n",
       "      <td>1</td>\n",
       "      <td>0</td>\n",
       "      <td>0</td>\n",
       "      <td>0</td>\n",
       "      <td>0</td>\n",
       "    </tr>\n",
       "    <tr>\n",
       "      <th>3</th>\n",
       "      <td>0</td>\n",
       "      <td>283500.0</td>\n",
       "      <td>62.0</td>\n",
       "      <td>0.0</td>\n",
       "      <td>1</td>\n",
       "      <td>0</td>\n",
       "      <td>1</td>\n",
       "      <td>0</td>\n",
       "      <td>1</td>\n",
       "      <td>0</td>\n",
       "      <td>...</td>\n",
       "      <td>0</td>\n",
       "      <td>1</td>\n",
       "      <td>0</td>\n",
       "      <td>0</td>\n",
       "      <td>0</td>\n",
       "      <td>1</td>\n",
       "      <td>0</td>\n",
       "      <td>0</td>\n",
       "      <td>0</td>\n",
       "      <td>0</td>\n",
       "    </tr>\n",
       "    <tr>\n",
       "      <th>4</th>\n",
       "      <td>0</td>\n",
       "      <td>270000.0</td>\n",
       "      <td>46.0</td>\n",
       "      <td>2.0</td>\n",
       "      <td>2</td>\n",
       "      <td>0</td>\n",
       "      <td>0</td>\n",
       "      <td>1</td>\n",
       "      <td>0</td>\n",
       "      <td>1</td>\n",
       "      <td>...</td>\n",
       "      <td>1</td>\n",
       "      <td>0</td>\n",
       "      <td>0</td>\n",
       "      <td>0</td>\n",
       "      <td>0</td>\n",
       "      <td>1</td>\n",
       "      <td>0</td>\n",
       "      <td>0</td>\n",
       "      <td>0</td>\n",
       "      <td>0</td>\n",
       "    </tr>\n",
       "    <tr>\n",
       "      <th>5</th>\n",
       "      <td>0</td>\n",
       "      <td>135000.0</td>\n",
       "      <td>49.0</td>\n",
       "      <td>3.0</td>\n",
       "      <td>2</td>\n",
       "      <td>0</td>\n",
       "      <td>0</td>\n",
       "      <td>1</td>\n",
       "      <td>0</td>\n",
       "      <td>1</td>\n",
       "      <td>...</td>\n",
       "      <td>1</td>\n",
       "      <td>0</td>\n",
       "      <td>0</td>\n",
       "      <td>0</td>\n",
       "      <td>0</td>\n",
       "      <td>1</td>\n",
       "      <td>0</td>\n",
       "      <td>0</td>\n",
       "      <td>0</td>\n",
       "      <td>0</td>\n",
       "    </tr>\n",
       "    <tr>\n",
       "      <th>6</th>\n",
       "      <td>0</td>\n",
       "      <td>130500.0</td>\n",
       "      <td>29.0</td>\n",
       "      <td>3.0</td>\n",
       "      <td>2</td>\n",
       "      <td>1</td>\n",
       "      <td>1</td>\n",
       "      <td>0</td>\n",
       "      <td>0</td>\n",
       "      <td>1</td>\n",
       "      <td>...</td>\n",
       "      <td>1</td>\n",
       "      <td>0</td>\n",
       "      <td>0</td>\n",
       "      <td>0</td>\n",
       "      <td>0</td>\n",
       "      <td>1</td>\n",
       "      <td>0</td>\n",
       "      <td>0</td>\n",
       "      <td>0</td>\n",
       "      <td>0</td>\n",
       "    </tr>\n",
       "    <tr>\n",
       "      <th>7</th>\n",
       "      <td>0</td>\n",
       "      <td>157500.0</td>\n",
       "      <td>27.0</td>\n",
       "      <td>4.0</td>\n",
       "      <td>2</td>\n",
       "      <td>1</td>\n",
       "      <td>1</td>\n",
       "      <td>0</td>\n",
       "      <td>1</td>\n",
       "      <td>0</td>\n",
       "      <td>...</td>\n",
       "      <td>1</td>\n",
       "      <td>0</td>\n",
       "      <td>0</td>\n",
       "      <td>0</td>\n",
       "      <td>0</td>\n",
       "      <td>1</td>\n",
       "      <td>0</td>\n",
       "      <td>0</td>\n",
       "      <td>0</td>\n",
       "      <td>0</td>\n",
       "    </tr>\n",
       "    <tr>\n",
       "      <th>8</th>\n",
       "      <td>1</td>\n",
       "      <td>112500.0</td>\n",
       "      <td>30.0</td>\n",
       "      <td>4.0</td>\n",
       "      <td>2</td>\n",
       "      <td>0</td>\n",
       "      <td>1</td>\n",
       "      <td>0</td>\n",
       "      <td>1</td>\n",
       "      <td>0</td>\n",
       "      <td>...</td>\n",
       "      <td>0</td>\n",
       "      <td>0</td>\n",
       "      <td>1</td>\n",
       "      <td>0</td>\n",
       "      <td>0</td>\n",
       "      <td>1</td>\n",
       "      <td>0</td>\n",
       "      <td>0</td>\n",
       "      <td>0</td>\n",
       "      <td>0</td>\n",
       "    </tr>\n",
       "    <tr>\n",
       "      <th>9</th>\n",
       "      <td>3</td>\n",
       "      <td>270000.0</td>\n",
       "      <td>35.0</td>\n",
       "      <td>3.0</td>\n",
       "      <td>5</td>\n",
       "      <td>0</td>\n",
       "      <td>0</td>\n",
       "      <td>1</td>\n",
       "      <td>0</td>\n",
       "      <td>1</td>\n",
       "      <td>...</td>\n",
       "      <td>1</td>\n",
       "      <td>0</td>\n",
       "      <td>0</td>\n",
       "      <td>0</td>\n",
       "      <td>0</td>\n",
       "      <td>1</td>\n",
       "      <td>0</td>\n",
       "      <td>0</td>\n",
       "      <td>0</td>\n",
       "      <td>0</td>\n",
       "    </tr>\n",
       "    <tr>\n",
       "      <th>10</th>\n",
       "      <td>1</td>\n",
       "      <td>405000.0</td>\n",
       "      <td>32.0</td>\n",
       "      <td>6.0</td>\n",
       "      <td>3</td>\n",
       "      <td>0</td>\n",
       "      <td>0</td>\n",
       "      <td>1</td>\n",
       "      <td>1</td>\n",
       "      <td>0</td>\n",
       "      <td>...</td>\n",
       "      <td>1</td>\n",
       "      <td>0</td>\n",
       "      <td>0</td>\n",
       "      <td>0</td>\n",
       "      <td>0</td>\n",
       "      <td>1</td>\n",
       "      <td>0</td>\n",
       "      <td>0</td>\n",
       "      <td>0</td>\n",
       "      <td>0</td>\n",
       "    </tr>\n",
       "    <tr>\n",
       "      <th>11</th>\n",
       "      <td>0</td>\n",
       "      <td>112500.0</td>\n",
       "      <td>56.0</td>\n",
       "      <td>12.0</td>\n",
       "      <td>2</td>\n",
       "      <td>0</td>\n",
       "      <td>0</td>\n",
       "      <td>1</td>\n",
       "      <td>0</td>\n",
       "      <td>1</td>\n",
       "      <td>...</td>\n",
       "      <td>1</td>\n",
       "      <td>0</td>\n",
       "      <td>0</td>\n",
       "      <td>0</td>\n",
       "      <td>0</td>\n",
       "      <td>1</td>\n",
       "      <td>0</td>\n",
       "      <td>0</td>\n",
       "      <td>0</td>\n",
       "      <td>0</td>\n",
       "    </tr>\n",
       "    <tr>\n",
       "      <th>12</th>\n",
       "      <td>2</td>\n",
       "      <td>135000.0</td>\n",
       "      <td>43.0</td>\n",
       "      <td>9.0</td>\n",
       "      <td>4</td>\n",
       "      <td>0</td>\n",
       "      <td>1</td>\n",
       "      <td>0</td>\n",
       "      <td>0</td>\n",
       "      <td>1</td>\n",
       "      <td>...</td>\n",
       "      <td>1</td>\n",
       "      <td>0</td>\n",
       "      <td>0</td>\n",
       "      <td>0</td>\n",
       "      <td>0</td>\n",
       "      <td>1</td>\n",
       "      <td>0</td>\n",
       "      <td>0</td>\n",
       "      <td>0</td>\n",
       "      <td>0</td>\n",
       "    </tr>\n",
       "    <tr>\n",
       "      <th>13</th>\n",
       "      <td>1</td>\n",
       "      <td>211500.0</td>\n",
       "      <td>44.0</td>\n",
       "      <td>19.0</td>\n",
       "      <td>3</td>\n",
       "      <td>0</td>\n",
       "      <td>1</td>\n",
       "      <td>0</td>\n",
       "      <td>1</td>\n",
       "      <td>0</td>\n",
       "      <td>...</td>\n",
       "      <td>0</td>\n",
       "      <td>0</td>\n",
       "      <td>0</td>\n",
       "      <td>0</td>\n",
       "      <td>0</td>\n",
       "      <td>1</td>\n",
       "      <td>0</td>\n",
       "      <td>0</td>\n",
       "      <td>0</td>\n",
       "      <td>0</td>\n",
       "    </tr>\n",
       "    <tr>\n",
       "      <th>14</th>\n",
       "      <td>0</td>\n",
       "      <td>360000.0</td>\n",
       "      <td>46.0</td>\n",
       "      <td>15.0</td>\n",
       "      <td>2</td>\n",
       "      <td>1</td>\n",
       "      <td>0</td>\n",
       "      <td>1</td>\n",
       "      <td>0</td>\n",
       "      <td>1</td>\n",
       "      <td>...</td>\n",
       "      <td>1</td>\n",
       "      <td>0</td>\n",
       "      <td>0</td>\n",
       "      <td>0</td>\n",
       "      <td>0</td>\n",
       "      <td>1</td>\n",
       "      <td>0</td>\n",
       "      <td>0</td>\n",
       "      <td>0</td>\n",
       "      <td>0</td>\n",
       "    </tr>\n",
       "    <tr>\n",
       "      <th>15</th>\n",
       "      <td>2</td>\n",
       "      <td>126000.0</td>\n",
       "      <td>34.0</td>\n",
       "      <td>5.0</td>\n",
       "      <td>4</td>\n",
       "      <td>0</td>\n",
       "      <td>1</td>\n",
       "      <td>0</td>\n",
       "      <td>1</td>\n",
       "      <td>0</td>\n",
       "      <td>...</td>\n",
       "      <td>1</td>\n",
       "      <td>0</td>\n",
       "      <td>0</td>\n",
       "      <td>0</td>\n",
       "      <td>0</td>\n",
       "      <td>1</td>\n",
       "      <td>0</td>\n",
       "      <td>0</td>\n",
       "      <td>0</td>\n",
       "      <td>0</td>\n",
       "    </tr>\n",
       "    <tr>\n",
       "      <th>16</th>\n",
       "      <td>2</td>\n",
       "      <td>126000.0</td>\n",
       "      <td>34.0</td>\n",
       "      <td>5.0</td>\n",
       "      <td>4</td>\n",
       "      <td>1</td>\n",
       "      <td>1</td>\n",
       "      <td>0</td>\n",
       "      <td>1</td>\n",
       "      <td>0</td>\n",
       "      <td>...</td>\n",
       "      <td>1</td>\n",
       "      <td>0</td>\n",
       "      <td>0</td>\n",
       "      <td>0</td>\n",
       "      <td>0</td>\n",
       "      <td>1</td>\n",
       "      <td>0</td>\n",
       "      <td>0</td>\n",
       "      <td>0</td>\n",
       "      <td>0</td>\n",
       "    </tr>\n",
       "    <tr>\n",
       "      <th>17</th>\n",
       "      <td>0</td>\n",
       "      <td>315000.0</td>\n",
       "      <td>55.0</td>\n",
       "      <td>0.0</td>\n",
       "      <td>1</td>\n",
       "      <td>0</td>\n",
       "      <td>1</td>\n",
       "      <td>0</td>\n",
       "      <td>1</td>\n",
       "      <td>0</td>\n",
       "      <td>...</td>\n",
       "      <td>0</td>\n",
       "      <td>0</td>\n",
       "      <td>0</td>\n",
       "      <td>1</td>\n",
       "      <td>0</td>\n",
       "      <td>1</td>\n",
       "      <td>0</td>\n",
       "      <td>0</td>\n",
       "      <td>0</td>\n",
       "      <td>0</td>\n",
       "    </tr>\n",
       "    <tr>\n",
       "      <th>18</th>\n",
       "      <td>0</td>\n",
       "      <td>247500.0</td>\n",
       "      <td>47.0</td>\n",
       "      <td>4.0</td>\n",
       "      <td>1</td>\n",
       "      <td>0</td>\n",
       "      <td>1</td>\n",
       "      <td>0</td>\n",
       "      <td>1</td>\n",
       "      <td>0</td>\n",
       "      <td>...</td>\n",
       "      <td>0</td>\n",
       "      <td>1</td>\n",
       "      <td>0</td>\n",
       "      <td>0</td>\n",
       "      <td>0</td>\n",
       "      <td>0</td>\n",
       "      <td>0</td>\n",
       "      <td>0</td>\n",
       "      <td>1</td>\n",
       "      <td>0</td>\n",
       "    </tr>\n",
       "    <tr>\n",
       "      <th>19</th>\n",
       "      <td>0</td>\n",
       "      <td>297000.0</td>\n",
       "      <td>43.0</td>\n",
       "      <td>9.0</td>\n",
       "      <td>1</td>\n",
       "      <td>0</td>\n",
       "      <td>1</td>\n",
       "      <td>0</td>\n",
       "      <td>1</td>\n",
       "      <td>0</td>\n",
       "      <td>...</td>\n",
       "      <td>0</td>\n",
       "      <td>0</td>\n",
       "      <td>1</td>\n",
       "      <td>0</td>\n",
       "      <td>0</td>\n",
       "      <td>0</td>\n",
       "      <td>0</td>\n",
       "      <td>0</td>\n",
       "      <td>1</td>\n",
       "      <td>0</td>\n",
       "    </tr>\n",
       "  </tbody>\n",
       "</table>\n",
       "<p>20 rows × 33 columns</p>\n",
       "</div>"
      ],
      "text/plain": [
       "    CNT_CHILDREN  AMT_INCOME_TOTAL  AGE_YEARS  YEARS_EMPLOYED  \\\n",
       "0              0          427500.0       33.0            12.0   \n",
       "1              0          112500.0       59.0             3.0   \n",
       "2              0          270000.0       52.0             8.0   \n",
       "3              0          283500.0       62.0             0.0   \n",
       "4              0          270000.0       46.0             2.0   \n",
       "5              0          135000.0       49.0             3.0   \n",
       "6              0          130500.0       29.0             3.0   \n",
       "7              0          157500.0       27.0             4.0   \n",
       "8              1          112500.0       30.0             4.0   \n",
       "9              3          270000.0       35.0             3.0   \n",
       "10             1          405000.0       32.0             6.0   \n",
       "11             0          112500.0       56.0            12.0   \n",
       "12             2          135000.0       43.0             9.0   \n",
       "13             1          211500.0       44.0            19.0   \n",
       "14             0          360000.0       46.0            15.0   \n",
       "15             2          126000.0       34.0             5.0   \n",
       "16             2          126000.0       34.0             5.0   \n",
       "17             0          315000.0       55.0             0.0   \n",
       "18             0          247500.0       47.0             4.0   \n",
       "19             0          297000.0       43.0             9.0   \n",
       "\n",
       "    CNT_FAM_MEMBERS  STATUS  CODE_GENDER_F  CODE_GENDER_M  FLAG_OWN_CAR_N  \\\n",
       "0                 2       1              0              1               0   \n",
       "1                 2       0              0              1               0   \n",
       "2                 1       0              1              0               1   \n",
       "3                 1       0              1              0               1   \n",
       "4                 2       0              0              1               0   \n",
       "5                 2       0              0              1               0   \n",
       "6                 2       1              1              0               0   \n",
       "7                 2       1              1              0               1   \n",
       "8                 2       0              1              0               1   \n",
       "9                 5       0              0              1               0   \n",
       "10                3       0              0              1               1   \n",
       "11                2       0              0              1               0   \n",
       "12                4       0              1              0               0   \n",
       "13                3       0              1              0               1   \n",
       "14                2       1              0              1               0   \n",
       "15                4       0              1              0               1   \n",
       "16                4       1              1              0               1   \n",
       "17                1       0              1              0               1   \n",
       "18                1       0              1              0               1   \n",
       "19                1       0              1              0               1   \n",
       "\n",
       "    FLAG_OWN_CAR_Y  ...  NAME_FAMILY_STATUS_Married  \\\n",
       "0                1  ...                           0   \n",
       "1                1  ...                           1   \n",
       "2                0  ...                           0   \n",
       "3                0  ...                           0   \n",
       "4                1  ...                           1   \n",
       "5                1  ...                           1   \n",
       "6                1  ...                           1   \n",
       "7                0  ...                           1   \n",
       "8                0  ...                           0   \n",
       "9                1  ...                           1   \n",
       "10               0  ...                           1   \n",
       "11               1  ...                           1   \n",
       "12               1  ...                           1   \n",
       "13               0  ...                           0   \n",
       "14               1  ...                           1   \n",
       "15               0  ...                           1   \n",
       "16               0  ...                           1   \n",
       "17               0  ...                           0   \n",
       "18               0  ...                           0   \n",
       "19               0  ...                           0   \n",
       "\n",
       "    NAME_FAMILY_STATUS_Separated  NAME_FAMILY_STATUS_Single / not married  \\\n",
       "0                              0                                        0   \n",
       "1                              0                                        0   \n",
       "2                              0                                        1   \n",
       "3                              1                                        0   \n",
       "4                              0                                        0   \n",
       "5                              0                                        0   \n",
       "6                              0                                        0   \n",
       "7                              0                                        0   \n",
       "8                              0                                        1   \n",
       "9                              0                                        0   \n",
       "10                             0                                        0   \n",
       "11                             0                                        0   \n",
       "12                             0                                        0   \n",
       "13                             0                                        0   \n",
       "14                             0                                        0   \n",
       "15                             0                                        0   \n",
       "16                             0                                        0   \n",
       "17                             0                                        0   \n",
       "18                             1                                        0   \n",
       "19                             0                                        1   \n",
       "\n",
       "    NAME_FAMILY_STATUS_Widow  NAME_HOUSING_TYPE_Co-op apartment  \\\n",
       "0                          0                                  0   \n",
       "1                          0                                  0   \n",
       "2                          0                                  0   \n",
       "3                          0                                  0   \n",
       "4                          0                                  0   \n",
       "5                          0                                  0   \n",
       "6                          0                                  0   \n",
       "7                          0                                  0   \n",
       "8                          0                                  0   \n",
       "9                          0                                  0   \n",
       "10                         0                                  0   \n",
       "11                         0                                  0   \n",
       "12                         0                                  0   \n",
       "13                         0                                  0   \n",
       "14                         0                                  0   \n",
       "15                         0                                  0   \n",
       "16                         0                                  0   \n",
       "17                         1                                  0   \n",
       "18                         0                                  0   \n",
       "19                         0                                  0   \n",
       "\n",
       "    NAME_HOUSING_TYPE_House / apartment  \\\n",
       "0                                     0   \n",
       "1                                     1   \n",
       "2                                     1   \n",
       "3                                     1   \n",
       "4                                     1   \n",
       "5                                     1   \n",
       "6                                     1   \n",
       "7                                     1   \n",
       "8                                     1   \n",
       "9                                     1   \n",
       "10                                    1   \n",
       "11                                    1   \n",
       "12                                    1   \n",
       "13                                    1   \n",
       "14                                    1   \n",
       "15                                    1   \n",
       "16                                    1   \n",
       "17                                    1   \n",
       "18                                    0   \n",
       "19                                    0   \n",
       "\n",
       "    NAME_HOUSING_TYPE_Municipal apartment  NAME_HOUSING_TYPE_Office apartment  \\\n",
       "0                                       0                                   0   \n",
       "1                                       0                                   0   \n",
       "2                                       0                                   0   \n",
       "3                                       0                                   0   \n",
       "4                                       0                                   0   \n",
       "5                                       0                                   0   \n",
       "6                                       0                                   0   \n",
       "7                                       0                                   0   \n",
       "8                                       0                                   0   \n",
       "9                                       0                                   0   \n",
       "10                                      0                                   0   \n",
       "11                                      0                                   0   \n",
       "12                                      0                                   0   \n",
       "13                                      0                                   0   \n",
       "14                                      0                                   0   \n",
       "15                                      0                                   0   \n",
       "16                                      0                                   0   \n",
       "17                                      0                                   0   \n",
       "18                                      0                                   0   \n",
       "19                                      0                                   0   \n",
       "\n",
       "    NAME_HOUSING_TYPE_Rented apartment  NAME_HOUSING_TYPE_With parents  \n",
       "0                                    1                               0  \n",
       "1                                    0                               0  \n",
       "2                                    0                               0  \n",
       "3                                    0                               0  \n",
       "4                                    0                               0  \n",
       "5                                    0                               0  \n",
       "6                                    0                               0  \n",
       "7                                    0                               0  \n",
       "8                                    0                               0  \n",
       "9                                    0                               0  \n",
       "10                                   0                               0  \n",
       "11                                   0                               0  \n",
       "12                                   0                               0  \n",
       "13                                   0                               0  \n",
       "14                                   0                               0  \n",
       "15                                   0                               0  \n",
       "16                                   0                               0  \n",
       "17                                   0                               0  \n",
       "18                                   1                               0  \n",
       "19                                   1                               0  \n",
       "\n",
       "[20 rows x 33 columns]"
      ]
     },
     "execution_count": 86,
     "metadata": {},
     "output_type": "execute_result"
    }
   ],
   "source": [
    "## Encoding categorical data\n",
    "from sklearn.preprocessing import OneHotEncoder\n",
    "final_df=pd.get_dummies(final_df)\n",
    "final_df.head(20)\n"
   ]
  },
  {
   "cell_type": "code",
   "execution_count": 87,
   "id": "09aa5ccb",
   "metadata": {},
   "outputs": [
    {
     "data": {
      "text/html": [
       "<div>\n",
       "<style scoped>\n",
       "    .dataframe tbody tr th:only-of-type {\n",
       "        vertical-align: middle;\n",
       "    }\n",
       "\n",
       "    .dataframe tbody tr th {\n",
       "        vertical-align: top;\n",
       "    }\n",
       "\n",
       "    .dataframe thead th {\n",
       "        text-align: right;\n",
       "    }\n",
       "</style>\n",
       "<table border=\"1\" class=\"dataframe\">\n",
       "  <thead>\n",
       "    <tr style=\"text-align: right;\">\n",
       "      <th></th>\n",
       "      <th>CNT_CHILDREN</th>\n",
       "      <th>AMT_INCOME_TOTAL</th>\n",
       "      <th>AGE_YEARS</th>\n",
       "      <th>YEARS_EMPLOYED</th>\n",
       "      <th>CNT_FAM_MEMBERS</th>\n",
       "      <th>STATUS</th>\n",
       "      <th>CODE_GENDER_F</th>\n",
       "      <th>CODE_GENDER_M</th>\n",
       "      <th>FLAG_OWN_CAR_N</th>\n",
       "      <th>FLAG_OWN_CAR_Y</th>\n",
       "      <th>...</th>\n",
       "      <th>NAME_FAMILY_STATUS_Married</th>\n",
       "      <th>NAME_FAMILY_STATUS_Separated</th>\n",
       "      <th>NAME_FAMILY_STATUS_Single / not married</th>\n",
       "      <th>NAME_FAMILY_STATUS_Widow</th>\n",
       "      <th>NAME_HOUSING_TYPE_Co-op apartment</th>\n",
       "      <th>NAME_HOUSING_TYPE_House / apartment</th>\n",
       "      <th>NAME_HOUSING_TYPE_Municipal apartment</th>\n",
       "      <th>NAME_HOUSING_TYPE_Office apartment</th>\n",
       "      <th>NAME_HOUSING_TYPE_Rented apartment</th>\n",
       "      <th>NAME_HOUSING_TYPE_With parents</th>\n",
       "    </tr>\n",
       "  </thead>\n",
       "  <tbody>\n",
       "    <tr>\n",
       "      <th>CNT_CHILDREN</th>\n",
       "      <td>1.000000</td>\n",
       "      <td>0.027806</td>\n",
       "      <td>-0.326642</td>\n",
       "      <td>0.033979</td>\n",
       "      <td>0.884676</td>\n",
       "      <td>0.004820</td>\n",
       "      <td>-0.052351</td>\n",
       "      <td>0.052351</td>\n",
       "      <td>-0.087407</td>\n",
       "      <td>0.087407</td>\n",
       "      <td>...</td>\n",
       "      <td>0.173711</td>\n",
       "      <td>-0.023923</td>\n",
       "      <td>-0.147074</td>\n",
       "      <td>-0.098552</td>\n",
       "      <td>0.006783</td>\n",
       "      <td>-0.009349</td>\n",
       "      <td>-0.005042</td>\n",
       "      <td>0.025150</td>\n",
       "      <td>-0.014007</td>\n",
       "      <td>0.013298</td>\n",
       "    </tr>\n",
       "    <tr>\n",
       "      <th>AMT_INCOME_TOTAL</th>\n",
       "      <td>0.027806</td>\n",
       "      <td>1.000000</td>\n",
       "      <td>-0.044799</td>\n",
       "      <td>0.079548</td>\n",
       "      <td>0.025272</td>\n",
       "      <td>0.020289</td>\n",
       "      <td>-0.199358</td>\n",
       "      <td>0.199358</td>\n",
       "      <td>-0.218026</td>\n",
       "      <td>0.218026</td>\n",
       "      <td>...</td>\n",
       "      <td>0.011637</td>\n",
       "      <td>0.011327</td>\n",
       "      <td>0.007555</td>\n",
       "      <td>-0.042739</td>\n",
       "      <td>0.008659</td>\n",
       "      <td>0.010298</td>\n",
       "      <td>-0.013894</td>\n",
       "      <td>0.025155</td>\n",
       "      <td>0.012359</td>\n",
       "      <td>-0.023376</td>\n",
       "    </tr>\n",
       "    <tr>\n",
       "      <th>AGE_YEARS</th>\n",
       "      <td>-0.326642</td>\n",
       "      <td>-0.044799</td>\n",
       "      <td>1.000000</td>\n",
       "      <td>0.016587</td>\n",
       "      <td>-0.275968</td>\n",
       "      <td>-0.022945</td>\n",
       "      <td>0.157507</td>\n",
       "      <td>-0.157507</td>\n",
       "      <td>0.106634</td>\n",
       "      <td>-0.106634</td>\n",
       "      <td>...</td>\n",
       "      <td>0.006189</td>\n",
       "      <td>0.061043</td>\n",
       "      <td>-0.132663</td>\n",
       "      <td>0.230248</td>\n",
       "      <td>-0.022296</td>\n",
       "      <td>0.174010</td>\n",
       "      <td>0.015549</td>\n",
       "      <td>-0.018650</td>\n",
       "      <td>-0.069608</td>\n",
       "      <td>-0.213853</td>\n",
       "    </tr>\n",
       "    <tr>\n",
       "      <th>YEARS_EMPLOYED</th>\n",
       "      <td>0.033979</td>\n",
       "      <td>0.079548</td>\n",
       "      <td>0.016587</td>\n",
       "      <td>1.000000</td>\n",
       "      <td>0.055498</td>\n",
       "      <td>-0.000081</td>\n",
       "      <td>0.043657</td>\n",
       "      <td>-0.043657</td>\n",
       "      <td>-0.006570</td>\n",
       "      <td>0.006570</td>\n",
       "      <td>...</td>\n",
       "      <td>0.069703</td>\n",
       "      <td>0.006172</td>\n",
       "      <td>-0.051061</td>\n",
       "      <td>-0.045067</td>\n",
       "      <td>-0.006328</td>\n",
       "      <td>0.028180</td>\n",
       "      <td>0.008875</td>\n",
       "      <td>0.027071</td>\n",
       "      <td>-0.029927</td>\n",
       "      <td>-0.041597</td>\n",
       "    </tr>\n",
       "    <tr>\n",
       "      <th>CNT_FAM_MEMBERS</th>\n",
       "      <td>0.884676</td>\n",
       "      <td>0.025272</td>\n",
       "      <td>-0.275968</td>\n",
       "      <td>0.055498</td>\n",
       "      <td>1.000000</td>\n",
       "      <td>0.004675</td>\n",
       "      <td>-0.078853</td>\n",
       "      <td>0.078853</td>\n",
       "      <td>-0.138978</td>\n",
       "      <td>0.138978</td>\n",
       "      <td>...</td>\n",
       "      <td>0.514553</td>\n",
       "      <td>-0.227364</td>\n",
       "      <td>-0.451509</td>\n",
       "      <td>-0.251752</td>\n",
       "      <td>-0.002321</td>\n",
       "      <td>0.026572</td>\n",
       "      <td>-0.020030</td>\n",
       "      <td>0.017581</td>\n",
       "      <td>-0.029076</td>\n",
       "      <td>-0.012034</td>\n",
       "    </tr>\n",
       "    <tr>\n",
       "      <th>STATUS</th>\n",
       "      <td>0.004820</td>\n",
       "      <td>0.020289</td>\n",
       "      <td>-0.022945</td>\n",
       "      <td>-0.000081</td>\n",
       "      <td>0.004675</td>\n",
       "      <td>1.000000</td>\n",
       "      <td>-0.002039</td>\n",
       "      <td>0.002039</td>\n",
       "      <td>0.003826</td>\n",
       "      <td>-0.003826</td>\n",
       "      <td>...</td>\n",
       "      <td>-0.005632</td>\n",
       "      <td>-0.014645</td>\n",
       "      <td>0.015767</td>\n",
       "      <td>-0.004581</td>\n",
       "      <td>-0.005125</td>\n",
       "      <td>-0.015677</td>\n",
       "      <td>0.006337</td>\n",
       "      <td>0.004323</td>\n",
       "      <td>0.012849</td>\n",
       "      <td>0.009741</td>\n",
       "    </tr>\n",
       "    <tr>\n",
       "      <th>CODE_GENDER_F</th>\n",
       "      <td>-0.052351</td>\n",
       "      <td>-0.199358</td>\n",
       "      <td>0.157507</td>\n",
       "      <td>0.043657</td>\n",
       "      <td>-0.078853</td>\n",
       "      <td>-0.002039</td>\n",
       "      <td>1.000000</td>\n",
       "      <td>-1.000000</td>\n",
       "      <td>0.348307</td>\n",
       "      <td>-0.348307</td>\n",
       "      <td>...</td>\n",
       "      <td>-0.096394</td>\n",
       "      <td>0.055638</td>\n",
       "      <td>-0.015433</td>\n",
       "      <td>0.136941</td>\n",
       "      <td>-0.019616</td>\n",
       "      <td>0.044406</td>\n",
       "      <td>0.022360</td>\n",
       "      <td>-0.042459</td>\n",
       "      <td>-0.039837</td>\n",
       "      <td>-0.037732</td>\n",
       "    </tr>\n",
       "    <tr>\n",
       "      <th>CODE_GENDER_M</th>\n",
       "      <td>0.052351</td>\n",
       "      <td>0.199358</td>\n",
       "      <td>-0.157507</td>\n",
       "      <td>-0.043657</td>\n",
       "      <td>0.078853</td>\n",
       "      <td>0.002039</td>\n",
       "      <td>-1.000000</td>\n",
       "      <td>1.000000</td>\n",
       "      <td>-0.348307</td>\n",
       "      <td>0.348307</td>\n",
       "      <td>...</td>\n",
       "      <td>0.096394</td>\n",
       "      <td>-0.055638</td>\n",
       "      <td>0.015433</td>\n",
       "      <td>-0.136941</td>\n",
       "      <td>0.019616</td>\n",
       "      <td>-0.044406</td>\n",
       "      <td>-0.022360</td>\n",
       "      <td>0.042459</td>\n",
       "      <td>0.039837</td>\n",
       "      <td>0.037732</td>\n",
       "    </tr>\n",
       "    <tr>\n",
       "      <th>FLAG_OWN_CAR_N</th>\n",
       "      <td>-0.087407</td>\n",
       "      <td>-0.218026</td>\n",
       "      <td>0.106634</td>\n",
       "      <td>-0.006570</td>\n",
       "      <td>-0.138978</td>\n",
       "      <td>0.003826</td>\n",
       "      <td>0.348307</td>\n",
       "      <td>-0.348307</td>\n",
       "      <td>1.000000</td>\n",
       "      <td>-1.000000</td>\n",
       "      <td>...</td>\n",
       "      <td>-0.152205</td>\n",
       "      <td>0.060168</td>\n",
       "      <td>0.083632</td>\n",
       "      <td>0.098024</td>\n",
       "      <td>-0.013653</td>\n",
       "      <td>-0.020865</td>\n",
       "      <td>0.037445</td>\n",
       "      <td>-0.013532</td>\n",
       "      <td>0.011932</td>\n",
       "      <td>0.001235</td>\n",
       "    </tr>\n",
       "    <tr>\n",
       "      <th>FLAG_OWN_CAR_Y</th>\n",
       "      <td>0.087407</td>\n",
       "      <td>0.218026</td>\n",
       "      <td>-0.106634</td>\n",
       "      <td>0.006570</td>\n",
       "      <td>0.138978</td>\n",
       "      <td>-0.003826</td>\n",
       "      <td>-0.348307</td>\n",
       "      <td>0.348307</td>\n",
       "      <td>-1.000000</td>\n",
       "      <td>1.000000</td>\n",
       "      <td>...</td>\n",
       "      <td>0.152205</td>\n",
       "      <td>-0.060168</td>\n",
       "      <td>-0.083632</td>\n",
       "      <td>-0.098024</td>\n",
       "      <td>0.013653</td>\n",
       "      <td>0.020865</td>\n",
       "      <td>-0.037445</td>\n",
       "      <td>0.013532</td>\n",
       "      <td>-0.011932</td>\n",
       "      <td>-0.001235</td>\n",
       "    </tr>\n",
       "    <tr>\n",
       "      <th>FLAG_OWN_REALTY_N</th>\n",
       "      <td>-0.001740</td>\n",
       "      <td>-0.036549</td>\n",
       "      <td>-0.121351</td>\n",
       "      <td>0.011665</td>\n",
       "      <td>-0.009698</td>\n",
       "      <td>0.022887</td>\n",
       "      <td>-0.052647</td>\n",
       "      <td>0.052647</td>\n",
       "      <td>-0.000126</td>\n",
       "      <td>0.000126</td>\n",
       "      <td>...</td>\n",
       "      <td>-0.014317</td>\n",
       "      <td>0.001461</td>\n",
       "      <td>0.030556</td>\n",
       "      <td>-0.018259</td>\n",
       "      <td>0.012271</td>\n",
       "      <td>-0.208150</td>\n",
       "      <td>0.133202</td>\n",
       "      <td>0.050381</td>\n",
       "      <td>0.047804</td>\n",
       "      <td>0.138033</td>\n",
       "    </tr>\n",
       "    <tr>\n",
       "      <th>FLAG_OWN_REALTY_Y</th>\n",
       "      <td>0.001740</td>\n",
       "      <td>0.036549</td>\n",
       "      <td>0.121351</td>\n",
       "      <td>-0.011665</td>\n",
       "      <td>0.009698</td>\n",
       "      <td>-0.022887</td>\n",
       "      <td>0.052647</td>\n",
       "      <td>-0.052647</td>\n",
       "      <td>0.000126</td>\n",
       "      <td>-0.000126</td>\n",
       "      <td>...</td>\n",
       "      <td>0.014317</td>\n",
       "      <td>-0.001461</td>\n",
       "      <td>-0.030556</td>\n",
       "      <td>0.018259</td>\n",
       "      <td>-0.012271</td>\n",
       "      <td>0.208150</td>\n",
       "      <td>-0.133202</td>\n",
       "      <td>-0.050381</td>\n",
       "      <td>-0.047804</td>\n",
       "      <td>-0.138033</td>\n",
       "    </tr>\n",
       "    <tr>\n",
       "      <th>NAME_INCOME_TYPE_Commercial associate</th>\n",
       "      <td>0.033430</td>\n",
       "      <td>0.159744</td>\n",
       "      <td>-0.153723</td>\n",
       "      <td>0.023575</td>\n",
       "      <td>0.036209</td>\n",
       "      <td>0.002552</td>\n",
       "      <td>-0.030290</td>\n",
       "      <td>0.030290</td>\n",
       "      <td>-0.048992</td>\n",
       "      <td>0.048992</td>\n",
       "      <td>...</td>\n",
       "      <td>0.000749</td>\n",
       "      <td>-0.013925</td>\n",
       "      <td>0.022467</td>\n",
       "      <td>-0.067995</td>\n",
       "      <td>-0.016248</td>\n",
       "      <td>-0.001759</td>\n",
       "      <td>-0.004160</td>\n",
       "      <td>-0.007103</td>\n",
       "      <td>-0.005249</td>\n",
       "      <td>0.016662</td>\n",
       "    </tr>\n",
       "    <tr>\n",
       "      <th>NAME_INCOME_TYPE_Pensioner</th>\n",
       "      <td>-0.212388</td>\n",
       "      <td>-0.140340</td>\n",
       "      <td>0.584819</td>\n",
       "      <td>-0.389590</td>\n",
       "      <td>-0.206155</td>\n",
       "      <td>-0.000339</td>\n",
       "      <td>0.140541</td>\n",
       "      <td>-0.140541</td>\n",
       "      <td>0.116800</td>\n",
       "      <td>-0.116800</td>\n",
       "      <td>...</td>\n",
       "      <td>-0.056342</td>\n",
       "      <td>0.016407</td>\n",
       "      <td>-0.032136</td>\n",
       "      <td>0.205323</td>\n",
       "      <td>-0.016812</td>\n",
       "      <td>0.076521</td>\n",
       "      <td>0.011087</td>\n",
       "      <td>-0.022938</td>\n",
       "      <td>-0.032035</td>\n",
       "      <td>-0.088611</td>\n",
       "    </tr>\n",
       "    <tr>\n",
       "      <th>NAME_INCOME_TYPE_State servant</th>\n",
       "      <td>0.037168</td>\n",
       "      <td>0.043844</td>\n",
       "      <td>-0.057280</td>\n",
       "      <td>0.176438</td>\n",
       "      <td>0.037620</td>\n",
       "      <td>0.000771</td>\n",
       "      <td>0.052082</td>\n",
       "      <td>-0.052082</td>\n",
       "      <td>0.019860</td>\n",
       "      <td>-0.019860</td>\n",
       "      <td>...</td>\n",
       "      <td>0.018588</td>\n",
       "      <td>-0.008242</td>\n",
       "      <td>-0.006987</td>\n",
       "      <td>-0.011691</td>\n",
       "      <td>0.011413</td>\n",
       "      <td>-0.046746</td>\n",
       "      <td>0.024671</td>\n",
       "      <td>0.072981</td>\n",
       "      <td>-0.007972</td>\n",
       "      <td>0.017310</td>\n",
       "    </tr>\n",
       "    <tr>\n",
       "      <th>NAME_INCOME_TYPE_Student</th>\n",
       "      <td>-0.002179</td>\n",
       "      <td>-0.007426</td>\n",
       "      <td>-0.010047</td>\n",
       "      <td>-0.002219</td>\n",
       "      <td>-0.003434</td>\n",
       "      <td>0.004751</td>\n",
       "      <td>0.000747</td>\n",
       "      <td>-0.000747</td>\n",
       "      <td>0.012788</td>\n",
       "      <td>-0.012788</td>\n",
       "      <td>...</td>\n",
       "      <td>-0.011815</td>\n",
       "      <td>-0.004100</td>\n",
       "      <td>0.009012</td>\n",
       "      <td>-0.003401</td>\n",
       "      <td>-0.000980</td>\n",
       "      <td>-0.011744</td>\n",
       "      <td>-0.003129</td>\n",
       "      <td>-0.001525</td>\n",
       "      <td>-0.002040</td>\n",
       "      <td>0.021930</td>\n",
       "    </tr>\n",
       "    <tr>\n",
       "      <th>NAME_INCOME_TYPE_Working</th>\n",
       "      <td>0.104500</td>\n",
       "      <td>-0.059720</td>\n",
       "      <td>-0.258109</td>\n",
       "      <td>0.166365</td>\n",
       "      <td>0.097411</td>\n",
       "      <td>-0.002524</td>\n",
       "      <td>-0.103026</td>\n",
       "      <td>0.103026</td>\n",
       "      <td>-0.052982</td>\n",
       "      <td>0.052982</td>\n",
       "      <td>...</td>\n",
       "      <td>0.030431</td>\n",
       "      <td>0.004714</td>\n",
       "      <td>0.007229</td>\n",
       "      <td>-0.083028</td>\n",
       "      <td>0.020064</td>\n",
       "      <td>-0.028295</td>\n",
       "      <td>-0.017475</td>\n",
       "      <td>-0.016260</td>\n",
       "      <td>0.031940</td>\n",
       "      <td>0.039543</td>\n",
       "    </tr>\n",
       "    <tr>\n",
       "      <th>NAME_EDUCATION_TYPE_Academic degree</th>\n",
       "      <td>0.007210</td>\n",
       "      <td>0.014513</td>\n",
       "      <td>0.008654</td>\n",
       "      <td>0.008070</td>\n",
       "      <td>0.009207</td>\n",
       "      <td>0.002302</td>\n",
       "      <td>0.005906</td>\n",
       "      <td>-0.005906</td>\n",
       "      <td>-0.006887</td>\n",
       "      <td>0.006887</td>\n",
       "      <td>...</td>\n",
       "      <td>-0.009758</td>\n",
       "      <td>-0.006697</td>\n",
       "      <td>-0.001329</td>\n",
       "      <td>-0.005555</td>\n",
       "      <td>-0.001601</td>\n",
       "      <td>0.009467</td>\n",
       "      <td>-0.005110</td>\n",
       "      <td>-0.002491</td>\n",
       "      <td>-0.003332</td>\n",
       "      <td>-0.006055</td>\n",
       "    </tr>\n",
       "    <tr>\n",
       "      <th>NAME_EDUCATION_TYPE_Higher education</th>\n",
       "      <td>0.023573</td>\n",
       "      <td>0.226841</td>\n",
       "      <td>-0.106170</td>\n",
       "      <td>0.026512</td>\n",
       "      <td>0.022439</td>\n",
       "      <td>0.002600</td>\n",
       "      <td>0.019595</td>\n",
       "      <td>-0.019595</td>\n",
       "      <td>-0.082556</td>\n",
       "      <td>0.082556</td>\n",
       "      <td>...</td>\n",
       "      <td>0.033343</td>\n",
       "      <td>0.010562</td>\n",
       "      <td>0.017296</td>\n",
       "      <td>-0.056946</td>\n",
       "      <td>0.013356</td>\n",
       "      <td>0.008702</td>\n",
       "      <td>-0.041895</td>\n",
       "      <td>0.005652</td>\n",
       "      <td>-0.012662</td>\n",
       "      <td>0.024226</td>\n",
       "    </tr>\n",
       "    <tr>\n",
       "      <th>NAME_EDUCATION_TYPE_Incomplete higher</th>\n",
       "      <td>0.007285</td>\n",
       "      <td>0.032613</td>\n",
       "      <td>-0.150936</td>\n",
       "      <td>-0.026728</td>\n",
       "      <td>-0.006346</td>\n",
       "      <td>0.013776</td>\n",
       "      <td>-0.021661</td>\n",
       "      <td>0.021661</td>\n",
       "      <td>-0.018296</td>\n",
       "      <td>0.018296</td>\n",
       "      <td>...</td>\n",
       "      <td>-0.037042</td>\n",
       "      <td>-0.011285</td>\n",
       "      <td>0.055922</td>\n",
       "      <td>-0.028069</td>\n",
       "      <td>0.011262</td>\n",
       "      <td>-0.064103</td>\n",
       "      <td>-0.003414</td>\n",
       "      <td>-0.003769</td>\n",
       "      <td>0.031603</td>\n",
       "      <td>0.077122</td>\n",
       "    </tr>\n",
       "    <tr>\n",
       "      <th>NAME_EDUCATION_TYPE_Lower secondary</th>\n",
       "      <td>-0.013217</td>\n",
       "      <td>-0.050650</td>\n",
       "      <td>0.043622</td>\n",
       "      <td>-0.035537</td>\n",
       "      <td>-0.001314</td>\n",
       "      <td>-0.005573</td>\n",
       "      <td>-0.005632</td>\n",
       "      <td>0.005632</td>\n",
       "      <td>0.026961</td>\n",
       "      <td>-0.026961</td>\n",
       "      <td>...</td>\n",
       "      <td>0.006289</td>\n",
       "      <td>-0.012665</td>\n",
       "      <td>-0.017722</td>\n",
       "      <td>0.007346</td>\n",
       "      <td>0.007743</td>\n",
       "      <td>-0.007508</td>\n",
       "      <td>0.002337</td>\n",
       "      <td>-0.000886</td>\n",
       "      <td>0.014169</td>\n",
       "      <td>-0.000857</td>\n",
       "    </tr>\n",
       "    <tr>\n",
       "      <th>NAME_EDUCATION_TYPE_Secondary / secondary special</th>\n",
       "      <td>-0.022748</td>\n",
       "      <td>-0.217621</td>\n",
       "      <td>0.153611</td>\n",
       "      <td>-0.006054</td>\n",
       "      <td>-0.018793</td>\n",
       "      <td>-0.007119</td>\n",
       "      <td>-0.008446</td>\n",
       "      <td>0.008446</td>\n",
       "      <td>0.080031</td>\n",
       "      <td>-0.080031</td>\n",
       "      <td>...</td>\n",
       "      <td>-0.016821</td>\n",
       "      <td>-0.001913</td>\n",
       "      <td>-0.035796</td>\n",
       "      <td>0.064378</td>\n",
       "      <td>-0.019098</td>\n",
       "      <td>0.020009</td>\n",
       "      <td>0.040856</td>\n",
       "      <td>-0.003410</td>\n",
       "      <td>-0.004441</td>\n",
       "      <td>-0.054937</td>\n",
       "    </tr>\n",
       "    <tr>\n",
       "      <th>NAME_FAMILY_STATUS_Civil marriage</th>\n",
       "      <td>-0.018199</td>\n",
       "      <td>-0.008119</td>\n",
       "      <td>-0.058094</td>\n",
       "      <td>-0.026289</td>\n",
       "      <td>0.066989</td>\n",
       "      <td>0.005220</td>\n",
       "      <td>0.037212</td>\n",
       "      <td>-0.037212</td>\n",
       "      <td>0.031119</td>\n",
       "      <td>-0.031119</td>\n",
       "      <td>...</td>\n",
       "      <td>-0.443302</td>\n",
       "      <td>-0.077349</td>\n",
       "      <td>-0.126564</td>\n",
       "      <td>-0.064159</td>\n",
       "      <td>-0.013107</td>\n",
       "      <td>-0.018057</td>\n",
       "      <td>-0.012030</td>\n",
       "      <td>0.009455</td>\n",
       "      <td>0.000760</td>\n",
       "      <td>0.035832</td>\n",
       "    </tr>\n",
       "    <tr>\n",
       "      <th>NAME_FAMILY_STATUS_Married</th>\n",
       "      <td>0.173711</td>\n",
       "      <td>0.011637</td>\n",
       "      <td>0.006189</td>\n",
       "      <td>0.069703</td>\n",
       "      <td>0.514553</td>\n",
       "      <td>-0.005632</td>\n",
       "      <td>-0.096394</td>\n",
       "      <td>0.096394</td>\n",
       "      <td>-0.152205</td>\n",
       "      <td>0.152205</td>\n",
       "      <td>...</td>\n",
       "      <td>1.000000</td>\n",
       "      <td>-0.355001</td>\n",
       "      <td>-0.580875</td>\n",
       "      <td>-0.294463</td>\n",
       "      <td>-0.006971</td>\n",
       "      <td>0.079044</td>\n",
       "      <td>-0.025324</td>\n",
       "      <td>-0.010528</td>\n",
       "      <td>-0.036231</td>\n",
       "      <td>-0.066790</td>\n",
       "    </tr>\n",
       "    <tr>\n",
       "      <th>NAME_FAMILY_STATUS_Separated</th>\n",
       "      <td>-0.023923</td>\n",
       "      <td>0.011327</td>\n",
       "      <td>0.061043</td>\n",
       "      <td>0.006172</td>\n",
       "      <td>-0.227364</td>\n",
       "      <td>-0.014645</td>\n",
       "      <td>0.055638</td>\n",
       "      <td>-0.055638</td>\n",
       "      <td>0.060168</td>\n",
       "      <td>-0.060168</td>\n",
       "      <td>...</td>\n",
       "      <td>-0.355001</td>\n",
       "      <td>1.000000</td>\n",
       "      <td>-0.101353</td>\n",
       "      <td>-0.051379</td>\n",
       "      <td>0.004720</td>\n",
       "      <td>-0.004875</td>\n",
       "      <td>0.007459</td>\n",
       "      <td>-0.002030</td>\n",
       "      <td>-0.008672</td>\n",
       "      <td>0.005244</td>\n",
       "    </tr>\n",
       "    <tr>\n",
       "      <th>NAME_FAMILY_STATUS_Single / not married</th>\n",
       "      <td>-0.147074</td>\n",
       "      <td>0.007555</td>\n",
       "      <td>-0.132663</td>\n",
       "      <td>-0.051061</td>\n",
       "      <td>-0.451509</td>\n",
       "      <td>0.015767</td>\n",
       "      <td>-0.015433</td>\n",
       "      <td>0.015433</td>\n",
       "      <td>0.083632</td>\n",
       "      <td>-0.083632</td>\n",
       "      <td>...</td>\n",
       "      <td>-0.580875</td>\n",
       "      <td>-0.101353</td>\n",
       "      <td>1.000000</td>\n",
       "      <td>-0.084070</td>\n",
       "      <td>0.010709</td>\n",
       "      <td>-0.102325</td>\n",
       "      <td>0.022927</td>\n",
       "      <td>0.018692</td>\n",
       "      <td>0.064201</td>\n",
       "      <td>0.082410</td>\n",
       "    </tr>\n",
       "    <tr>\n",
       "      <th>NAME_FAMILY_STATUS_Widow</th>\n",
       "      <td>-0.098552</td>\n",
       "      <td>-0.042739</td>\n",
       "      <td>0.230248</td>\n",
       "      <td>-0.045067</td>\n",
       "      <td>-0.251752</td>\n",
       "      <td>-0.004581</td>\n",
       "      <td>0.136941</td>\n",
       "      <td>-0.136941</td>\n",
       "      <td>0.098024</td>\n",
       "      <td>-0.098024</td>\n",
       "      <td>...</td>\n",
       "      <td>-0.294463</td>\n",
       "      <td>-0.051379</td>\n",
       "      <td>-0.084070</td>\n",
       "      <td>1.000000</td>\n",
       "      <td>0.010831</td>\n",
       "      <td>0.024489</td>\n",
       "      <td>0.028062</td>\n",
       "      <td>-0.019115</td>\n",
       "      <td>-0.018074</td>\n",
       "      <td>-0.044324</td>\n",
       "    </tr>\n",
       "    <tr>\n",
       "      <th>NAME_HOUSING_TYPE_Co-op apartment</th>\n",
       "      <td>0.006783</td>\n",
       "      <td>0.008659</td>\n",
       "      <td>-0.022296</td>\n",
       "      <td>-0.006328</td>\n",
       "      <td>-0.002321</td>\n",
       "      <td>-0.005125</td>\n",
       "      <td>-0.019616</td>\n",
       "      <td>0.019616</td>\n",
       "      <td>-0.013653</td>\n",
       "      <td>0.013653</td>\n",
       "      <td>...</td>\n",
       "      <td>-0.006971</td>\n",
       "      <td>0.004720</td>\n",
       "      <td>0.010709</td>\n",
       "      <td>0.010831</td>\n",
       "      <td>1.000000</td>\n",
       "      <td>-0.169097</td>\n",
       "      <td>-0.011299</td>\n",
       "      <td>-0.005509</td>\n",
       "      <td>-0.007367</td>\n",
       "      <td>-0.013388</td>\n",
       "    </tr>\n",
       "    <tr>\n",
       "      <th>NAME_HOUSING_TYPE_House / apartment</th>\n",
       "      <td>-0.009349</td>\n",
       "      <td>0.010298</td>\n",
       "      <td>0.174010</td>\n",
       "      <td>0.028180</td>\n",
       "      <td>0.026572</td>\n",
       "      <td>-0.015677</td>\n",
       "      <td>0.044406</td>\n",
       "      <td>-0.044406</td>\n",
       "      <td>-0.020865</td>\n",
       "      <td>0.020865</td>\n",
       "      <td>...</td>\n",
       "      <td>0.079044</td>\n",
       "      <td>-0.004875</td>\n",
       "      <td>-0.102325</td>\n",
       "      <td>0.024489</td>\n",
       "      <td>-0.169097</td>\n",
       "      <td>1.000000</td>\n",
       "      <td>-0.539835</td>\n",
       "      <td>-0.263180</td>\n",
       "      <td>-0.351964</td>\n",
       "      <td>-0.639627</td>\n",
       "    </tr>\n",
       "    <tr>\n",
       "      <th>NAME_HOUSING_TYPE_Municipal apartment</th>\n",
       "      <td>-0.005042</td>\n",
       "      <td>-0.013894</td>\n",
       "      <td>0.015549</td>\n",
       "      <td>0.008875</td>\n",
       "      <td>-0.020030</td>\n",
       "      <td>0.006337</td>\n",
       "      <td>0.022360</td>\n",
       "      <td>-0.022360</td>\n",
       "      <td>0.037445</td>\n",
       "      <td>-0.037445</td>\n",
       "      <td>...</td>\n",
       "      <td>-0.025324</td>\n",
       "      <td>0.007459</td>\n",
       "      <td>0.022927</td>\n",
       "      <td>0.028062</td>\n",
       "      <td>-0.011299</td>\n",
       "      <td>-0.539835</td>\n",
       "      <td>1.000000</td>\n",
       "      <td>-0.017586</td>\n",
       "      <td>-0.023519</td>\n",
       "      <td>-0.042741</td>\n",
       "    </tr>\n",
       "    <tr>\n",
       "      <th>NAME_HOUSING_TYPE_Office apartment</th>\n",
       "      <td>0.025150</td>\n",
       "      <td>0.025155</td>\n",
       "      <td>-0.018650</td>\n",
       "      <td>0.027071</td>\n",
       "      <td>0.017581</td>\n",
       "      <td>0.004323</td>\n",
       "      <td>-0.042459</td>\n",
       "      <td>0.042459</td>\n",
       "      <td>-0.013532</td>\n",
       "      <td>0.013532</td>\n",
       "      <td>...</td>\n",
       "      <td>-0.010528</td>\n",
       "      <td>-0.002030</td>\n",
       "      <td>0.018692</td>\n",
       "      <td>-0.019115</td>\n",
       "      <td>-0.005509</td>\n",
       "      <td>-0.263180</td>\n",
       "      <td>-0.017586</td>\n",
       "      <td>1.000000</td>\n",
       "      <td>-0.011466</td>\n",
       "      <td>-0.020837</td>\n",
       "    </tr>\n",
       "    <tr>\n",
       "      <th>NAME_HOUSING_TYPE_Rented apartment</th>\n",
       "      <td>-0.014007</td>\n",
       "      <td>0.012359</td>\n",
       "      <td>-0.069608</td>\n",
       "      <td>-0.029927</td>\n",
       "      <td>-0.029076</td>\n",
       "      <td>0.012849</td>\n",
       "      <td>-0.039837</td>\n",
       "      <td>0.039837</td>\n",
       "      <td>0.011932</td>\n",
       "      <td>-0.011932</td>\n",
       "      <td>...</td>\n",
       "      <td>-0.036231</td>\n",
       "      <td>-0.008672</td>\n",
       "      <td>0.064201</td>\n",
       "      <td>-0.018074</td>\n",
       "      <td>-0.007367</td>\n",
       "      <td>-0.351964</td>\n",
       "      <td>-0.023519</td>\n",
       "      <td>-0.011466</td>\n",
       "      <td>1.000000</td>\n",
       "      <td>-0.027866</td>\n",
       "    </tr>\n",
       "    <tr>\n",
       "      <th>NAME_HOUSING_TYPE_With parents</th>\n",
       "      <td>0.013298</td>\n",
       "      <td>-0.023376</td>\n",
       "      <td>-0.213853</td>\n",
       "      <td>-0.041597</td>\n",
       "      <td>-0.012034</td>\n",
       "      <td>0.009741</td>\n",
       "      <td>-0.037732</td>\n",
       "      <td>0.037732</td>\n",
       "      <td>0.001235</td>\n",
       "      <td>-0.001235</td>\n",
       "      <td>...</td>\n",
       "      <td>-0.066790</td>\n",
       "      <td>0.005244</td>\n",
       "      <td>0.082410</td>\n",
       "      <td>-0.044324</td>\n",
       "      <td>-0.013388</td>\n",
       "      <td>-0.639627</td>\n",
       "      <td>-0.042741</td>\n",
       "      <td>-0.020837</td>\n",
       "      <td>-0.027866</td>\n",
       "      <td>1.000000</td>\n",
       "    </tr>\n",
       "  </tbody>\n",
       "</table>\n",
       "<p>33 rows × 33 columns</p>\n",
       "</div>"
      ],
      "text/plain": [
       "                                                   CNT_CHILDREN  \\\n",
       "CNT_CHILDREN                                           1.000000   \n",
       "AMT_INCOME_TOTAL                                       0.027806   \n",
       "AGE_YEARS                                             -0.326642   \n",
       "YEARS_EMPLOYED                                         0.033979   \n",
       "CNT_FAM_MEMBERS                                        0.884676   \n",
       "STATUS                                                 0.004820   \n",
       "CODE_GENDER_F                                         -0.052351   \n",
       "CODE_GENDER_M                                          0.052351   \n",
       "FLAG_OWN_CAR_N                                        -0.087407   \n",
       "FLAG_OWN_CAR_Y                                         0.087407   \n",
       "FLAG_OWN_REALTY_N                                     -0.001740   \n",
       "FLAG_OWN_REALTY_Y                                      0.001740   \n",
       "NAME_INCOME_TYPE_Commercial associate                  0.033430   \n",
       "NAME_INCOME_TYPE_Pensioner                            -0.212388   \n",
       "NAME_INCOME_TYPE_State servant                         0.037168   \n",
       "NAME_INCOME_TYPE_Student                              -0.002179   \n",
       "NAME_INCOME_TYPE_Working                               0.104500   \n",
       "NAME_EDUCATION_TYPE_Academic degree                    0.007210   \n",
       "NAME_EDUCATION_TYPE_Higher education                   0.023573   \n",
       "NAME_EDUCATION_TYPE_Incomplete higher                  0.007285   \n",
       "NAME_EDUCATION_TYPE_Lower secondary                   -0.013217   \n",
       "NAME_EDUCATION_TYPE_Secondary / secondary special     -0.022748   \n",
       "NAME_FAMILY_STATUS_Civil marriage                     -0.018199   \n",
       "NAME_FAMILY_STATUS_Married                             0.173711   \n",
       "NAME_FAMILY_STATUS_Separated                          -0.023923   \n",
       "NAME_FAMILY_STATUS_Single / not married               -0.147074   \n",
       "NAME_FAMILY_STATUS_Widow                              -0.098552   \n",
       "NAME_HOUSING_TYPE_Co-op apartment                      0.006783   \n",
       "NAME_HOUSING_TYPE_House / apartment                   -0.009349   \n",
       "NAME_HOUSING_TYPE_Municipal apartment                 -0.005042   \n",
       "NAME_HOUSING_TYPE_Office apartment                     0.025150   \n",
       "NAME_HOUSING_TYPE_Rented apartment                    -0.014007   \n",
       "NAME_HOUSING_TYPE_With parents                         0.013298   \n",
       "\n",
       "                                                   AMT_INCOME_TOTAL  \\\n",
       "CNT_CHILDREN                                               0.027806   \n",
       "AMT_INCOME_TOTAL                                           1.000000   \n",
       "AGE_YEARS                                                 -0.044799   \n",
       "YEARS_EMPLOYED                                             0.079548   \n",
       "CNT_FAM_MEMBERS                                            0.025272   \n",
       "STATUS                                                     0.020289   \n",
       "CODE_GENDER_F                                             -0.199358   \n",
       "CODE_GENDER_M                                              0.199358   \n",
       "FLAG_OWN_CAR_N                                            -0.218026   \n",
       "FLAG_OWN_CAR_Y                                             0.218026   \n",
       "FLAG_OWN_REALTY_N                                         -0.036549   \n",
       "FLAG_OWN_REALTY_Y                                          0.036549   \n",
       "NAME_INCOME_TYPE_Commercial associate                      0.159744   \n",
       "NAME_INCOME_TYPE_Pensioner                                -0.140340   \n",
       "NAME_INCOME_TYPE_State servant                             0.043844   \n",
       "NAME_INCOME_TYPE_Student                                  -0.007426   \n",
       "NAME_INCOME_TYPE_Working                                  -0.059720   \n",
       "NAME_EDUCATION_TYPE_Academic degree                        0.014513   \n",
       "NAME_EDUCATION_TYPE_Higher education                       0.226841   \n",
       "NAME_EDUCATION_TYPE_Incomplete higher                      0.032613   \n",
       "NAME_EDUCATION_TYPE_Lower secondary                       -0.050650   \n",
       "NAME_EDUCATION_TYPE_Secondary / secondary special         -0.217621   \n",
       "NAME_FAMILY_STATUS_Civil marriage                         -0.008119   \n",
       "NAME_FAMILY_STATUS_Married                                 0.011637   \n",
       "NAME_FAMILY_STATUS_Separated                               0.011327   \n",
       "NAME_FAMILY_STATUS_Single / not married                    0.007555   \n",
       "NAME_FAMILY_STATUS_Widow                                  -0.042739   \n",
       "NAME_HOUSING_TYPE_Co-op apartment                          0.008659   \n",
       "NAME_HOUSING_TYPE_House / apartment                        0.010298   \n",
       "NAME_HOUSING_TYPE_Municipal apartment                     -0.013894   \n",
       "NAME_HOUSING_TYPE_Office apartment                         0.025155   \n",
       "NAME_HOUSING_TYPE_Rented apartment                         0.012359   \n",
       "NAME_HOUSING_TYPE_With parents                            -0.023376   \n",
       "\n",
       "                                                   AGE_YEARS  YEARS_EMPLOYED  \\\n",
       "CNT_CHILDREN                                       -0.326642        0.033979   \n",
       "AMT_INCOME_TOTAL                                   -0.044799        0.079548   \n",
       "AGE_YEARS                                           1.000000        0.016587   \n",
       "YEARS_EMPLOYED                                      0.016587        1.000000   \n",
       "CNT_FAM_MEMBERS                                    -0.275968        0.055498   \n",
       "STATUS                                             -0.022945       -0.000081   \n",
       "CODE_GENDER_F                                       0.157507        0.043657   \n",
       "CODE_GENDER_M                                      -0.157507       -0.043657   \n",
       "FLAG_OWN_CAR_N                                      0.106634       -0.006570   \n",
       "FLAG_OWN_CAR_Y                                     -0.106634        0.006570   \n",
       "FLAG_OWN_REALTY_N                                  -0.121351        0.011665   \n",
       "FLAG_OWN_REALTY_Y                                   0.121351       -0.011665   \n",
       "NAME_INCOME_TYPE_Commercial associate              -0.153723        0.023575   \n",
       "NAME_INCOME_TYPE_Pensioner                          0.584819       -0.389590   \n",
       "NAME_INCOME_TYPE_State servant                     -0.057280        0.176438   \n",
       "NAME_INCOME_TYPE_Student                           -0.010047       -0.002219   \n",
       "NAME_INCOME_TYPE_Working                           -0.258109        0.166365   \n",
       "NAME_EDUCATION_TYPE_Academic degree                 0.008654        0.008070   \n",
       "NAME_EDUCATION_TYPE_Higher education               -0.106170        0.026512   \n",
       "NAME_EDUCATION_TYPE_Incomplete higher              -0.150936       -0.026728   \n",
       "NAME_EDUCATION_TYPE_Lower secondary                 0.043622       -0.035537   \n",
       "NAME_EDUCATION_TYPE_Secondary / secondary special   0.153611       -0.006054   \n",
       "NAME_FAMILY_STATUS_Civil marriage                  -0.058094       -0.026289   \n",
       "NAME_FAMILY_STATUS_Married                          0.006189        0.069703   \n",
       "NAME_FAMILY_STATUS_Separated                        0.061043        0.006172   \n",
       "NAME_FAMILY_STATUS_Single / not married            -0.132663       -0.051061   \n",
       "NAME_FAMILY_STATUS_Widow                            0.230248       -0.045067   \n",
       "NAME_HOUSING_TYPE_Co-op apartment                  -0.022296       -0.006328   \n",
       "NAME_HOUSING_TYPE_House / apartment                 0.174010        0.028180   \n",
       "NAME_HOUSING_TYPE_Municipal apartment               0.015549        0.008875   \n",
       "NAME_HOUSING_TYPE_Office apartment                 -0.018650        0.027071   \n",
       "NAME_HOUSING_TYPE_Rented apartment                 -0.069608       -0.029927   \n",
       "NAME_HOUSING_TYPE_With parents                     -0.213853       -0.041597   \n",
       "\n",
       "                                                   CNT_FAM_MEMBERS    STATUS  \\\n",
       "CNT_CHILDREN                                              0.884676  0.004820   \n",
       "AMT_INCOME_TOTAL                                          0.025272  0.020289   \n",
       "AGE_YEARS                                                -0.275968 -0.022945   \n",
       "YEARS_EMPLOYED                                            0.055498 -0.000081   \n",
       "CNT_FAM_MEMBERS                                           1.000000  0.004675   \n",
       "STATUS                                                    0.004675  1.000000   \n",
       "CODE_GENDER_F                                            -0.078853 -0.002039   \n",
       "CODE_GENDER_M                                             0.078853  0.002039   \n",
       "FLAG_OWN_CAR_N                                           -0.138978  0.003826   \n",
       "FLAG_OWN_CAR_Y                                            0.138978 -0.003826   \n",
       "FLAG_OWN_REALTY_N                                        -0.009698  0.022887   \n",
       "FLAG_OWN_REALTY_Y                                         0.009698 -0.022887   \n",
       "NAME_INCOME_TYPE_Commercial associate                     0.036209  0.002552   \n",
       "NAME_INCOME_TYPE_Pensioner                               -0.206155 -0.000339   \n",
       "NAME_INCOME_TYPE_State servant                            0.037620  0.000771   \n",
       "NAME_INCOME_TYPE_Student                                 -0.003434  0.004751   \n",
       "NAME_INCOME_TYPE_Working                                  0.097411 -0.002524   \n",
       "NAME_EDUCATION_TYPE_Academic degree                       0.009207  0.002302   \n",
       "NAME_EDUCATION_TYPE_Higher education                      0.022439  0.002600   \n",
       "NAME_EDUCATION_TYPE_Incomplete higher                    -0.006346  0.013776   \n",
       "NAME_EDUCATION_TYPE_Lower secondary                      -0.001314 -0.005573   \n",
       "NAME_EDUCATION_TYPE_Secondary / secondary special        -0.018793 -0.007119   \n",
       "NAME_FAMILY_STATUS_Civil marriage                         0.066989  0.005220   \n",
       "NAME_FAMILY_STATUS_Married                                0.514553 -0.005632   \n",
       "NAME_FAMILY_STATUS_Separated                             -0.227364 -0.014645   \n",
       "NAME_FAMILY_STATUS_Single / not married                  -0.451509  0.015767   \n",
       "NAME_FAMILY_STATUS_Widow                                 -0.251752 -0.004581   \n",
       "NAME_HOUSING_TYPE_Co-op apartment                        -0.002321 -0.005125   \n",
       "NAME_HOUSING_TYPE_House / apartment                       0.026572 -0.015677   \n",
       "NAME_HOUSING_TYPE_Municipal apartment                    -0.020030  0.006337   \n",
       "NAME_HOUSING_TYPE_Office apartment                        0.017581  0.004323   \n",
       "NAME_HOUSING_TYPE_Rented apartment                       -0.029076  0.012849   \n",
       "NAME_HOUSING_TYPE_With parents                           -0.012034  0.009741   \n",
       "\n",
       "                                                   CODE_GENDER_F  \\\n",
       "CNT_CHILDREN                                           -0.052351   \n",
       "AMT_INCOME_TOTAL                                       -0.199358   \n",
       "AGE_YEARS                                               0.157507   \n",
       "YEARS_EMPLOYED                                          0.043657   \n",
       "CNT_FAM_MEMBERS                                        -0.078853   \n",
       "STATUS                                                 -0.002039   \n",
       "CODE_GENDER_F                                           1.000000   \n",
       "CODE_GENDER_M                                          -1.000000   \n",
       "FLAG_OWN_CAR_N                                          0.348307   \n",
       "FLAG_OWN_CAR_Y                                         -0.348307   \n",
       "FLAG_OWN_REALTY_N                                      -0.052647   \n",
       "FLAG_OWN_REALTY_Y                                       0.052647   \n",
       "NAME_INCOME_TYPE_Commercial associate                  -0.030290   \n",
       "NAME_INCOME_TYPE_Pensioner                              0.140541   \n",
       "NAME_INCOME_TYPE_State servant                          0.052082   \n",
       "NAME_INCOME_TYPE_Student                                0.000747   \n",
       "NAME_INCOME_TYPE_Working                               -0.103026   \n",
       "NAME_EDUCATION_TYPE_Academic degree                     0.005906   \n",
       "NAME_EDUCATION_TYPE_Higher education                    0.019595   \n",
       "NAME_EDUCATION_TYPE_Incomplete higher                  -0.021661   \n",
       "NAME_EDUCATION_TYPE_Lower secondary                    -0.005632   \n",
       "NAME_EDUCATION_TYPE_Secondary / secondary special      -0.008446   \n",
       "NAME_FAMILY_STATUS_Civil marriage                       0.037212   \n",
       "NAME_FAMILY_STATUS_Married                             -0.096394   \n",
       "NAME_FAMILY_STATUS_Separated                            0.055638   \n",
       "NAME_FAMILY_STATUS_Single / not married                -0.015433   \n",
       "NAME_FAMILY_STATUS_Widow                                0.136941   \n",
       "NAME_HOUSING_TYPE_Co-op apartment                      -0.019616   \n",
       "NAME_HOUSING_TYPE_House / apartment                     0.044406   \n",
       "NAME_HOUSING_TYPE_Municipal apartment                   0.022360   \n",
       "NAME_HOUSING_TYPE_Office apartment                     -0.042459   \n",
       "NAME_HOUSING_TYPE_Rented apartment                     -0.039837   \n",
       "NAME_HOUSING_TYPE_With parents                         -0.037732   \n",
       "\n",
       "                                                   CODE_GENDER_M  \\\n",
       "CNT_CHILDREN                                            0.052351   \n",
       "AMT_INCOME_TOTAL                                        0.199358   \n",
       "AGE_YEARS                                              -0.157507   \n",
       "YEARS_EMPLOYED                                         -0.043657   \n",
       "CNT_FAM_MEMBERS                                         0.078853   \n",
       "STATUS                                                  0.002039   \n",
       "CODE_GENDER_F                                          -1.000000   \n",
       "CODE_GENDER_M                                           1.000000   \n",
       "FLAG_OWN_CAR_N                                         -0.348307   \n",
       "FLAG_OWN_CAR_Y                                          0.348307   \n",
       "FLAG_OWN_REALTY_N                                       0.052647   \n",
       "FLAG_OWN_REALTY_Y                                      -0.052647   \n",
       "NAME_INCOME_TYPE_Commercial associate                   0.030290   \n",
       "NAME_INCOME_TYPE_Pensioner                             -0.140541   \n",
       "NAME_INCOME_TYPE_State servant                         -0.052082   \n",
       "NAME_INCOME_TYPE_Student                               -0.000747   \n",
       "NAME_INCOME_TYPE_Working                                0.103026   \n",
       "NAME_EDUCATION_TYPE_Academic degree                    -0.005906   \n",
       "NAME_EDUCATION_TYPE_Higher education                   -0.019595   \n",
       "NAME_EDUCATION_TYPE_Incomplete higher                   0.021661   \n",
       "NAME_EDUCATION_TYPE_Lower secondary                     0.005632   \n",
       "NAME_EDUCATION_TYPE_Secondary / secondary special       0.008446   \n",
       "NAME_FAMILY_STATUS_Civil marriage                      -0.037212   \n",
       "NAME_FAMILY_STATUS_Married                              0.096394   \n",
       "NAME_FAMILY_STATUS_Separated                           -0.055638   \n",
       "NAME_FAMILY_STATUS_Single / not married                 0.015433   \n",
       "NAME_FAMILY_STATUS_Widow                               -0.136941   \n",
       "NAME_HOUSING_TYPE_Co-op apartment                       0.019616   \n",
       "NAME_HOUSING_TYPE_House / apartment                    -0.044406   \n",
       "NAME_HOUSING_TYPE_Municipal apartment                  -0.022360   \n",
       "NAME_HOUSING_TYPE_Office apartment                      0.042459   \n",
       "NAME_HOUSING_TYPE_Rented apartment                      0.039837   \n",
       "NAME_HOUSING_TYPE_With parents                          0.037732   \n",
       "\n",
       "                                                   FLAG_OWN_CAR_N  \\\n",
       "CNT_CHILDREN                                            -0.087407   \n",
       "AMT_INCOME_TOTAL                                        -0.218026   \n",
       "AGE_YEARS                                                0.106634   \n",
       "YEARS_EMPLOYED                                          -0.006570   \n",
       "CNT_FAM_MEMBERS                                         -0.138978   \n",
       "STATUS                                                   0.003826   \n",
       "CODE_GENDER_F                                            0.348307   \n",
       "CODE_GENDER_M                                           -0.348307   \n",
       "FLAG_OWN_CAR_N                                           1.000000   \n",
       "FLAG_OWN_CAR_Y                                          -1.000000   \n",
       "FLAG_OWN_REALTY_N                                       -0.000126   \n",
       "FLAG_OWN_REALTY_Y                                        0.000126   \n",
       "NAME_INCOME_TYPE_Commercial associate                   -0.048992   \n",
       "NAME_INCOME_TYPE_Pensioner                               0.116800   \n",
       "NAME_INCOME_TYPE_State servant                           0.019860   \n",
       "NAME_INCOME_TYPE_Student                                 0.012788   \n",
       "NAME_INCOME_TYPE_Working                                -0.052982   \n",
       "NAME_EDUCATION_TYPE_Academic degree                     -0.006887   \n",
       "NAME_EDUCATION_TYPE_Higher education                    -0.082556   \n",
       "NAME_EDUCATION_TYPE_Incomplete higher                   -0.018296   \n",
       "NAME_EDUCATION_TYPE_Lower secondary                      0.026961   \n",
       "NAME_EDUCATION_TYPE_Secondary / secondary special        0.080031   \n",
       "NAME_FAMILY_STATUS_Civil marriage                        0.031119   \n",
       "NAME_FAMILY_STATUS_Married                              -0.152205   \n",
       "NAME_FAMILY_STATUS_Separated                             0.060168   \n",
       "NAME_FAMILY_STATUS_Single / not married                  0.083632   \n",
       "NAME_FAMILY_STATUS_Widow                                 0.098024   \n",
       "NAME_HOUSING_TYPE_Co-op apartment                       -0.013653   \n",
       "NAME_HOUSING_TYPE_House / apartment                     -0.020865   \n",
       "NAME_HOUSING_TYPE_Municipal apartment                    0.037445   \n",
       "NAME_HOUSING_TYPE_Office apartment                      -0.013532   \n",
       "NAME_HOUSING_TYPE_Rented apartment                       0.011932   \n",
       "NAME_HOUSING_TYPE_With parents                           0.001235   \n",
       "\n",
       "                                                   FLAG_OWN_CAR_Y  ...  \\\n",
       "CNT_CHILDREN                                             0.087407  ...   \n",
       "AMT_INCOME_TOTAL                                         0.218026  ...   \n",
       "AGE_YEARS                                               -0.106634  ...   \n",
       "YEARS_EMPLOYED                                           0.006570  ...   \n",
       "CNT_FAM_MEMBERS                                          0.138978  ...   \n",
       "STATUS                                                  -0.003826  ...   \n",
       "CODE_GENDER_F                                           -0.348307  ...   \n",
       "CODE_GENDER_M                                            0.348307  ...   \n",
       "FLAG_OWN_CAR_N                                          -1.000000  ...   \n",
       "FLAG_OWN_CAR_Y                                           1.000000  ...   \n",
       "FLAG_OWN_REALTY_N                                        0.000126  ...   \n",
       "FLAG_OWN_REALTY_Y                                       -0.000126  ...   \n",
       "NAME_INCOME_TYPE_Commercial associate                    0.048992  ...   \n",
       "NAME_INCOME_TYPE_Pensioner                              -0.116800  ...   \n",
       "NAME_INCOME_TYPE_State servant                          -0.019860  ...   \n",
       "NAME_INCOME_TYPE_Student                                -0.012788  ...   \n",
       "NAME_INCOME_TYPE_Working                                 0.052982  ...   \n",
       "NAME_EDUCATION_TYPE_Academic degree                      0.006887  ...   \n",
       "NAME_EDUCATION_TYPE_Higher education                     0.082556  ...   \n",
       "NAME_EDUCATION_TYPE_Incomplete higher                    0.018296  ...   \n",
       "NAME_EDUCATION_TYPE_Lower secondary                     -0.026961  ...   \n",
       "NAME_EDUCATION_TYPE_Secondary / secondary special       -0.080031  ...   \n",
       "NAME_FAMILY_STATUS_Civil marriage                       -0.031119  ...   \n",
       "NAME_FAMILY_STATUS_Married                               0.152205  ...   \n",
       "NAME_FAMILY_STATUS_Separated                            -0.060168  ...   \n",
       "NAME_FAMILY_STATUS_Single / not married                 -0.083632  ...   \n",
       "NAME_FAMILY_STATUS_Widow                                -0.098024  ...   \n",
       "NAME_HOUSING_TYPE_Co-op apartment                        0.013653  ...   \n",
       "NAME_HOUSING_TYPE_House / apartment                      0.020865  ...   \n",
       "NAME_HOUSING_TYPE_Municipal apartment                   -0.037445  ...   \n",
       "NAME_HOUSING_TYPE_Office apartment                       0.013532  ...   \n",
       "NAME_HOUSING_TYPE_Rented apartment                      -0.011932  ...   \n",
       "NAME_HOUSING_TYPE_With parents                          -0.001235  ...   \n",
       "\n",
       "                                                   NAME_FAMILY_STATUS_Married  \\\n",
       "CNT_CHILDREN                                                         0.173711   \n",
       "AMT_INCOME_TOTAL                                                     0.011637   \n",
       "AGE_YEARS                                                            0.006189   \n",
       "YEARS_EMPLOYED                                                       0.069703   \n",
       "CNT_FAM_MEMBERS                                                      0.514553   \n",
       "STATUS                                                              -0.005632   \n",
       "CODE_GENDER_F                                                       -0.096394   \n",
       "CODE_GENDER_M                                                        0.096394   \n",
       "FLAG_OWN_CAR_N                                                      -0.152205   \n",
       "FLAG_OWN_CAR_Y                                                       0.152205   \n",
       "FLAG_OWN_REALTY_N                                                   -0.014317   \n",
       "FLAG_OWN_REALTY_Y                                                    0.014317   \n",
       "NAME_INCOME_TYPE_Commercial associate                                0.000749   \n",
       "NAME_INCOME_TYPE_Pensioner                                          -0.056342   \n",
       "NAME_INCOME_TYPE_State servant                                       0.018588   \n",
       "NAME_INCOME_TYPE_Student                                            -0.011815   \n",
       "NAME_INCOME_TYPE_Working                                             0.030431   \n",
       "NAME_EDUCATION_TYPE_Academic degree                                 -0.009758   \n",
       "NAME_EDUCATION_TYPE_Higher education                                 0.033343   \n",
       "NAME_EDUCATION_TYPE_Incomplete higher                               -0.037042   \n",
       "NAME_EDUCATION_TYPE_Lower secondary                                  0.006289   \n",
       "NAME_EDUCATION_TYPE_Secondary / secondary special                   -0.016821   \n",
       "NAME_FAMILY_STATUS_Civil marriage                                   -0.443302   \n",
       "NAME_FAMILY_STATUS_Married                                           1.000000   \n",
       "NAME_FAMILY_STATUS_Separated                                        -0.355001   \n",
       "NAME_FAMILY_STATUS_Single / not married                             -0.580875   \n",
       "NAME_FAMILY_STATUS_Widow                                            -0.294463   \n",
       "NAME_HOUSING_TYPE_Co-op apartment                                   -0.006971   \n",
       "NAME_HOUSING_TYPE_House / apartment                                  0.079044   \n",
       "NAME_HOUSING_TYPE_Municipal apartment                               -0.025324   \n",
       "NAME_HOUSING_TYPE_Office apartment                                  -0.010528   \n",
       "NAME_HOUSING_TYPE_Rented apartment                                  -0.036231   \n",
       "NAME_HOUSING_TYPE_With parents                                      -0.066790   \n",
       "\n",
       "                                                   NAME_FAMILY_STATUS_Separated  \\\n",
       "CNT_CHILDREN                                                          -0.023923   \n",
       "AMT_INCOME_TOTAL                                                       0.011327   \n",
       "AGE_YEARS                                                              0.061043   \n",
       "YEARS_EMPLOYED                                                         0.006172   \n",
       "CNT_FAM_MEMBERS                                                       -0.227364   \n",
       "STATUS                                                                -0.014645   \n",
       "CODE_GENDER_F                                                          0.055638   \n",
       "CODE_GENDER_M                                                         -0.055638   \n",
       "FLAG_OWN_CAR_N                                                         0.060168   \n",
       "FLAG_OWN_CAR_Y                                                        -0.060168   \n",
       "FLAG_OWN_REALTY_N                                                      0.001461   \n",
       "FLAG_OWN_REALTY_Y                                                     -0.001461   \n",
       "NAME_INCOME_TYPE_Commercial associate                                 -0.013925   \n",
       "NAME_INCOME_TYPE_Pensioner                                             0.016407   \n",
       "NAME_INCOME_TYPE_State servant                                        -0.008242   \n",
       "NAME_INCOME_TYPE_Student                                              -0.004100   \n",
       "NAME_INCOME_TYPE_Working                                               0.004714   \n",
       "NAME_EDUCATION_TYPE_Academic degree                                   -0.006697   \n",
       "NAME_EDUCATION_TYPE_Higher education                                   0.010562   \n",
       "NAME_EDUCATION_TYPE_Incomplete higher                                 -0.011285   \n",
       "NAME_EDUCATION_TYPE_Lower secondary                                   -0.012665   \n",
       "NAME_EDUCATION_TYPE_Secondary / secondary special                     -0.001913   \n",
       "NAME_FAMILY_STATUS_Civil marriage                                     -0.077349   \n",
       "NAME_FAMILY_STATUS_Married                                            -0.355001   \n",
       "NAME_FAMILY_STATUS_Separated                                           1.000000   \n",
       "NAME_FAMILY_STATUS_Single / not married                               -0.101353   \n",
       "NAME_FAMILY_STATUS_Widow                                              -0.051379   \n",
       "NAME_HOUSING_TYPE_Co-op apartment                                      0.004720   \n",
       "NAME_HOUSING_TYPE_House / apartment                                   -0.004875   \n",
       "NAME_HOUSING_TYPE_Municipal apartment                                  0.007459   \n",
       "NAME_HOUSING_TYPE_Office apartment                                    -0.002030   \n",
       "NAME_HOUSING_TYPE_Rented apartment                                    -0.008672   \n",
       "NAME_HOUSING_TYPE_With parents                                         0.005244   \n",
       "\n",
       "                                                   NAME_FAMILY_STATUS_Single / not married  \\\n",
       "CNT_CHILDREN                                                                     -0.147074   \n",
       "AMT_INCOME_TOTAL                                                                  0.007555   \n",
       "AGE_YEARS                                                                        -0.132663   \n",
       "YEARS_EMPLOYED                                                                   -0.051061   \n",
       "CNT_FAM_MEMBERS                                                                  -0.451509   \n",
       "STATUS                                                                            0.015767   \n",
       "CODE_GENDER_F                                                                    -0.015433   \n",
       "CODE_GENDER_M                                                                     0.015433   \n",
       "FLAG_OWN_CAR_N                                                                    0.083632   \n",
       "FLAG_OWN_CAR_Y                                                                   -0.083632   \n",
       "FLAG_OWN_REALTY_N                                                                 0.030556   \n",
       "FLAG_OWN_REALTY_Y                                                                -0.030556   \n",
       "NAME_INCOME_TYPE_Commercial associate                                             0.022467   \n",
       "NAME_INCOME_TYPE_Pensioner                                                       -0.032136   \n",
       "NAME_INCOME_TYPE_State servant                                                   -0.006987   \n",
       "NAME_INCOME_TYPE_Student                                                          0.009012   \n",
       "NAME_INCOME_TYPE_Working                                                          0.007229   \n",
       "NAME_EDUCATION_TYPE_Academic degree                                              -0.001329   \n",
       "NAME_EDUCATION_TYPE_Higher education                                              0.017296   \n",
       "NAME_EDUCATION_TYPE_Incomplete higher                                             0.055922   \n",
       "NAME_EDUCATION_TYPE_Lower secondary                                              -0.017722   \n",
       "NAME_EDUCATION_TYPE_Secondary / secondary special                                -0.035796   \n",
       "NAME_FAMILY_STATUS_Civil marriage                                                -0.126564   \n",
       "NAME_FAMILY_STATUS_Married                                                       -0.580875   \n",
       "NAME_FAMILY_STATUS_Separated                                                     -0.101353   \n",
       "NAME_FAMILY_STATUS_Single / not married                                           1.000000   \n",
       "NAME_FAMILY_STATUS_Widow                                                         -0.084070   \n",
       "NAME_HOUSING_TYPE_Co-op apartment                                                 0.010709   \n",
       "NAME_HOUSING_TYPE_House / apartment                                              -0.102325   \n",
       "NAME_HOUSING_TYPE_Municipal apartment                                             0.022927   \n",
       "NAME_HOUSING_TYPE_Office apartment                                                0.018692   \n",
       "NAME_HOUSING_TYPE_Rented apartment                                                0.064201   \n",
       "NAME_HOUSING_TYPE_With parents                                                    0.082410   \n",
       "\n",
       "                                                   NAME_FAMILY_STATUS_Widow  \\\n",
       "CNT_CHILDREN                                                      -0.098552   \n",
       "AMT_INCOME_TOTAL                                                  -0.042739   \n",
       "AGE_YEARS                                                          0.230248   \n",
       "YEARS_EMPLOYED                                                    -0.045067   \n",
       "CNT_FAM_MEMBERS                                                   -0.251752   \n",
       "STATUS                                                            -0.004581   \n",
       "CODE_GENDER_F                                                      0.136941   \n",
       "CODE_GENDER_M                                                     -0.136941   \n",
       "FLAG_OWN_CAR_N                                                     0.098024   \n",
       "FLAG_OWN_CAR_Y                                                    -0.098024   \n",
       "FLAG_OWN_REALTY_N                                                 -0.018259   \n",
       "FLAG_OWN_REALTY_Y                                                  0.018259   \n",
       "NAME_INCOME_TYPE_Commercial associate                             -0.067995   \n",
       "NAME_INCOME_TYPE_Pensioner                                         0.205323   \n",
       "NAME_INCOME_TYPE_State servant                                    -0.011691   \n",
       "NAME_INCOME_TYPE_Student                                          -0.003401   \n",
       "NAME_INCOME_TYPE_Working                                          -0.083028   \n",
       "NAME_EDUCATION_TYPE_Academic degree                               -0.005555   \n",
       "NAME_EDUCATION_TYPE_Higher education                              -0.056946   \n",
       "NAME_EDUCATION_TYPE_Incomplete higher                             -0.028069   \n",
       "NAME_EDUCATION_TYPE_Lower secondary                                0.007346   \n",
       "NAME_EDUCATION_TYPE_Secondary / secondary special                  0.064378   \n",
       "NAME_FAMILY_STATUS_Civil marriage                                 -0.064159   \n",
       "NAME_FAMILY_STATUS_Married                                        -0.294463   \n",
       "NAME_FAMILY_STATUS_Separated                                      -0.051379   \n",
       "NAME_FAMILY_STATUS_Single / not married                           -0.084070   \n",
       "NAME_FAMILY_STATUS_Widow                                           1.000000   \n",
       "NAME_HOUSING_TYPE_Co-op apartment                                  0.010831   \n",
       "NAME_HOUSING_TYPE_House / apartment                                0.024489   \n",
       "NAME_HOUSING_TYPE_Municipal apartment                              0.028062   \n",
       "NAME_HOUSING_TYPE_Office apartment                                -0.019115   \n",
       "NAME_HOUSING_TYPE_Rented apartment                                -0.018074   \n",
       "NAME_HOUSING_TYPE_With parents                                    -0.044324   \n",
       "\n",
       "                                                   NAME_HOUSING_TYPE_Co-op apartment  \\\n",
       "CNT_CHILDREN                                                                0.006783   \n",
       "AMT_INCOME_TOTAL                                                            0.008659   \n",
       "AGE_YEARS                                                                  -0.022296   \n",
       "YEARS_EMPLOYED                                                             -0.006328   \n",
       "CNT_FAM_MEMBERS                                                            -0.002321   \n",
       "STATUS                                                                     -0.005125   \n",
       "CODE_GENDER_F                                                              -0.019616   \n",
       "CODE_GENDER_M                                                               0.019616   \n",
       "FLAG_OWN_CAR_N                                                             -0.013653   \n",
       "FLAG_OWN_CAR_Y                                                              0.013653   \n",
       "FLAG_OWN_REALTY_N                                                           0.012271   \n",
       "FLAG_OWN_REALTY_Y                                                          -0.012271   \n",
       "NAME_INCOME_TYPE_Commercial associate                                      -0.016248   \n",
       "NAME_INCOME_TYPE_Pensioner                                                 -0.016812   \n",
       "NAME_INCOME_TYPE_State servant                                              0.011413   \n",
       "NAME_INCOME_TYPE_Student                                                   -0.000980   \n",
       "NAME_INCOME_TYPE_Working                                                    0.020064   \n",
       "NAME_EDUCATION_TYPE_Academic degree                                        -0.001601   \n",
       "NAME_EDUCATION_TYPE_Higher education                                        0.013356   \n",
       "NAME_EDUCATION_TYPE_Incomplete higher                                       0.011262   \n",
       "NAME_EDUCATION_TYPE_Lower secondary                                         0.007743   \n",
       "NAME_EDUCATION_TYPE_Secondary / secondary special                          -0.019098   \n",
       "NAME_FAMILY_STATUS_Civil marriage                                          -0.013107   \n",
       "NAME_FAMILY_STATUS_Married                                                 -0.006971   \n",
       "NAME_FAMILY_STATUS_Separated                                                0.004720   \n",
       "NAME_FAMILY_STATUS_Single / not married                                     0.010709   \n",
       "NAME_FAMILY_STATUS_Widow                                                    0.010831   \n",
       "NAME_HOUSING_TYPE_Co-op apartment                                           1.000000   \n",
       "NAME_HOUSING_TYPE_House / apartment                                        -0.169097   \n",
       "NAME_HOUSING_TYPE_Municipal apartment                                      -0.011299   \n",
       "NAME_HOUSING_TYPE_Office apartment                                         -0.005509   \n",
       "NAME_HOUSING_TYPE_Rented apartment                                         -0.007367   \n",
       "NAME_HOUSING_TYPE_With parents                                             -0.013388   \n",
       "\n",
       "                                                   NAME_HOUSING_TYPE_House / apartment  \\\n",
       "CNT_CHILDREN                                                                 -0.009349   \n",
       "AMT_INCOME_TOTAL                                                              0.010298   \n",
       "AGE_YEARS                                                                     0.174010   \n",
       "YEARS_EMPLOYED                                                                0.028180   \n",
       "CNT_FAM_MEMBERS                                                               0.026572   \n",
       "STATUS                                                                       -0.015677   \n",
       "CODE_GENDER_F                                                                 0.044406   \n",
       "CODE_GENDER_M                                                                -0.044406   \n",
       "FLAG_OWN_CAR_N                                                               -0.020865   \n",
       "FLAG_OWN_CAR_Y                                                                0.020865   \n",
       "FLAG_OWN_REALTY_N                                                            -0.208150   \n",
       "FLAG_OWN_REALTY_Y                                                             0.208150   \n",
       "NAME_INCOME_TYPE_Commercial associate                                        -0.001759   \n",
       "NAME_INCOME_TYPE_Pensioner                                                    0.076521   \n",
       "NAME_INCOME_TYPE_State servant                                               -0.046746   \n",
       "NAME_INCOME_TYPE_Student                                                     -0.011744   \n",
       "NAME_INCOME_TYPE_Working                                                     -0.028295   \n",
       "NAME_EDUCATION_TYPE_Academic degree                                           0.009467   \n",
       "NAME_EDUCATION_TYPE_Higher education                                          0.008702   \n",
       "NAME_EDUCATION_TYPE_Incomplete higher                                        -0.064103   \n",
       "NAME_EDUCATION_TYPE_Lower secondary                                          -0.007508   \n",
       "NAME_EDUCATION_TYPE_Secondary / secondary special                             0.020009   \n",
       "NAME_FAMILY_STATUS_Civil marriage                                            -0.018057   \n",
       "NAME_FAMILY_STATUS_Married                                                    0.079044   \n",
       "NAME_FAMILY_STATUS_Separated                                                 -0.004875   \n",
       "NAME_FAMILY_STATUS_Single / not married                                      -0.102325   \n",
       "NAME_FAMILY_STATUS_Widow                                                      0.024489   \n",
       "NAME_HOUSING_TYPE_Co-op apartment                                            -0.169097   \n",
       "NAME_HOUSING_TYPE_House / apartment                                           1.000000   \n",
       "NAME_HOUSING_TYPE_Municipal apartment                                        -0.539835   \n",
       "NAME_HOUSING_TYPE_Office apartment                                           -0.263180   \n",
       "NAME_HOUSING_TYPE_Rented apartment                                           -0.351964   \n",
       "NAME_HOUSING_TYPE_With parents                                               -0.639627   \n",
       "\n",
       "                                                   NAME_HOUSING_TYPE_Municipal apartment  \\\n",
       "CNT_CHILDREN                                                                   -0.005042   \n",
       "AMT_INCOME_TOTAL                                                               -0.013894   \n",
       "AGE_YEARS                                                                       0.015549   \n",
       "YEARS_EMPLOYED                                                                  0.008875   \n",
       "CNT_FAM_MEMBERS                                                                -0.020030   \n",
       "STATUS                                                                          0.006337   \n",
       "CODE_GENDER_F                                                                   0.022360   \n",
       "CODE_GENDER_M                                                                  -0.022360   \n",
       "FLAG_OWN_CAR_N                                                                  0.037445   \n",
       "FLAG_OWN_CAR_Y                                                                 -0.037445   \n",
       "FLAG_OWN_REALTY_N                                                               0.133202   \n",
       "FLAG_OWN_REALTY_Y                                                              -0.133202   \n",
       "NAME_INCOME_TYPE_Commercial associate                                          -0.004160   \n",
       "NAME_INCOME_TYPE_Pensioner                                                      0.011087   \n",
       "NAME_INCOME_TYPE_State servant                                                  0.024671   \n",
       "NAME_INCOME_TYPE_Student                                                       -0.003129   \n",
       "NAME_INCOME_TYPE_Working                                                       -0.017475   \n",
       "NAME_EDUCATION_TYPE_Academic degree                                            -0.005110   \n",
       "NAME_EDUCATION_TYPE_Higher education                                           -0.041895   \n",
       "NAME_EDUCATION_TYPE_Incomplete higher                                          -0.003414   \n",
       "NAME_EDUCATION_TYPE_Lower secondary                                             0.002337   \n",
       "NAME_EDUCATION_TYPE_Secondary / secondary special                               0.040856   \n",
       "NAME_FAMILY_STATUS_Civil marriage                                              -0.012030   \n",
       "NAME_FAMILY_STATUS_Married                                                     -0.025324   \n",
       "NAME_FAMILY_STATUS_Separated                                                    0.007459   \n",
       "NAME_FAMILY_STATUS_Single / not married                                         0.022927   \n",
       "NAME_FAMILY_STATUS_Widow                                                        0.028062   \n",
       "NAME_HOUSING_TYPE_Co-op apartment                                              -0.011299   \n",
       "NAME_HOUSING_TYPE_House / apartment                                            -0.539835   \n",
       "NAME_HOUSING_TYPE_Municipal apartment                                           1.000000   \n",
       "NAME_HOUSING_TYPE_Office apartment                                             -0.017586   \n",
       "NAME_HOUSING_TYPE_Rented apartment                                             -0.023519   \n",
       "NAME_HOUSING_TYPE_With parents                                                 -0.042741   \n",
       "\n",
       "                                                   NAME_HOUSING_TYPE_Office apartment  \\\n",
       "CNT_CHILDREN                                                                 0.025150   \n",
       "AMT_INCOME_TOTAL                                                             0.025155   \n",
       "AGE_YEARS                                                                   -0.018650   \n",
       "YEARS_EMPLOYED                                                               0.027071   \n",
       "CNT_FAM_MEMBERS                                                              0.017581   \n",
       "STATUS                                                                       0.004323   \n",
       "CODE_GENDER_F                                                               -0.042459   \n",
       "CODE_GENDER_M                                                                0.042459   \n",
       "FLAG_OWN_CAR_N                                                              -0.013532   \n",
       "FLAG_OWN_CAR_Y                                                               0.013532   \n",
       "FLAG_OWN_REALTY_N                                                            0.050381   \n",
       "FLAG_OWN_REALTY_Y                                                           -0.050381   \n",
       "NAME_INCOME_TYPE_Commercial associate                                       -0.007103   \n",
       "NAME_INCOME_TYPE_Pensioner                                                  -0.022938   \n",
       "NAME_INCOME_TYPE_State servant                                               0.072981   \n",
       "NAME_INCOME_TYPE_Student                                                    -0.001525   \n",
       "NAME_INCOME_TYPE_Working                                                    -0.016260   \n",
       "NAME_EDUCATION_TYPE_Academic degree                                         -0.002491   \n",
       "NAME_EDUCATION_TYPE_Higher education                                         0.005652   \n",
       "NAME_EDUCATION_TYPE_Incomplete higher                                       -0.003769   \n",
       "NAME_EDUCATION_TYPE_Lower secondary                                         -0.000886   \n",
       "NAME_EDUCATION_TYPE_Secondary / secondary special                           -0.003410   \n",
       "NAME_FAMILY_STATUS_Civil marriage                                            0.009455   \n",
       "NAME_FAMILY_STATUS_Married                                                  -0.010528   \n",
       "NAME_FAMILY_STATUS_Separated                                                -0.002030   \n",
       "NAME_FAMILY_STATUS_Single / not married                                      0.018692   \n",
       "NAME_FAMILY_STATUS_Widow                                                    -0.019115   \n",
       "NAME_HOUSING_TYPE_Co-op apartment                                           -0.005509   \n",
       "NAME_HOUSING_TYPE_House / apartment                                         -0.263180   \n",
       "NAME_HOUSING_TYPE_Municipal apartment                                       -0.017586   \n",
       "NAME_HOUSING_TYPE_Office apartment                                           1.000000   \n",
       "NAME_HOUSING_TYPE_Rented apartment                                          -0.011466   \n",
       "NAME_HOUSING_TYPE_With parents                                              -0.020837   \n",
       "\n",
       "                                                   NAME_HOUSING_TYPE_Rented apartment  \\\n",
       "CNT_CHILDREN                                                                -0.014007   \n",
       "AMT_INCOME_TOTAL                                                             0.012359   \n",
       "AGE_YEARS                                                                   -0.069608   \n",
       "YEARS_EMPLOYED                                                              -0.029927   \n",
       "CNT_FAM_MEMBERS                                                             -0.029076   \n",
       "STATUS                                                                       0.012849   \n",
       "CODE_GENDER_F                                                               -0.039837   \n",
       "CODE_GENDER_M                                                                0.039837   \n",
       "FLAG_OWN_CAR_N                                                               0.011932   \n",
       "FLAG_OWN_CAR_Y                                                              -0.011932   \n",
       "FLAG_OWN_REALTY_N                                                            0.047804   \n",
       "FLAG_OWN_REALTY_Y                                                           -0.047804   \n",
       "NAME_INCOME_TYPE_Commercial associate                                       -0.005249   \n",
       "NAME_INCOME_TYPE_Pensioner                                                  -0.032035   \n",
       "NAME_INCOME_TYPE_State servant                                              -0.007972   \n",
       "NAME_INCOME_TYPE_Student                                                    -0.002040   \n",
       "NAME_INCOME_TYPE_Working                                                     0.031940   \n",
       "NAME_EDUCATION_TYPE_Academic degree                                         -0.003332   \n",
       "NAME_EDUCATION_TYPE_Higher education                                        -0.012662   \n",
       "NAME_EDUCATION_TYPE_Incomplete higher                                        0.031603   \n",
       "NAME_EDUCATION_TYPE_Lower secondary                                          0.014169   \n",
       "NAME_EDUCATION_TYPE_Secondary / secondary special                           -0.004441   \n",
       "NAME_FAMILY_STATUS_Civil marriage                                            0.000760   \n",
       "NAME_FAMILY_STATUS_Married                                                  -0.036231   \n",
       "NAME_FAMILY_STATUS_Separated                                                -0.008672   \n",
       "NAME_FAMILY_STATUS_Single / not married                                      0.064201   \n",
       "NAME_FAMILY_STATUS_Widow                                                    -0.018074   \n",
       "NAME_HOUSING_TYPE_Co-op apartment                                           -0.007367   \n",
       "NAME_HOUSING_TYPE_House / apartment                                         -0.351964   \n",
       "NAME_HOUSING_TYPE_Municipal apartment                                       -0.023519   \n",
       "NAME_HOUSING_TYPE_Office apartment                                          -0.011466   \n",
       "NAME_HOUSING_TYPE_Rented apartment                                           1.000000   \n",
       "NAME_HOUSING_TYPE_With parents                                              -0.027866   \n",
       "\n",
       "                                                   NAME_HOUSING_TYPE_With parents  \n",
       "CNT_CHILDREN                                                             0.013298  \n",
       "AMT_INCOME_TOTAL                                                        -0.023376  \n",
       "AGE_YEARS                                                               -0.213853  \n",
       "YEARS_EMPLOYED                                                          -0.041597  \n",
       "CNT_FAM_MEMBERS                                                         -0.012034  \n",
       "STATUS                                                                   0.009741  \n",
       "CODE_GENDER_F                                                           -0.037732  \n",
       "CODE_GENDER_M                                                            0.037732  \n",
       "FLAG_OWN_CAR_N                                                           0.001235  \n",
       "FLAG_OWN_CAR_Y                                                          -0.001235  \n",
       "FLAG_OWN_REALTY_N                                                        0.138033  \n",
       "FLAG_OWN_REALTY_Y                                                       -0.138033  \n",
       "NAME_INCOME_TYPE_Commercial associate                                    0.016662  \n",
       "NAME_INCOME_TYPE_Pensioner                                              -0.088611  \n",
       "NAME_INCOME_TYPE_State servant                                           0.017310  \n",
       "NAME_INCOME_TYPE_Student                                                 0.021930  \n",
       "NAME_INCOME_TYPE_Working                                                 0.039543  \n",
       "NAME_EDUCATION_TYPE_Academic degree                                     -0.006055  \n",
       "NAME_EDUCATION_TYPE_Higher education                                     0.024226  \n",
       "NAME_EDUCATION_TYPE_Incomplete higher                                    0.077122  \n",
       "NAME_EDUCATION_TYPE_Lower secondary                                     -0.000857  \n",
       "NAME_EDUCATION_TYPE_Secondary / secondary special                       -0.054937  \n",
       "NAME_FAMILY_STATUS_Civil marriage                                        0.035832  \n",
       "NAME_FAMILY_STATUS_Married                                              -0.066790  \n",
       "NAME_FAMILY_STATUS_Separated                                             0.005244  \n",
       "NAME_FAMILY_STATUS_Single / not married                                  0.082410  \n",
       "NAME_FAMILY_STATUS_Widow                                                -0.044324  \n",
       "NAME_HOUSING_TYPE_Co-op apartment                                       -0.013388  \n",
       "NAME_HOUSING_TYPE_House / apartment                                     -0.639627  \n",
       "NAME_HOUSING_TYPE_Municipal apartment                                   -0.042741  \n",
       "NAME_HOUSING_TYPE_Office apartment                                      -0.020837  \n",
       "NAME_HOUSING_TYPE_Rented apartment                                      -0.027866  \n",
       "NAME_HOUSING_TYPE_With parents                                           1.000000  \n",
       "\n",
       "[33 rows x 33 columns]"
      ]
     },
     "execution_count": 87,
     "metadata": {},
     "output_type": "execute_result"
    }
   ],
   "source": [
    "final_df.corr()"
   ]
  },
  {
   "cell_type": "code",
   "execution_count": 88,
   "id": "666457e1",
   "metadata": {},
   "outputs": [],
   "source": [
    "X = final_df.drop(['STATUS'], axis=1)\n",
    "y = final_df['STATUS']"
   ]
  },
  {
   "cell_type": "code",
   "execution_count": 89,
   "id": "2f91b39b",
   "metadata": {},
   "outputs": [
    {
     "data": {
      "text/html": [
       "<div>\n",
       "<style scoped>\n",
       "    .dataframe tbody tr th:only-of-type {\n",
       "        vertical-align: middle;\n",
       "    }\n",
       "\n",
       "    .dataframe tbody tr th {\n",
       "        vertical-align: top;\n",
       "    }\n",
       "\n",
       "    .dataframe thead th {\n",
       "        text-align: right;\n",
       "    }\n",
       "</style>\n",
       "<table border=\"1\" class=\"dataframe\">\n",
       "  <thead>\n",
       "    <tr style=\"text-align: right;\">\n",
       "      <th></th>\n",
       "      <th>CNT_CHILDREN</th>\n",
       "      <th>AMT_INCOME_TOTAL</th>\n",
       "      <th>AGE_YEARS</th>\n",
       "      <th>YEARS_EMPLOYED</th>\n",
       "      <th>CNT_FAM_MEMBERS</th>\n",
       "      <th>CODE_GENDER_F</th>\n",
       "      <th>CODE_GENDER_M</th>\n",
       "      <th>FLAG_OWN_CAR_N</th>\n",
       "      <th>FLAG_OWN_CAR_Y</th>\n",
       "      <th>FLAG_OWN_REALTY_N</th>\n",
       "      <th>...</th>\n",
       "      <th>NAME_FAMILY_STATUS_Married</th>\n",
       "      <th>NAME_FAMILY_STATUS_Separated</th>\n",
       "      <th>NAME_FAMILY_STATUS_Single / not married</th>\n",
       "      <th>NAME_FAMILY_STATUS_Widow</th>\n",
       "      <th>NAME_HOUSING_TYPE_Co-op apartment</th>\n",
       "      <th>NAME_HOUSING_TYPE_House / apartment</th>\n",
       "      <th>NAME_HOUSING_TYPE_Municipal apartment</th>\n",
       "      <th>NAME_HOUSING_TYPE_Office apartment</th>\n",
       "      <th>NAME_HOUSING_TYPE_Rented apartment</th>\n",
       "      <th>NAME_HOUSING_TYPE_With parents</th>\n",
       "    </tr>\n",
       "  </thead>\n",
       "  <tbody>\n",
       "    <tr>\n",
       "      <th>0</th>\n",
       "      <td>0</td>\n",
       "      <td>427500.0</td>\n",
       "      <td>33.0</td>\n",
       "      <td>12.0</td>\n",
       "      <td>2</td>\n",
       "      <td>0</td>\n",
       "      <td>1</td>\n",
       "      <td>0</td>\n",
       "      <td>1</td>\n",
       "      <td>0</td>\n",
       "      <td>...</td>\n",
       "      <td>0</td>\n",
       "      <td>0</td>\n",
       "      <td>0</td>\n",
       "      <td>0</td>\n",
       "      <td>0</td>\n",
       "      <td>0</td>\n",
       "      <td>0</td>\n",
       "      <td>0</td>\n",
       "      <td>1</td>\n",
       "      <td>0</td>\n",
       "    </tr>\n",
       "    <tr>\n",
       "      <th>1</th>\n",
       "      <td>0</td>\n",
       "      <td>112500.0</td>\n",
       "      <td>59.0</td>\n",
       "      <td>3.0</td>\n",
       "      <td>2</td>\n",
       "      <td>0</td>\n",
       "      <td>1</td>\n",
       "      <td>0</td>\n",
       "      <td>1</td>\n",
       "      <td>0</td>\n",
       "      <td>...</td>\n",
       "      <td>1</td>\n",
       "      <td>0</td>\n",
       "      <td>0</td>\n",
       "      <td>0</td>\n",
       "      <td>0</td>\n",
       "      <td>1</td>\n",
       "      <td>0</td>\n",
       "      <td>0</td>\n",
       "      <td>0</td>\n",
       "      <td>0</td>\n",
       "    </tr>\n",
       "    <tr>\n",
       "      <th>2</th>\n",
       "      <td>0</td>\n",
       "      <td>270000.0</td>\n",
       "      <td>52.0</td>\n",
       "      <td>8.0</td>\n",
       "      <td>1</td>\n",
       "      <td>1</td>\n",
       "      <td>0</td>\n",
       "      <td>1</td>\n",
       "      <td>0</td>\n",
       "      <td>0</td>\n",
       "      <td>...</td>\n",
       "      <td>0</td>\n",
       "      <td>0</td>\n",
       "      <td>1</td>\n",
       "      <td>0</td>\n",
       "      <td>0</td>\n",
       "      <td>1</td>\n",
       "      <td>0</td>\n",
       "      <td>0</td>\n",
       "      <td>0</td>\n",
       "      <td>0</td>\n",
       "    </tr>\n",
       "    <tr>\n",
       "      <th>3</th>\n",
       "      <td>0</td>\n",
       "      <td>283500.0</td>\n",
       "      <td>62.0</td>\n",
       "      <td>0.0</td>\n",
       "      <td>1</td>\n",
       "      <td>1</td>\n",
       "      <td>0</td>\n",
       "      <td>1</td>\n",
       "      <td>0</td>\n",
       "      <td>0</td>\n",
       "      <td>...</td>\n",
       "      <td>0</td>\n",
       "      <td>1</td>\n",
       "      <td>0</td>\n",
       "      <td>0</td>\n",
       "      <td>0</td>\n",
       "      <td>1</td>\n",
       "      <td>0</td>\n",
       "      <td>0</td>\n",
       "      <td>0</td>\n",
       "      <td>0</td>\n",
       "    </tr>\n",
       "    <tr>\n",
       "      <th>4</th>\n",
       "      <td>0</td>\n",
       "      <td>270000.0</td>\n",
       "      <td>46.0</td>\n",
       "      <td>2.0</td>\n",
       "      <td>2</td>\n",
       "      <td>0</td>\n",
       "      <td>1</td>\n",
       "      <td>0</td>\n",
       "      <td>1</td>\n",
       "      <td>0</td>\n",
       "      <td>...</td>\n",
       "      <td>1</td>\n",
       "      <td>0</td>\n",
       "      <td>0</td>\n",
       "      <td>0</td>\n",
       "      <td>0</td>\n",
       "      <td>1</td>\n",
       "      <td>0</td>\n",
       "      <td>0</td>\n",
       "      <td>0</td>\n",
       "      <td>0</td>\n",
       "    </tr>\n",
       "  </tbody>\n",
       "</table>\n",
       "<p>5 rows × 32 columns</p>\n",
       "</div>"
      ],
      "text/plain": [
       "   CNT_CHILDREN  AMT_INCOME_TOTAL  AGE_YEARS  YEARS_EMPLOYED  CNT_FAM_MEMBERS  \\\n",
       "0             0          427500.0       33.0            12.0                2   \n",
       "1             0          112500.0       59.0             3.0                2   \n",
       "2             0          270000.0       52.0             8.0                1   \n",
       "3             0          283500.0       62.0             0.0                1   \n",
       "4             0          270000.0       46.0             2.0                2   \n",
       "\n",
       "   CODE_GENDER_F  CODE_GENDER_M  FLAG_OWN_CAR_N  FLAG_OWN_CAR_Y  \\\n",
       "0              0              1               0               1   \n",
       "1              0              1               0               1   \n",
       "2              1              0               1               0   \n",
       "3              1              0               1               0   \n",
       "4              0              1               0               1   \n",
       "\n",
       "   FLAG_OWN_REALTY_N  ...  NAME_FAMILY_STATUS_Married  \\\n",
       "0                  0  ...                           0   \n",
       "1                  0  ...                           1   \n",
       "2                  0  ...                           0   \n",
       "3                  0  ...                           0   \n",
       "4                  0  ...                           1   \n",
       "\n",
       "   NAME_FAMILY_STATUS_Separated  NAME_FAMILY_STATUS_Single / not married  \\\n",
       "0                             0                                        0   \n",
       "1                             0                                        0   \n",
       "2                             0                                        1   \n",
       "3                             1                                        0   \n",
       "4                             0                                        0   \n",
       "\n",
       "   NAME_FAMILY_STATUS_Widow  NAME_HOUSING_TYPE_Co-op apartment  \\\n",
       "0                         0                                  0   \n",
       "1                         0                                  0   \n",
       "2                         0                                  0   \n",
       "3                         0                                  0   \n",
       "4                         0                                  0   \n",
       "\n",
       "   NAME_HOUSING_TYPE_House / apartment  NAME_HOUSING_TYPE_Municipal apartment  \\\n",
       "0                                    0                                      0   \n",
       "1                                    1                                      0   \n",
       "2                                    1                                      0   \n",
       "3                                    1                                      0   \n",
       "4                                    1                                      0   \n",
       "\n",
       "   NAME_HOUSING_TYPE_Office apartment  NAME_HOUSING_TYPE_Rented apartment  \\\n",
       "0                                   0                                   1   \n",
       "1                                   0                                   0   \n",
       "2                                   0                                   0   \n",
       "3                                   0                                   0   \n",
       "4                                   0                                   0   \n",
       "\n",
       "   NAME_HOUSING_TYPE_With parents  \n",
       "0                               0  \n",
       "1                               0  \n",
       "2                               0  \n",
       "3                               0  \n",
       "4                               0  \n",
       "\n",
       "[5 rows x 32 columns]"
      ]
     },
     "execution_count": 89,
     "metadata": {},
     "output_type": "execute_result"
    }
   ],
   "source": [
    "X.head()"
   ]
  },
  {
   "cell_type": "code",
   "execution_count": 90,
   "id": "7e56aa09",
   "metadata": {},
   "outputs": [
    {
     "data": {
      "text/plain": [
       "0    1\n",
       "1    0\n",
       "2    0\n",
       "3    0\n",
       "4    0\n",
       "Name: STATUS, dtype: int32"
      ]
     },
     "execution_count": 90,
     "metadata": {},
     "output_type": "execute_result"
    }
   ],
   "source": [
    "y.head()"
   ]
  },
  {
   "cell_type": "markdown",
   "id": "dd0044d3",
   "metadata": {},
   "source": [
    "## Splitting data"
   ]
  },
  {
   "cell_type": "code",
   "execution_count": 91,
   "id": "2013cbba",
   "metadata": {},
   "outputs": [],
   "source": [
    "from sklearn.model_selection import train_test_split\n",
    "X_train, X_test, y_train, y_test = train_test_split(X,y,test_size=0.2,random_state = 10)"
   ]
  },
  {
   "cell_type": "markdown",
   "id": "1dc823d5",
   "metadata": {},
   "source": [
    "## Feature Scaling and Balancing data"
   ]
  },
  {
   "cell_type": "code",
   "execution_count": 92,
   "id": "3d261809",
   "metadata": {},
   "outputs": [],
   "source": [
    "# scaling all features using Normalization\n",
    "from sklearn.preprocessing import MinMaxScaler\n",
    "MMS = MinMaxScaler()\n",
    "X_train_scaled = pd.DataFrame(MMS.fit_transform(X_train), columns=X_train.columns)\n",
    "X_test_scaled = pd.DataFrame(MMS.transform(X_test), columns=X_test.columns)"
   ]
  },
  {
   "cell_type": "code",
   "execution_count": 93,
   "id": "bf42626f",
   "metadata": {},
   "outputs": [
    {
     "name": "stdout",
     "output_type": "stream",
     "text": [
      "Requirement already satisfied: imbalanced-learn in c:\\users\\sai sowmya\\anaconda3\\lib\\site-packages (0.8.0)\n",
      "Requirement already satisfied: scikit-learn>=0.24 in c:\\users\\sai sowmya\\anaconda3\\lib\\site-packages (from imbalanced-learn) (0.24.1)\n",
      "Requirement already satisfied: scipy>=0.19.1 in c:\\users\\sai sowmya\\anaconda3\\lib\\site-packages (from imbalanced-learn) (1.6.2)\n",
      "Requirement already satisfied: numpy>=1.13.3 in c:\\users\\sai sowmya\\anaconda3\\lib\\site-packages (from imbalanced-learn) (1.19.5)\n",
      "Requirement already satisfied: joblib>=0.11 in c:\\users\\sai sowmya\\anaconda3\\lib\\site-packages (from imbalanced-learn) (1.0.1)\n",
      "Requirement already satisfied: threadpoolctl>=2.0.0 in c:\\users\\sai sowmya\\anaconda3\\lib\\site-packages (from scikit-learn>=0.24->imbalanced-learn) (2.1.0)\n"
     ]
    }
   ],
   "source": [
    "! pip install -U imbalanced-learn"
   ]
  },
  {
   "cell_type": "code",
   "execution_count": 94,
   "id": "c6490cb0",
   "metadata": {},
   "outputs": [],
   "source": [
    "# adding samples to minority class using SMOTE\n",
    "from imblearn.over_sampling import SMOTE\n",
    "oversample = SMOTE()\n",
    "\n",
    "X_train_oversam, y_train_oversam = oversample.fit_resample(X_train_scaled, y_train)\n",
    "X_test_oversam, y_test_oversam = oversample.fit_resample(X_test_scaled, y_test)"
   ]
  },
  {
   "cell_type": "code",
   "execution_count": 95,
   "id": "faf1d34f",
   "metadata": {},
   "outputs": [
    {
     "data": {
      "text/plain": [
       "0    78.430929\n",
       "1    21.569071\n",
       "Name: STATUS, dtype: float64"
      ]
     },
     "execution_count": 95,
     "metadata": {},
     "output_type": "execute_result"
    }
   ],
   "source": [
    "# Original majority and minority class\n",
    "y_train.value_counts(normalize=True)*100"
   ]
  },
  {
   "cell_type": "code",
   "execution_count": 96,
   "id": "abb8fe52",
   "metadata": {},
   "outputs": [
    {
     "data": {
      "text/plain": [
       "0    50.0\n",
       "1    50.0\n",
       "Name: STATUS, dtype: float64"
      ]
     },
     "execution_count": 96,
     "metadata": {},
     "output_type": "execute_result"
    }
   ],
   "source": [
    "# after using SMOTE \n",
    "y_train_oversam.value_counts(normalize=True)*100"
   ]
  },
  {
   "cell_type": "markdown",
   "id": "37121856",
   "metadata": {},
   "source": [
    "## Model Evaluation"
   ]
  },
  {
   "cell_type": "markdown",
   "id": "f6cf1a4a",
   "metadata": {},
   "source": [
    "## Logistic Regression"
   ]
  },
  {
   "cell_type": "code",
   "execution_count": 97,
   "id": "e8620d5f",
   "metadata": {},
   "outputs": [],
   "source": [
    "from sklearn.linear_model import LogisticRegression\n",
    "from sklearn.metrics import classification_report, accuracy_score, confusion_matrix"
   ]
  },
  {
   "cell_type": "code",
   "execution_count": 98,
   "id": "47f8030c",
   "metadata": {},
   "outputs": [
    {
     "name": "stderr",
     "output_type": "stream",
     "text": [
      "C:\\Users\\SAI SOWMYA\\Anaconda3\\lib\\site-packages\\sklearn\\linear_model\\_logistic.py:763: ConvergenceWarning: lbfgs failed to converge (status=1):\n",
      "STOP: TOTAL NO. of ITERATIONS REACHED LIMIT.\n",
      "\n",
      "Increase the number of iterations (max_iter) or scale the data as shown in:\n",
      "    https://scikit-learn.org/stable/modules/preprocessing.html\n",
      "Please also refer to the documentation for alternative solver options:\n",
      "    https://scikit-learn.org/stable/modules/linear_model.html#logistic-regression\n",
      "  n_iter_i = _check_optimize_result(\n"
     ]
    },
    {
     "data": {
      "text/plain": [
       "LogisticRegression()"
      ]
     },
     "execution_count": 98,
     "metadata": {},
     "output_type": "execute_result"
    }
   ],
   "source": [
    "log_model = LogisticRegression()\n",
    "log_model.fit(X_train_oversam, y_train_oversam)"
   ]
  },
  {
   "cell_type": "code",
   "execution_count": 99,
   "id": "b1f6155e",
   "metadata": {},
   "outputs": [],
   "source": [
    "y_pred=log_model.predict(X_test_oversam)"
   ]
  },
  {
   "cell_type": "code",
   "execution_count": 100,
   "id": "e399d9e5",
   "metadata": {},
   "outputs": [
    {
     "data": {
      "text/plain": [
       "0.5166284403669725"
      ]
     },
     "execution_count": 100,
     "metadata": {},
     "output_type": "execute_result"
    }
   ],
   "source": [
    "accuracy_score(y_test_oversam,y_pred)"
   ]
  },
  {
   "cell_type": "code",
   "execution_count": 101,
   "id": "9f2f4e9f",
   "metadata": {},
   "outputs": [
    {
     "name": "stdout",
     "output_type": "stream",
     "text": [
      "[[930 814]\n",
      " [872 872]]\n"
     ]
    }
   ],
   "source": [
    "print(confusion_matrix(y_test_oversam,y_pred))"
   ]
  },
  {
   "cell_type": "code",
   "execution_count": 102,
   "id": "0866f6fe",
   "metadata": {},
   "outputs": [
    {
     "name": "stdout",
     "output_type": "stream",
     "text": [
      "              precision    recall  f1-score   support\n",
      "\n",
      "           0       0.52      0.53      0.52      1744\n",
      "           1       0.52      0.50      0.51      1744\n",
      "\n",
      "    accuracy                           0.52      3488\n",
      "   macro avg       0.52      0.52      0.52      3488\n",
      "weighted avg       0.52      0.52      0.52      3488\n",
      "\n"
     ]
    }
   ],
   "source": [
    "print(classification_report(y_test_oversam,y_pred))"
   ]
  },
  {
   "cell_type": "markdown",
   "id": "d3c12bbb",
   "metadata": {},
   "source": [
    "# Decision Tree classification"
   ]
  },
  {
   "cell_type": "code",
   "execution_count": 103,
   "id": "a680155b",
   "metadata": {},
   "outputs": [
    {
     "data": {
      "text/plain": [
       "DecisionTreeClassifier(max_depth=12, min_samples_split=8)"
      ]
     },
     "execution_count": 103,
     "metadata": {},
     "output_type": "execute_result"
    }
   ],
   "source": [
    "from sklearn.tree import DecisionTreeClassifier\n",
    "\n",
    "decision_model = DecisionTreeClassifier(max_depth=12,min_samples_split=8)\n",
    "\n",
    "decision_model.fit(X_train_oversam, y_train_oversam)"
   ]
  },
  {
   "cell_type": "code",
   "execution_count": 104,
   "id": "163a4dc7",
   "metadata": {},
   "outputs": [],
   "source": [
    "y_pred = decision_model.predict(X_test_oversam)"
   ]
  },
  {
   "cell_type": "code",
   "execution_count": 105,
   "id": "289a8da7",
   "metadata": {},
   "outputs": [
    {
     "data": {
      "text/plain": [
       "0.7485665137614679"
      ]
     },
     "execution_count": 105,
     "metadata": {},
     "output_type": "execute_result"
    }
   ],
   "source": [
    "accuracy_score(y_test_oversam,y_pred)"
   ]
  },
  {
   "cell_type": "code",
   "execution_count": 106,
   "id": "e3d8517f",
   "metadata": {},
   "outputs": [
    {
     "name": "stdout",
     "output_type": "stream",
     "text": [
      "[[1593  151]\n",
      " [ 726 1018]]\n"
     ]
    }
   ],
   "source": [
    "print(confusion_matrix(y_test_oversam,y_pred))"
   ]
  },
  {
   "cell_type": "code",
   "execution_count": 107,
   "id": "ef89555b",
   "metadata": {},
   "outputs": [
    {
     "name": "stdout",
     "output_type": "stream",
     "text": [
      "              precision    recall  f1-score   support\n",
      "\n",
      "           0       0.69      0.91      0.78      1744\n",
      "           1       0.87      0.58      0.70      1744\n",
      "\n",
      "    accuracy                           0.75      3488\n",
      "   macro avg       0.78      0.75      0.74      3488\n",
      "weighted avg       0.78      0.75      0.74      3488\n",
      "\n"
     ]
    }
   ],
   "source": [
    "print(classification_report(y_test_oversam,y_pred))"
   ]
  },
  {
   "cell_type": "markdown",
   "id": "31119e98",
   "metadata": {},
   "source": [
    "# Support Vector Machine classification"
   ]
  },
  {
   "cell_type": "code",
   "execution_count": 108,
   "id": "97a6f43c",
   "metadata": {},
   "outputs": [
    {
     "data": {
      "text/plain": [
       "SVC()"
      ]
     },
     "execution_count": 108,
     "metadata": {},
     "output_type": "execute_result"
    }
   ],
   "source": [
    "from sklearn.svm import SVC\n",
    "\n",
    "svc_model = SVC()\n",
    "\n",
    "svc_model.fit(X_train_oversam, y_train_oversam)"
   ]
  },
  {
   "cell_type": "code",
   "execution_count": 109,
   "id": "107a90f3",
   "metadata": {},
   "outputs": [],
   "source": [
    "y_pred = svc_model.predict(X_test_oversam)"
   ]
  },
  {
   "cell_type": "code",
   "execution_count": 110,
   "id": "61b4acf2",
   "metadata": {},
   "outputs": [
    {
     "data": {
      "text/plain": [
       "0.5513188073394495"
      ]
     },
     "execution_count": 110,
     "metadata": {},
     "output_type": "execute_result"
    }
   ],
   "source": [
    "accuracy_score(y_test_oversam,y_pred)"
   ]
  },
  {
   "cell_type": "code",
   "execution_count": 111,
   "id": "eb93daec",
   "metadata": {},
   "outputs": [
    {
     "name": "stdout",
     "output_type": "stream",
     "text": [
      "[[ 889  855]\n",
      " [ 710 1034]]\n"
     ]
    }
   ],
   "source": [
    "print(confusion_matrix(y_test_oversam,y_pred))"
   ]
  },
  {
   "cell_type": "code",
   "execution_count": 112,
   "id": "e4b13a1b",
   "metadata": {},
   "outputs": [
    {
     "name": "stdout",
     "output_type": "stream",
     "text": [
      "              precision    recall  f1-score   support\n",
      "\n",
      "           0       0.56      0.51      0.53      1744\n",
      "           1       0.55      0.59      0.57      1744\n",
      "\n",
      "    accuracy                           0.55      3488\n",
      "   macro avg       0.55      0.55      0.55      3488\n",
      "weighted avg       0.55      0.55      0.55      3488\n",
      "\n"
     ]
    }
   ],
   "source": [
    "print(classification_report(y_test_oversam,y_pred))"
   ]
  },
  {
   "cell_type": "markdown",
   "id": "0aaee930",
   "metadata": {},
   "source": [
    "# K Nearest Neighbor classification"
   ]
  },
  {
   "cell_type": "code",
   "execution_count": 143,
   "id": "b1ac4e0d",
   "metadata": {},
   "outputs": [
    {
     "data": {
      "text/plain": [
       "KNeighborsClassifier(n_neighbors=7)"
      ]
     },
     "execution_count": 143,
     "metadata": {},
     "output_type": "execute_result"
    }
   ],
   "source": [
    "from sklearn.neighbors import KNeighborsClassifier\n",
    "\n",
    "knn_model = KNeighborsClassifier(n_neighbors =7)\n",
    "\n",
    "knn_model.fit(X_train_oversam, y_train_oversam)"
   ]
  },
  {
   "cell_type": "code",
   "execution_count": 144,
   "id": "8b9992a7",
   "metadata": {},
   "outputs": [],
   "source": [
    "y_pred = knn_model.predict(X_test_oversam)"
   ]
  },
  {
   "cell_type": "code",
   "execution_count": 145,
   "id": "807d9a32",
   "metadata": {},
   "outputs": [
    {
     "data": {
      "text/plain": [
       "0.45756880733944955"
      ]
     },
     "execution_count": 145,
     "metadata": {},
     "output_type": "execute_result"
    }
   ],
   "source": [
    "accuracy_score(y_test_oversam,y_pred)"
   ]
  },
  {
   "cell_type": "code",
   "execution_count": 146,
   "id": "e4d09301",
   "metadata": {},
   "outputs": [
    {
     "name": "stdout",
     "output_type": "stream",
     "text": [
      "[[ 906  838]\n",
      " [1054  690]]\n"
     ]
    }
   ],
   "source": [
    "print(confusion_matrix(y_test_oversam,y_pred))"
   ]
  },
  {
   "cell_type": "code",
   "execution_count": 147,
   "id": "967d1e00",
   "metadata": {},
   "outputs": [
    {
     "name": "stdout",
     "output_type": "stream",
     "text": [
      "              precision    recall  f1-score   support\n",
      "\n",
      "           0       0.46      0.52      0.49      1744\n",
      "           1       0.45      0.40      0.42      1744\n",
      "\n",
      "    accuracy                           0.46      3488\n",
      "   macro avg       0.46      0.46      0.46      3488\n",
      "weighted avg       0.46      0.46      0.46      3488\n",
      "\n"
     ]
    }
   ],
   "source": [
    "print(classification_report(y_test_oversam,y_pred))"
   ]
  },
  {
   "cell_type": "markdown",
   "id": "a531043b",
   "metadata": {},
   "source": [
    "## Random Forest Model"
   ]
  },
  {
   "cell_type": "code",
   "execution_count": 118,
   "id": "0a176a6f",
   "metadata": {},
   "outputs": [
    {
     "data": {
      "text/plain": [
       "RandomForestClassifier(max_depth=12, min_samples_leaf=16, n_estimators=250)"
      ]
     },
     "execution_count": 118,
     "metadata": {},
     "output_type": "execute_result"
    }
   ],
   "source": [
    "from sklearn.ensemble import RandomForestClassifier  \n",
    "classifier= RandomForestClassifier(n_estimators=250,\n",
    "                                            max_depth=12,\n",
    "                                            min_samples_leaf=16) \n",
    "classifier.fit(X_train_oversam, y_train_oversam)  "
   ]
  },
  {
   "cell_type": "code",
   "execution_count": 119,
   "id": "0960cf13",
   "metadata": {},
   "outputs": [],
   "source": [
    "y_pred =classifier.predict(X_test_oversam)"
   ]
  },
  {
   "cell_type": "code",
   "execution_count": 120,
   "id": "e439f48f",
   "metadata": {},
   "outputs": [
    {
     "data": {
      "text/plain": [
       "0.7210435779816514"
      ]
     },
     "execution_count": 120,
     "metadata": {},
     "output_type": "execute_result"
    }
   ],
   "source": [
    "accuracy_score(y_test_oversam,y_pred)"
   ]
  },
  {
   "cell_type": "code",
   "execution_count": 121,
   "id": "3a466db5",
   "metadata": {},
   "outputs": [
    {
     "name": "stdout",
     "output_type": "stream",
     "text": [
      "[[1308  436]\n",
      " [ 537 1207]]\n"
     ]
    }
   ],
   "source": [
    "print(confusion_matrix(y_test_oversam,y_pred))"
   ]
  },
  {
   "cell_type": "code",
   "execution_count": 122,
   "id": "c0b6b6aa",
   "metadata": {},
   "outputs": [
    {
     "name": "stdout",
     "output_type": "stream",
     "text": [
      "              precision    recall  f1-score   support\n",
      "\n",
      "           0       0.71      0.75      0.73      1744\n",
      "           1       0.73      0.69      0.71      1744\n",
      "\n",
      "    accuracy                           0.72      3488\n",
      "   macro avg       0.72      0.72      0.72      3488\n",
      "weighted avg       0.72      0.72      0.72      3488\n",
      "\n"
     ]
    }
   ],
   "source": [
    "print(classification_report(y_test_oversam,y_pred))"
   ]
  },
  {
   "cell_type": "markdown",
   "id": "21795522",
   "metadata": {},
   "source": [
    "## XGBOOST Model"
   ]
  },
  {
   "cell_type": "code",
   "execution_count": 123,
   "id": "b4189c78",
   "metadata": {},
   "outputs": [
    {
     "name": "stderr",
     "output_type": "stream",
     "text": [
      "C:\\Users\\SAI SOWMYA\\Anaconda3\\lib\\site-packages\\xgboost\\sklearn.py:1146: UserWarning: The use of label encoder in XGBClassifier is deprecated and will be removed in a future release. To remove this warning, do the following: 1) Pass option use_label_encoder=False when constructing XGBClassifier object; and 2) Encode your labels (y) as integers starting with 0, i.e. 0, 1, 2, ..., [num_class - 1].\n",
      "  warnings.warn(label_encoder_deprecation_msg, UserWarning)\n"
     ]
    },
    {
     "name": "stdout",
     "output_type": "stream",
     "text": [
      "[10:48:18] WARNING: C:/Users/Administrator/workspace/xgboost-win64_release_1.4.0/src/learner.cc:1095: Starting in XGBoost 1.3.0, the default evaluation metric used with the objective 'binary:logistic' was changed from 'error' to 'logloss'. Explicitly set eval_metric if you'd like to restore the old behavior.\n"
     ]
    },
    {
     "data": {
      "text/plain": [
       "XGBClassifier(base_score=0.5, booster='gbtree', colsample_bylevel=1,\n",
       "              colsample_bynode=1, colsample_bytree=1, gamma=0, gpu_id=-1,\n",
       "              importance_type='gain', interaction_constraints='',\n",
       "              learning_rate=0.300000012, max_delta_step=0, max_depth=6,\n",
       "              min_child_weight=1, missing=nan, monotone_constraints='()',\n",
       "              n_estimators=100, n_jobs=8, num_parallel_tree=1, random_state=0,\n",
       "              reg_alpha=0, reg_lambda=1, scale_pos_weight=1, subsample=1,\n",
       "              tree_method='exact', validate_parameters=1, verbosity=None)"
      ]
     },
     "execution_count": 123,
     "metadata": {},
     "output_type": "execute_result"
    }
   ],
   "source": [
    "from xgboost import XGBClassifier\n",
    "XGB_model = XGBClassifier()\n",
    "XGB_model.fit(X_train_oversam, y_train_oversam)"
   ]
  },
  {
   "cell_type": "code",
   "execution_count": 124,
   "id": "39d638f4",
   "metadata": {},
   "outputs": [],
   "source": [
    "y_pred =XGB_model.predict(X_test_oversam)"
   ]
  },
  {
   "cell_type": "code",
   "execution_count": 125,
   "id": "9fe91e20",
   "metadata": {},
   "outputs": [
    {
     "data": {
      "text/plain": [
       "0.836295871559633"
      ]
     },
     "execution_count": 125,
     "metadata": {},
     "output_type": "execute_result"
    }
   ],
   "source": [
    "accuracy_score(y_test_oversam,y_pred)"
   ]
  },
  {
   "cell_type": "code",
   "execution_count": 126,
   "id": "41137815",
   "metadata": {},
   "outputs": [
    {
     "name": "stdout",
     "output_type": "stream",
     "text": [
      "[[1631  113]\n",
      " [ 458 1286]]\n"
     ]
    }
   ],
   "source": [
    "print(confusion_matrix(y_test_oversam,y_pred))"
   ]
  },
  {
   "cell_type": "code",
   "execution_count": 127,
   "id": "65a0ba6a",
   "metadata": {},
   "outputs": [
    {
     "name": "stdout",
     "output_type": "stream",
     "text": [
      "              precision    recall  f1-score   support\n",
      "\n",
      "           0       0.78      0.94      0.85      1744\n",
      "           1       0.92      0.74      0.82      1744\n",
      "\n",
      "    accuracy                           0.84      3488\n",
      "   macro avg       0.85      0.84      0.83      3488\n",
      "weighted avg       0.85      0.84      0.83      3488\n",
      "\n"
     ]
    }
   ],
   "source": [
    "print(classification_report(y_test_oversam,y_pred))"
   ]
  },
  {
   "cell_type": "markdown",
   "id": "43b1d862",
   "metadata": {},
   "source": [
    "## Conclusion:\n",
    "## Accuracy Scores:\n",
    "    Logistic Regression: 51%\n",
    "    Decision Tree Classification: 67%\n",
    "    Support Vector Machine: 55%\n",
    "    K Nearest Neighbour: 46%\n",
    "    Random Forest Model: 71%\n",
    "    XGBOOST Model: 84%\n",
    "   \n",
    " As we have seen that, XGBoost Model is giving highest accuracy of 84%, hence we will use XGBoost Model for predicion"
   ]
  },
  {
   "cell_type": "code",
   "execution_count": null,
   "id": "7e78c06a",
   "metadata": {},
   "outputs": [],
   "source": []
  }
 ],
 "metadata": {
  "kernelspec": {
   "display_name": "Python 3",
   "language": "python",
   "name": "python3"
  },
  "language_info": {
   "codemirror_mode": {
    "name": "ipython",
    "version": 3
   },
   "file_extension": ".py",
   "mimetype": "text/x-python",
   "name": "python",
   "nbconvert_exporter": "python",
   "pygments_lexer": "ipython3",
   "version": "3.8.8"
  }
 },
 "nbformat": 4,
 "nbformat_minor": 5
}
